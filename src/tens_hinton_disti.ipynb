{
  "cells": [
    {
      "cell_type": "code",
      "execution_count": null,
      "metadata": {
        "colab": {
          "base_uri": "https://localhost:8080/"
        },
        "id": "hJYw8wfzOBhA",
        "outputId": "6b762f16-5662-4de0-98cb-c3899372cc20"
      },
      "outputs": [],
      "source": [
        "!pip install \"git+https://github.com/jemisjoky/TorchMPS.git\"\n",
        "!pip install \"git+https://github.com/rballester/tntorch.git\"\n",
        "import tntorch as tn\n",
        "import torch\n",
        "import torch.nn as nn\n",
        "import torchvision\n",
        "import torchvision.transforms as transforms\n",
        "!pip install torchmetrics\n",
        "from torchmetrics.classification import MulticlassAccuracy\n",
        "from torchmps import MPS"
      ]
    },
    {
      "cell_type": "code",
      "execution_count": null,
      "metadata": {},
      "outputs": [],
      "source": [
        "# Hardware hyperparameters\n",
        "chosen_device = torch.device('cuda' \n",
        "if torch.cuda.is_available() else 'cpu')\n",
        "\n",
        "# Data hyperparameters\n",
        "nb_train = 2000\n",
        "nb_test = 500\n",
        "chosen_bs = 150\n",
        "\n",
        "# Teacher hyperparameters\n",
        "chosen_device = torch.device('cuda' if torch.cuda.is_available() else 'cpu')\n",
        "n_epochs_fcnn = 15\n",
        "hidden_size = 70\n",
        "chosen_loss = nn.CrossEntropyLoss()\n",
        "#Optimizer parameters\n",
        "chosen_lr = 0.001\n",
        "chosen_momentum = 0.9\n",
        "\n",
        "# Student hyperparameters\n",
        "# MPS parameters\n",
        "bond_dim = 20\n",
        "adaptive_mode = False\n",
        "periodic_bc = False\n",
        "# Training parameters\n",
        "gn_var = 0.3 #added gaussian noise variance\n",
        "gn_mean = 0 #added gaussian noise mean\n",
        "n_epochs_lmps = 18\n",
        "mps_learn_rate = 0.0001\n",
        "mps_reg = 0.0\n",
        "mps_chosen_loss = nn.CrossEntropyLoss().to(chosen_device)"
      ]
    },
    {
      "cell_type": "code",
      "execution_count": null,
      "metadata": {
        "id": "34pmpVgSOBhB"
      },
      "outputs": [],
      "source": [
        "# Import the mnist dataset\n",
        "train_set = torchvision.datasets.MNIST(root = './datasets', train = True,   \n",
        "    transform = transforms.ToTensor(),  download = True )\n",
        "\n",
        "train_subset = torch.utils.data.SubsetRandomSampler(range(nb_train))\n",
        "\n",
        "train_iterator = torch.utils.data.DataLoader(dataset = train_set, \n",
        "    sampler = train_subset, batch_size=chosen_bs)\n",
        "\n",
        "\n",
        "test_set = torchvision.datasets.MNIST(root = './datasets',\n",
        " train = False, transform = transforms.ToTensor(),  download = True)\n",
        "\n",
        "test_subset = torch.utils.data.SubsetRandomSampler(range(nb_test))\n",
        "\n",
        "test_iterator = torch.utils.data.DataLoader(dataset = test_set, \n",
        "    sampler = test_subset, batch_size = chosen_bs)"
      ]
    },
    {
      "cell_type": "code",
      "execution_count": null,
      "metadata": {
        "colab": {
          "base_uri": "https://localhost:8080/"
        },
        "id": "WfoH7MNKOBhC",
        "outputId": "37791a01-9236-4ce7-c63f-aefb4c11572a"
      },
      "outputs": [],
      "source": [
        "\n",
        "# Create the fcnn class\n",
        "class FCNN(nn.Module):\n",
        "    def __init__(self):\n",
        "        super(FCNN, self).__init__()\n",
        "        self.lin1 = nn.Linear(784, hidden_size)\n",
        "        self.relu1 = nn.ReLU()\n",
        "\n",
        "        self.lin2 = nn.Linear(hidden_size, hidden_size)\n",
        "        self.relu2 = nn.ReLU()\n",
        "\n",
        "        self.lin3 = nn.Linear(hidden_size, hidden_size)\n",
        "        self.relu3 = nn.ReLU()\n",
        "\n",
        "        self.lin4 = nn.Linear(hidden_size, hidden_size)\n",
        "        self.relu4 = nn.ReLU()\n",
        "\n",
        "        self.lin5 = nn.Linear(hidden_size, hidden_size)\n",
        "        self.relu5 = nn.ReLU()\n",
        "\n",
        "        self.lin6 = nn.Linear(hidden_size, 10)\n",
        "\n",
        "    def forward(self, x):\n",
        "        y = self.lin1(x)\n",
        "        y = self.relu1(y)\n",
        "\n",
        "        y = self.lin2(y)\n",
        "        y = self.relu2(y)\n",
        "\n",
        "        y = self.lin3(y)\n",
        "        y = self.relu3(y)\n",
        "\n",
        "        y = self.lin4(y)\n",
        "        y = self.relu4(y)\n",
        "\n",
        "        y = self.lin5(y)\n",
        "        y = self.relu5(y)\n",
        "\n",
        "        y = self.lin6(y)\n",
        "        return y\n",
        "\n",
        "#Instantiate and put the model on the chosen device\n",
        "fcnn_teacher = FCNN().to(chosen_device)\n",
        "\n",
        "#Instantiate the optimizer\n",
        "optimizer = torch.optim.Adam(fcnn_teacher.parameters())\n",
        "\n",
        "#Training loop\n",
        "for epoch in range(n_epochs_fcnn):\n",
        "    for (x_mb, y_mb) in train_iterator:\n",
        "\n",
        "        # Reshape the train_tuple and put on the chosen device\n",
        "        x_mb = x_mb.reshape(-1, 784).to(chosen_device)\n",
        "        y_mb = y_mb.to(chosen_device)\n",
        "\n",
        "        # Foward propagation\n",
        "        y_hat_mb = fcnn_teacher(x_mb)\n",
        "        loss = chosen_loss(y_hat_mb, y_mb)\n",
        "\n",
        "        # Backpropagation\n",
        "        loss.backward()\n",
        "        optimizer.step()\n",
        "        optimizer.zero_grad()\n",
        "\n",
        "    print(loss.item())\n",
        "\n",
        "# get accuracy\n",
        "for (x_mb, y_mb) in test_iterator:\n",
        "    print(\"testing teacher\")\n",
        "    print(MulticlassAccuracy(num_classes=10)(fcnn_teacher(x_mb.reshape(-1, 784)), y_mb))\n",
        "\n"
      ]
    },
    {
      "cell_type": "code",
      "execution_count": null,
      "metadata": {
        "colab": {
          "base_uri": "https://localhost:8080/"
        },
        "id": "ZKdeyavpUl2B",
        "outputId": "2e1f245e-ca31-4ff4-ca2c-27ae5aef09e3"
      },
      "outputs": [],
      "source": [
        "\n",
        "# Initialize the MPS module\n",
        "mps_student = MPS(\n",
        "    input_dim=28 ** 2,\n",
        "    output_dim=10,\n",
        "    bond_dim=bond_dim,\n",
        "    adaptive_mode=adaptive_mode,\n",
        "    periodic_bc=periodic_bc,\n",
        ").to(chosen_device)\n",
        "\n",
        "# Instantiate the optimizer and softmax\n",
        "lmps_optimizer = torch.optim.Adam(mps_student.parameters(), lr = mps_learn_rate,\n",
        "                                  weight_decay = mps_reg)\n",
        "softmax = nn.Softmax(dim=1)\n",
        "\n",
        "# Training loop \n",
        "for epoch in range(n_epochs_lmps):\n",
        "    for (x_mb, _) in train_iterator:\n",
        "        # Reshape, add gaussian noise, put on the chosen device\n",
        "        x_mb = x_mb.reshape(-1, 784).to(chosen_device)\n",
        "        x_mb = (x_mb + torch.randn(size=x_mb.size())).to(chosen_device)\n",
        "\n",
        "        # Get softmax of output of teacher\n",
        "        y_mb = (softmax(fcnn_teacher(x_mb))).to(chosen_device)\n",
        "\n",
        "        # Foward propagation\n",
        "        y_hat_mb = mps_student(x_mb)\n",
        "        loss = mps_chosen_loss(y_hat_mb, y_mb)\n",
        "\n",
        "        # Backpropagation\n",
        "        loss.backward()\n",
        "        lmps_optimizer.step()\n",
        "        lmps_optimizer.zero_grad()\n",
        "\n",
        "    print(loss.item())\n",
        "\n",
        "\n",
        "# get accuracy\n",
        "for (x_mb, y_mb) in test_iterator:\n",
        "    print(\"testing teacher\")\n",
        "    print(MulticlassAccuracy(num_classes=10)(mps_student(x_mb.reshape(-1, 784)), y_mb))\n"
      ]
    }
  ],
  "metadata": {
    "accelerator": "TPU",
    "colab": {
      "provenance": []
    },
    "gpuClass": "standard",
    "kernelspec": {
      "display_name": "base",
      "language": "python",
      "name": "python3"
    },
    "language_info": {
      "codemirror_mode": {
        "name": "ipython",
        "version": 3
      },
      "file_extension": ".py",
      "mimetype": "text/x-python",
      "name": "python",
      "nbconvert_exporter": "python",
      "pygments_lexer": "ipython3",
      "version": "3.10.8"
    },
    "orig_nbformat": 4,
    "vscode": {
      "interpreter": {
        "hash": "67bfac4f4aefe1c16f1836a62d55b6e6baa7aba1ac5ce70e93ee8e90eb4f073a"
      }
    }
  },
  "nbformat": 4,
  "nbformat_minor": 0
}

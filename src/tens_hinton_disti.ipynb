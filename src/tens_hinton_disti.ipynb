{
  "cells": [
    {
      "cell_type": "markdown",
      "metadata": {
        "id": "F0wVYgBBOBg4"
      },
      "source": [
        "First, we need to add the current folder to the PYTHONPATH in the code with the absolute location for the torchMPS library!"
      ]
    },
    {
      "cell_type": "code",
      "execution_count": null,
      "metadata": {
        "id": "NF9KcrnCOBg9"
      },
      "outputs": [],
      "source": [
        "import sys\n",
        "sys.path.append(r\"C:\\Users\\piche\\Documents\\dereck_codebase\\udem_code\\ift_4055\\honor_project\\src\\TorchMPS-main\")"
      ]
    },
    {
      "cell_type": "code",
      "execution_count": null,
      "metadata": {
        "id": "hJYw8wfzOBhA"
      },
      "outputs": [],
      "source": [
        "import torch\n",
        "import torch.nn as nn\n",
        "import torchvision\n",
        "import torchvision.transforms as transforms\n",
        "from torchmps import MPS"
      ]
    },
    {
      "cell_type": "markdown",
      "metadata": {
        "id": "iFkaf51GOBhA"
      },
      "source": [
        "Now, let us first build a fully connected simple layer by layer approach to the procedure. "
      ]
    },
    {
      "cell_type": "markdown",
      "metadata": {
        "id": "VdxEdsuLOBhB"
      },
      "source": [
        "We shall use the classic MNIST dataset in order to train our the FCNN, which "
      ]
    },
    {
      "cell_type": "code",
      "execution_count": null,
      "metadata": {
        "id": "tDfdaWvdOBhB"
      },
      "outputs": [],
      "source": [
        "# Pick the hyperparameters for the FCNN\n",
        "chosen_device = torch.device('cuda' if torch.cuda.is_available() else 'cpu')\n",
        "n_epochs_fcnn = 1\n",
        "chosen_bs = 150\n",
        "chosen_loss = nn.CrossEntropyLoss()\n",
        "#Optimizer parameters\n",
        "chosen_lr = 0.001\n",
        "chosen_momentum = 0.9"
      ]
    },
    {
      "cell_type": "code",
      "execution_count": null,
      "metadata": {
        "id": "34pmpVgSOBhB"
      },
      "outputs": [],
      "source": [
        "# Import the mnist dataset\n",
        "train_set = torchvision.datasets.MNIST(root = './datasets', train = True, transform = transforms.ToTensor(),  download = True )\n",
        "train_iterator = torch.utils.data.DataLoader(dataset = train_set, batch_size=chosen_bs, shuffle=True)\n",
        "\n",
        "test_set = torchvision.datasets.MNIST(root = './datasets', train = False, transform = transforms.ToTensor(),  download = True)\n",
        "test_iterator = torch.utils.data.DataLoader(dataset = test_set, batch_size= chosen_bs)\n"
      ]
    },
    {
      "cell_type": "code",
      "execution_count": null,
      "metadata": {
        "id": "WfoH7MNKOBhC",
        "outputId": "15544450-6114-4fb5-8a1e-2ab9248c2a62"
      },
      "outputs": [],
      "source": [
        "class FCNN(nn.Module):\n",
        "    def __init__(self):\n",
        "        super(FCNN, self).__init__()\n",
        "        self.lin1 = nn.Linear(784, 40)\n",
        "        self.relu1 = nn.ReLU()\n",
        "        self.lin2 = nn.Linear(40, 40)\n",
        "        self.relu2 = nn.ReLU()\n",
        "        self.lin3 = nn.Linear(40, 10)\n",
        "    def forward(self, x):\n",
        "        y = self.lin1(x)\n",
        "        y = self.relu1(y)\n",
        "        y = self.lin2(y)\n",
        "        y = self.relu2(y)\n",
        "        y = self.lin3(y)\n",
        "        return y\n",
        "\n",
        "#Instantiate and put the model on the chosen device\n",
        "fcnn_teacher = FCNN().to(chosen_device)\n",
        "\n",
        "#Instantiate the optimizer\n",
        "optimizer = torch.optim.SGD(fcnn_teacher.parameters(), lr=chosen_lr, momentum=chosen_momentum)\n",
        "\n",
        "#Training loop\n",
        "for epoch in range(n_epochs_fcnn):\n",
        "    for i, (x_mb, y_mb) in enumerate(train_iterator):\n",
        "\n",
        "        # Reshape the train_tuple and put on the chosen device\n",
        "        x_mb = x_mb.reshape(-1, 784).to(chosen_device)\n",
        "        y_mb = y_mb.to(chosen_device)\n",
        "\n",
        "        # Foward propagation\n",
        "        y_hat_mb = fcnn_teacher(x_mb)\n",
        "        loss = chosen_loss(y_hat_mb, y_mb)\n",
        "\n",
        "        # Backpropagation\n",
        "        loss.backward()\n",
        "        optimizer.step()\n",
        "        optimizer.zero_grad()\n",
        "\n",
        "        if (i % 1000 == 0):\n",
        "            print(loss.item())\n"
      ]
    },
    {
      "cell_type": "markdown",
      "metadata": {
        "id": "Rk_gttfaOBhD"
      },
      "source": [
        "This was taken straight from the website "
      ]
    },
    {
      "cell_type": "code",
      "execution_count": null,
      "metadata": {
        "id": "1qdmJHD1OBhD",
        "outputId": "87e8ac47-2201-451f-a4be-d181df7cdc39"
      },
      "outputs": [],
      "source": [
        "\n",
        "with torch.no_grad():\n",
        "    acc_count = 0\n",
        "    for (x_mb, y_mb) in test_iterator:\n",
        "        x_mb = x_mb.reshape(-1, 784).to(chosen_device)\n",
        "        y_mb = y_mb.to(chosen_device)\n",
        "\n",
        "        y_mb_hat = fcnn_teacher(x_mb) #predict\n",
        "\n",
        "        (wedontcare, y_mb_hat_class) = torch.max(y_mb_hat, 1)\n",
        "        acc_count += (y_mb_hat_class == y_mb).sum().item()\n",
        "\n",
        "    print(\"Accuracy: \" + str(100* acc_count / len(test_iterator.dataset)))"
      ]
    }
  ],
  "metadata": {
    "colab": {
      "provenance": []
    },
    "kernelspec": {
      "display_name": "base",
      "language": "python",
      "name": "python3"
    },
    "language_info": {
      "codemirror_mode": {
        "name": "ipython",
        "version": 3
      },
      "file_extension": ".py",
      "mimetype": "text/x-python",
      "name": "python",
      "nbconvert_exporter": "python",
      "pygments_lexer": "ipython3",
      "version": "3.10.8"
    },
    "orig_nbformat": 4,
    "vscode": {
      "interpreter": {
        "hash": "67bfac4f4aefe1c16f1836a62d55b6e6baa7aba1ac5ce70e93ee8e90eb4f073a"
      }
    }
  },
  "nbformat": 4,
  "nbformat_minor": 0
}

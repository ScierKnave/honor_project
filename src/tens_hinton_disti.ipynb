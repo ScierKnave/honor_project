{
  "cells": [
    {
      "cell_type": "code",
      "execution_count": null,
      "metadata": {
        "id": "hJYw8wfzOBhA"
      },
      "outputs": [],
      "source": [
        "!pip install \"git+https://github.com/jemisjoky/TorchMPS.git\"\n",
        "!pip install \"git+https://github.com/rballester/tntorch.git\"\n",
        "import tntorch as tn\n",
        "import torch\n",
        "import torch.nn as nn\n",
        "import torchvision\n",
        "import torchvision.transforms as transforms\n",
        "!pip install torchmetrics\n",
        "from torchmetrics.classification import MulticlassAccuracy\n",
        "from torchmps import MPS"
      ]
    },
    {
      "cell_type": "code",
      "execution_count": null,
      "metadata": {
        "id": "34pmpVgSOBhB"
      },
      "outputs": [],
      "source": [
        "# Get the data\n",
        "\n",
        "# Data hyperparameters\n",
        "nb_train = 200\n",
        "nb_test = 50\n",
        "chosen_bs = 100\n",
        "\n",
        "# Import the mnist dataset\n",
        "train_set = torchvision.datasets.MNIST(root = './datasets', train = True,    transform = transforms.ToTensor(),  download = True )\n",
        "\n",
        "train_subset = torch.utils.data.SubsetRandomSampler(range(nb_train))\n",
        "\n",
        "train_iterator = torch.utils.data.DataLoader(dataset = train_set, sampler = train_subset, batch_size=chosen_bs)\n",
        "\n",
        "\n",
        "test_set = torchvision.datasets.MNIST(root = './datasets', train = False, transform = transforms.ToTensor(),  download = True)\n",
        "\n",
        "test_subset = torch.utils.data.SubsetRandomSampler(range(nb_test))\n",
        "\n",
        "test_iterator = torch.utils.data.DataLoader(dataset = test_set, sampler = test_subset, batch_size = chosen_bs)"
      ]
    },
    {
      "cell_type": "code",
      "execution_count": null,
      "metadata": {
        "id": "WfoH7MNKOBhC"
      },
      "outputs": [],
      "source": [
        "# Create and train the FCNN\n",
        "\n",
        "# Pick the hyperparameters for the FCNN\n",
        "chosen_device = torch.device('cuda' if torch.cuda.is_available() else 'cpu')\n",
        "n_epochs_fcnn = 1\n",
        "hidden_size = 70\n",
        "chosen_loss = nn.CrossEntropyLoss()\n",
        "#Optimizer parameters\n",
        "chosen_lr = 0.001\n",
        "chosen_momentum = 0.9\n",
        "\n",
        "\n",
        "# Instantiate the fcnn\n",
        "class FCNN(nn.Module):\n",
        "    def __init__(self):\n",
        "        super(FCNN, self).__init__()\n",
        "        self.lin1 = nn.Linear(784, hidden_size)\n",
        "        self.relu1 = nn.ReLU()\n",
        "\n",
        "        self.lin2 = nn.Linear(hidden_size, hidden_size)\n",
        "        self.relu2 = nn.ReLU()\n",
        "\n",
        "        self.lin3 = nn.Linear(hidden_size, hidden_size)\n",
        "        self.relu3 = nn.ReLU()\n",
        "\n",
        "        self.lin4 = nn.Linear(hidden_size, hidden_size)\n",
        "        self.relu4 = nn.ReLU()\n",
        "\n",
        "        self.lin5 = nn.Linear(hidden_size, hidden_size)\n",
        "        self.relu5 = nn.ReLU()\n",
        "\n",
        "        self.lin6 = nn.Linear(hidden_size, 10)\n",
        "\n",
        "    def forward(self, x):\n",
        "        y = self.lin1(x)\n",
        "        y = self.relu1(y)\n",
        "\n",
        "        y = self.lin2(y)\n",
        "        y = self.relu2(y)\n",
        "\n",
        "        y = self.lin3(y)\n",
        "        y = self.relu3(y)\n",
        "\n",
        "        y = self.lin4(y)\n",
        "        y = self.relu4(y)\n",
        "\n",
        "        y = self.lin5(y)\n",
        "        y = self.relu5(y)\n",
        "\n",
        "        y = self.lin6(y)\n",
        "        return y\n",
        "\n",
        "#Instantiate and put the model on the chosen device\n",
        "fcnn_teacher = FCNN().to(chosen_device)\n",
        "\n",
        "#Instantiate the optimizer\n",
        "optimizer = torch.optim.Adam(fcnn_teacher.parameters())\n",
        "\n",
        "#Training loop\n",
        "for epoch in range(n_epochs_fcnn):\n",
        "    for (x_mb, y_mb) in train_iterator:\n",
        "\n",
        "        # Reshape the train_tuple and put on the chosen device\n",
        "        x_mb = x_mb.reshape(-1, 784).to(chosen_device)\n",
        "        y_mb = y_mb.to(chosen_device)\n",
        "\n",
        "        # Foward propagation\n",
        "        y_hat_mb = fcnn_teacher(x_mb)\n",
        "        loss = chosen_loss(y_hat_mb, y_mb)\n",
        "\n",
        "        # Backpropagation\n",
        "        loss.backward()\n",
        "        optimizer.step()\n",
        "        optimizer.zero_grad()\n",
        "\n",
        "    print(loss.item())\n",
        "\n",
        "# get accuracy\n",
        "for (x_mb, y_mb) in test_iterator:\n",
        "    print(\"testing teacher\")\n",
        "    print(MulticlassAccuracy(num_classes=10)(fcnn_teacher(x_mb.reshape(-1, 784)), y_mb))\n",
        "\n"
      ]
    },
    {
      "cell_type": "code",
      "execution_count": null,
      "metadata": {
        "id": "1qdmJHD1OBhD"
      },
      "outputs": [],
      "source": [
        "# Print the accuracy of the fcnn\n",
        "with torch.no_grad():\n",
        "    acc_count = 0\n",
        "    for (x_mb, y_mb) in test_iterator:\n",
        "        x_mb = x_mb.reshape(-1, 784).to(chosen_device)\n",
        "        y_mb = y_mb.to(chosen_device)\n",
        "\n",
        "        y_mb_hat = fcnn_teacher(x_mb) #predict\n",
        "\n",
        "        (wedontcare, y_mb_hat_class) = torch.max(y_mb_hat, 1)\n",
        "        acc_count += (y_mb_hat_class == y_mb).sum().item()\n",
        "\n",
        "    print(\"Accuracy: \" + str(100* acc_count / len(test_iterator.dataset)))"
      ]
    },
    {
      "cell_type": "code",
      "execution_count": null,
      "metadata": {
        "id": "ZKdeyavpUl2B",
        "outputId": "9dfc6777-9061-4f32-e70d-8028b66eb18a"
      },
      "outputs": [
        {
          "ename": "AttributeError",
          "evalue": "'Tensor' object has no attribute 'asType'",
          "output_type": "error",
          "traceback": [
            "\u001b[1;31m---------------------------------------------------------------------------\u001b[0m",
            "\u001b[1;31mAttributeError\u001b[0m                            Traceback (most recent call last)",
            "Cell \u001b[1;32mIn[63], line 18\u001b[0m\n\u001b[0;32m     15\u001b[0m \u001b[39m# Initialize the MPS module\u001b[39;00m\n\u001b[0;32m     16\u001b[0m mps_student \u001b[39m=\u001b[39m tn\u001b[39m.\u001b[39mrand([nticks]\u001b[39m*\u001b[39m\u001b[39m784\u001b[39m \u001b[39m+\u001b[39m [nb_classes], \n\u001b[0;32m     17\u001b[0m ranks_tt\u001b[39m=\u001b[39m\u001b[39m10\u001b[39m, ranks_tucker\u001b[39m=\u001b[39m\u001b[39m6\u001b[39m, requires_grad\u001b[39m=\u001b[39m\u001b[39mTrue\u001b[39;00m)\u001b[39m.\u001b[39mto(chosen_device)\n\u001b[1;32m---> 18\u001b[0m mps_student \u001b[39m=\u001b[39m mps_student\u001b[39m.\u001b[39;49masType(torch\u001b[39m.\u001b[39mfloat)\n\u001b[0;32m     19\u001b[0m mps_student\u001b[39m.\u001b[39mset_factors(\u001b[39m'\u001b[39m\u001b[39mdct\u001b[39m\u001b[39m'\u001b[39m, dim\u001b[39m=\u001b[39m\u001b[39mrange\u001b[39m(nb_classes))\n\u001b[0;32m     22\u001b[0m \u001b[39m# Instantiate the optimizer and softmax\u001b[39;00m\n",
            "\u001b[1;31mAttributeError\u001b[0m: 'Tensor' object has no attribute 'asType'"
          ]
        }
      ],
      "source": [
        "# Create and train the MPS\n",
        "# MPS parameters\n",
        "bond_dim = 20\n",
        "adaptive_mode = False\n",
        "periodic_bc = False\n",
        "\n",
        "# Training parameters\n",
        "gn_var = 0.3 #gaussian noise variance\n",
        "gn_mean = 0 #gaussiane noise mean\n",
        "n_epochs_lmps = 15\n",
        "learn_rate = 0.001\n",
        "l2_reg = 0.0\n",
        "chosen_loss = nn.CrossEntropyLoss()\n",
        "\n",
        "# Initialize the MPS module\n",
        "mps_student = MPS(\n",
        "    input_dim=28 ** 2,\n",
        "    output_dim=10,\n",
        "    bond_dim=bond_dim,\n",
        "    adaptive_mode=adaptive_mode,\n",
        "    periodic_bc=periodic_bc,\n",
        ").to(chosen_device)\n",
        "\n",
        "# Instantiate the optimizer and softmax\n",
        "lmps_optimizer = torch.optim.Adam(mps_student.parameters())\n",
        "softmax = nn.Softmax(dim=1)\n",
        "\n",
        "# Training loop \n",
        "for epoch in range(n_epochs_lmps):\n",
        "    for (x_mb, _) in train_iterator:\n",
        "        # Reshape, add gaussian noise, put on the chosen device\n",
        "        x_mb = x_mb.reshape(-1, 784).to(chosen_device)\n",
        "        # x_mb = (x_mb + torch.randn(size=x_mb.size())).to(chosen_device)\n",
        "\n",
        "        # Get softmax of output of teacher\n",
        "        y_mb = (softmax(fcnn_teacher(x_mb))).to(chosen_device)\n",
        "\n",
        "        # Foward propagation\n",
        "        y_hat_mb = mps_student(x_mb)\n",
        "        loss = chosen_loss(y_hat_mb, y_mb)\n",
        "\n",
        "        # Backpropagation\n",
        "        loss.backward()\n",
        "        lmps_optimizer.step()\n",
        "        lmps_optimizer.zero_grad()\n",
        "\n",
        "    print(loss.item())\n",
        "\n",
        "\n",
        "\n",
        "\n",
        "# get accuracy\n",
        "for (x_mb, y_mb) in test_iterator:\n",
        "    print(\"testing teacher\")\n",
        "    print(MulticlassAccuracy(num_classes=10)(mps_student(x_mb.reshape(-1, 784)), y_mb))\n"
      ]
    },
    {
      "cell_type": "markdown",
      "metadata": {
        "id": "P1MvkbQvUl2D"
      },
      "source": []
    },
    {
      "cell_type": "markdown",
      "metadata": {
        "id": "59_7sNlPUl2I"
      },
      "source": [
        "- Fix non negative values\n",
        "\n",
        "https://github.com/jemisjoky/TorchMPS/blob/main/train_script.py\n",
        "\n",
        "he uses the max to get his function!"
      ]
    }
  ],
  "metadata": {
    "colab": {
      "provenance": []
    },
    "kernelspec": {
      "display_name": "base",
      "language": "python",
      "name": "python3"
    },
    "language_info": {
      "codemirror_mode": {
        "name": "ipython",
        "version": 3
      },
      "file_extension": ".py",
      "mimetype": "text/x-python",
      "name": "python",
      "nbconvert_exporter": "python",
      "pygments_lexer": "ipython3",
      "version": "3.10.8"
    },
    "orig_nbformat": 4,
    "vscode": {
      "interpreter": {
        "hash": "67bfac4f4aefe1c16f1836a62d55b6e6baa7aba1ac5ce70e93ee8e90eb4f073a"
      }
    }
  },
  "nbformat": 4,
  "nbformat_minor": 0
}
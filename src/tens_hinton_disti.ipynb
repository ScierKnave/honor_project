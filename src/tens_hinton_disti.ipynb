{
  "cells": [
    {
      "cell_type": "code",
      "execution_count": 17,
      "metadata": {
        "id": "hJYw8wfzOBhA"
      },
      "outputs": [
        {
          "name": "stdout",
          "output_type": "stream",
          "text": [
            "Defaulting to user installation because normal site-packages is not writeable\n",
            "Collecting git+https://github.com/jemisjoky/TorchMPS.git\n",
            "  Cloning https://github.com/jemisjoky/TorchMPS.git to c:\\users\\piche\\appdata\\local\\temp\\pip-req-build-sfbgpf7l\n",
            "  Resolved https://github.com/jemisjoky/TorchMPS.git to commit 6c0bc1a8e2c15acba8570ca9ffe2b4a0c7135165\n",
            "  Preparing metadata (setup.py): started\n",
            "  Preparing metadata (setup.py): finished with status 'done'\n",
            "Requirement already satisfied: torch>=1.8.1 in c:\\programdata\\miniconda3\\lib\\site-packages (from torchmps==0.1.0) (1.13.1)\n",
            "Requirement already satisfied: opt_einsum>=3.3.0 in c:\\users\\piche\\appdata\\roaming\\python\\python310\\site-packages (from torchmps==0.1.0) (3.3.0)\n",
            "Requirement already satisfied: numpy>=1.7 in c:\\programdata\\miniconda3\\lib\\site-packages (from opt_einsum>=3.3.0->torchmps==0.1.0) (1.23.5)\n",
            "Requirement already satisfied: typing_extensions in c:\\programdata\\miniconda3\\lib\\site-packages (from torch>=1.8.1->torchmps==0.1.0) (4.4.0)\n"
          ]
        },
        {
          "name": "stderr",
          "output_type": "stream",
          "text": [
            "  Running command git clone --filter=blob:none --quiet https://github.com/jemisjoky/TorchMPS.git 'C:\\Users\\piche\\AppData\\Local\\Temp\\pip-req-build-sfbgpf7l'\n"
          ]
        }
      ],
      "source": [
        "!pip install \"git+https://github.com/jemisjoky/TorchMPS.git\"\n",
        "import torch\n",
        "import torch.nn as nn\n",
        "import torchvision\n",
        "import torchvision.transforms as transforms\n",
        "from torchmps import MPS"
      ]
    },
    {
      "cell_type": "code",
      "execution_count": 18,
      "metadata": {
        "id": "34pmpVgSOBhB"
      },
      "outputs": [],
      "source": [
        "# Get the data\n",
        "\n",
        "# Data hyperparameters\n",
        "nb_train = 200\n",
        "nb_test = 50\n",
        "chosen_bs = 100\n",
        "\n",
        "# Import the mnist dataset\n",
        "train_set = torchvision.datasets.MNIST(root = './datasets', train = True,    transform = transforms.ToTensor(),  download = True )\n",
        "\n",
        "train_subset = torch.utils.data.SubsetRandomSampler(range(nb_train))\n",
        "\n",
        "train_iterator = torch.utils.data.DataLoader(dataset = train_set, sampler = train_subset, batch_size=chosen_bs)\n",
        "\n",
        "\n",
        "test_set = torchvision.datasets.MNIST(root = './datasets', train = False, transform = transforms.ToTensor(),  download = True)\n",
        "\n",
        "test_subset = torch.utils.data.SubsetRandomSampler(range(nb_test))\n",
        "\n",
        "test_iterator = torch.utils.data.DataLoader(dataset = test_set, sampler = test_subset, batch_size = chosen_bs)"
      ]
    },
    {
      "cell_type": "code",
      "execution_count": 19,
      "metadata": {
        "id": "WfoH7MNKOBhC",
        "outputId": "15544450-6114-4fb5-8a1e-2ab9248c2a62"
      },
      "outputs": [
        {
          "name": "stdout",
          "output_type": "stream",
          "text": [
            "2.3106789588928223\n"
          ]
        }
      ],
      "source": [
        "# Create and train the FCNN\n",
        "\n",
        "# Pick the hyperparameters for the FCNN\n",
        "chosen_device = torch.device('cuda' if torch.cuda.is_available() else 'cpu')\n",
        "n_epochs_fcnn = 1\n",
        "hidden_size = 70\n",
        "chosen_loss = nn.CrossEntropyLoss()\n",
        "#Optimizer parameters\n",
        "chosen_lr = 0.001\n",
        "chosen_momentum = 0.9\n",
        "\n",
        "\n",
        "# Instantiate the fcnn\n",
        "class FCNN(nn.Module):\n",
        "    def __init__(self):\n",
        "        super(FCNN, self).__init__()\n",
        "        self.lin1 = nn.Linear(784, hidden_size)\n",
        "        self.relu1 = nn.ReLU()\n",
        "\n",
        "        self.lin2 = nn.Linear(hidden_size, hidden_size)\n",
        "        self.relu2 = nn.ReLU()\n",
        "\n",
        "        self.lin3 = nn.Linear(hidden_size, hidden_size)\n",
        "        self.relu3 = nn.ReLU()\n",
        "\n",
        "        self.lin4 = nn.Linear(hidden_size, hidden_size)\n",
        "        self.relu4 = nn.ReLU()\n",
        "\n",
        "        self.lin5 = nn.Linear(hidden_size, hidden_size)\n",
        "        self.relu5 = nn.ReLU()\n",
        "\n",
        "        self.lin6 = nn.Linear(hidden_size, 10)\n",
        "\n",
        "    def forward(self, x):\n",
        "        y = self.lin1(x)\n",
        "        y = self.relu1(y)\n",
        "\n",
        "        y = self.lin2(y)\n",
        "        y = self.relu2(y)\n",
        "\n",
        "        y = self.lin3(y)\n",
        "        y = self.relu3(y)\n",
        "\n",
        "        y = self.lin4(y)\n",
        "        y = self.relu4(y)\n",
        "\n",
        "        y = self.lin5(y)\n",
        "        y = self.relu5(y)\n",
        "\n",
        "        y = self.lin6(y)\n",
        "        return y\n",
        "\n",
        "#Instantiate and put the model on the chosen device\n",
        "fcnn_teacher = FCNN().to(chosen_device)\n",
        "\n",
        "#Instantiate the optimizer\n",
        "optimizer = torch.optim.Adam(fcnn_teacher.parameters())\n",
        "\n",
        "#Training loop\n",
        "for epoch in range(n_epochs_fcnn):\n",
        "    for (x_mb, y_mb) in train_iterator:\n",
        "\n",
        "        # Reshape the train_tuple and put on the chosen device\n",
        "        x_mb = x_mb.reshape(-1, 784).to(chosen_device)\n",
        "        y_mb = y_mb.to(chosen_device)\n",
        "\n",
        "        # Foward propagation\n",
        "        y_hat_mb = fcnn_teacher(x_mb)\n",
        "        loss = chosen_loss(y_hat_mb, y_mb)\n",
        "\n",
        "        # Backpropagation\n",
        "        loss.backward()\n",
        "        optimizer.step()\n",
        "        optimizer.zero_grad()\n",
        "\n",
        "    print(loss.item())\n"
      ]
    },
    {
      "cell_type": "code",
      "execution_count": 20,
      "metadata": {
        "id": "1qdmJHD1OBhD",
        "outputId": "87e8ac47-2201-451f-a4be-d181df7cdc39"
      },
      "outputs": [
        {
          "name": "stdout",
          "output_type": "stream",
          "text": [
            "Accuracy: 0.04\n"
          ]
        }
      ],
      "source": [
        "# Print the accuracy of the fcnn\n",
        "with torch.no_grad():\n",
        "    acc_count = 0\n",
        "    for (x_mb, y_mb) in test_iterator:\n",
        "        x_mb = x_mb.reshape(-1, 784).to(chosen_device)\n",
        "        y_mb = y_mb.to(chosen_device)\n",
        "\n",
        "        y_mb_hat = fcnn_teacher(x_mb) #predict\n",
        "\n",
        "        (wedontcare, y_mb_hat_class) = torch.max(y_mb_hat, 1)\n",
        "        acc_count += (y_mb_hat_class == y_mb).sum().item()\n",
        "\n",
        "    print(\"Accuracy: \" + str(100* acc_count / len(test_iterator.dataset)))"
      ]
    },
    {
      "cell_type": "code",
      "execution_count": 22,
      "metadata": {},
      "outputs": [
        {
          "name": "stdout",
          "output_type": "stream",
          "text": [
            "0.1187450960278511\n",
            "-11056513.0\n",
            "-1081133060063232.0\n",
            "-9.06428508217769e+22\n",
            "-1.515134673565195e+23\n",
            "-1.8227739428150077e+23\n",
            "-1.9374319864481587e+23\n",
            "-2.3888223727799506e+23\n",
            "-1.6773667620780518e+23\n",
            "-1.7521448905788817e+23\n",
            "-1.8006720772837243e+23\n",
            "-2.126213875628275e+23\n",
            "-1.9448872452713078e+23\n",
            "-1.934338013504155e+23\n",
            "-2.3065891655999567e+23\n",
            "Accuracy: 0.05\n"
          ]
        }
      ],
      "source": [
        "# Create and train the MPS\n",
        "# MPS parameters\n",
        "bond_dim = 20\n",
        "adaptive_mode = False\n",
        "periodic_bc = False\n",
        "\n",
        "# Training parameters\n",
        "gn_var = 0.3 #gaussian noise variance\n",
        "gn_mean = 0 #gaussiane noise mean\n",
        "n_epochs_lmps = 15\n",
        "learn_rate = 0.0001\n",
        "l2_reg = 0.0\n",
        "chosen_loss = nn.CrossEntropyLoss()\n",
        "\n",
        "# Initialize the MPS module\n",
        "mps_student = MPS(\n",
        "    input_dim=28 ** 2,\n",
        "    output_dim=10,\n",
        "    bond_dim=bond_dim,\n",
        "    adaptive_mode=adaptive_mode,\n",
        "    periodic_bc=periodic_bc,\n",
        ").to(chosen_device)\n",
        "\n",
        "#Instantiate the optimizer\n",
        "lmps_optimizer = torch.optim.Adam(mps_student.parameters())\n",
        "\n",
        "#Training loop\n",
        "for epoch in range(n_epochs_lmps):\n",
        "    for (x_mb, _) in train_iterator:\n",
        "        # Reshape the train_tuple and put on the chosen device\n",
        "        x_mb = x_mb.reshape(-1, 784).to(chosen_device)\n",
        "        x_mb = x_mb + torch.randn(size=x_mb.size()).to(chosen_device) #add gaussian noise to inputs\n",
        "        x_mb = x_mb.to(chosen_device)\n",
        "        y_mb = fcnn_teacher(x_mb).to(chosen_device)\n",
        "\n",
        "        # Foward propagation\n",
        "        y_hat_mb = mps_student(x_mb)\n",
        "        loss = chosen_loss(y_hat_mb, y_mb)\n",
        "\n",
        "        # Backpropagation\n",
        "        loss.backward()\n",
        "        lmps_optimizer.step()\n",
        "        lmps_optimizer.zero_grad()\n",
        "\n",
        "    print(loss.item())\n",
        "\n",
        "# Print the accuracy of the mps_student\n",
        "with torch.no_grad():\n",
        "    acc_count = 0\n",
        "    for (x_mb, y_mb) in test_iterator:\n",
        "        x_mb = x_mb.reshape(-1, 784).to(chosen_device)\n",
        "        y_mb = y_mb.to(chosen_device)\n",
        "\n",
        "        y_mb_hat = mps_student(x_mb) #predict\n",
        "\n",
        "        (wedontcare, y_mb_hat_class) = torch.max(y_mb_hat, 1)\n",
        "        acc_count += (y_mb_hat_class == y_mb).sum().item()\n",
        "\n",
        "    print(\"Accuracy: \" + str(100* acc_count / len(test_iterator.dataset)))\n"
      ]
    }
  ],
  "metadata": {
    "colab": {
      "provenance": []
    },
    "kernelspec": {
      "display_name": "base",
      "language": "python",
      "name": "python3"
    },
    "language_info": {
      "codemirror_mode": {
        "name": "ipython",
        "version": 3
      },
      "file_extension": ".py",
      "mimetype": "text/x-python",
      "name": "python",
      "nbconvert_exporter": "python",
      "pygments_lexer": "ipython3",
      "version": "3.10.8"
    },
    "orig_nbformat": 4,
    "vscode": {
      "interpreter": {
        "hash": "67bfac4f4aefe1c16f1836a62d55b6e6baa7aba1ac5ce70e93ee8e90eb4f073a"
      }
    }
  },
  "nbformat": 4,
  "nbformat_minor": 0
}

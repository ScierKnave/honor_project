{
 "cells": [
  {
   "attachments": {},
   "cell_type": "markdown",
   "metadata": {},
   "source": [
    "First, we need to add the current folder to the PYTHONPATH in the code with the absolute location for the torchMPS library! wd"
   ]
  },
  {
   "cell_type": "code",
   "execution_count": 1,
   "metadata": {},
   "outputs": [
    {
     "name": "stderr",
     "output_type": "stream",
     "text": [
      "  Running command git clone --filter=blob:none --quiet https://github.com/jemisjoky/TorchMPS.git 'C:\\Users\\piche\\AppData\\Local\\Temp\\pip-req-build-y5bj_tq7'\n"
     ]
    },
    {
     "name": "stdout",
     "output_type": "stream",
     "text": [
      "Defaulting to user installation because normal site-packages is not writeable\n",
      "Collecting git+https://github.com/jemisjoky/TorchMPS.git\n",
      "  Cloning https://github.com/jemisjoky/TorchMPS.git to c:\\users\\piche\\appdata\\local\\temp\\pip-req-build-y5bj_tq7\n",
      "  Resolved https://github.com/jemisjoky/TorchMPS.git to commit 6c0bc1a8e2c15acba8570ca9ffe2b4a0c7135165\n",
      "  Preparing metadata (setup.py): started\n",
      "  Preparing metadata (setup.py): finished with status 'done'\n",
      "Requirement already satisfied: torch>=1.8.1 in c:\\programdata\\miniconda3\\lib\\site-packages (from torchmps==0.1.0) (1.13.1)\n",
      "Collecting opt_einsum>=3.3.0\n",
      "  Using cached opt_einsum-3.3.0-py3-none-any.whl (65 kB)\n",
      "Requirement already satisfied: numpy>=1.7 in c:\\programdata\\miniconda3\\lib\\site-packages (from opt_einsum>=3.3.0->torchmps==0.1.0) (1.23.5)\n",
      "Requirement already satisfied: typing_extensions in c:\\programdata\\miniconda3\\lib\\site-packages (from torch>=1.8.1->torchmps==0.1.0) (4.4.0)\n",
      "Building wheels for collected packages: torchmps\n",
      "  Building wheel for torchmps (setup.py): started\n",
      "  Building wheel for torchmps (setup.py): finished with status 'done'\n",
      "  Created wheel for torchmps: filename=torchmps-0.1.0-py3-none-any.whl size=60029 sha256=ff2885ab9f71ebc9cd1f9e3937b2f4656af1aea0c612d4ab5d7cb9c78998f11e\n",
      "  Stored in directory: C:\\Users\\piche\\AppData\\Local\\Temp\\pip-ephem-wheel-cache-hqdntcp9\\wheels\\18\\0e\\5f\\7e55dd9989ef77b997aac9759dd6a1ccf0a8a5b8cecef5dce9\n",
      "Successfully built torchmps\n",
      "Installing collected packages: opt_einsum, torchmps\n",
      "Successfully installed opt_einsum-3.3.0 torchmps-0.1.0\n"
     ]
    },
    {
     "name": "stderr",
     "output_type": "stream",
     "text": [
      "c:\\ProgramData\\miniconda3\\lib\\site-packages\\tqdm\\auto.py:22: TqdmWarning: IProgress not found. Please update jupyter and ipywidgets. See https://ipywidgets.readthedocs.io/en/stable/user_install.html\n",
      "  from .autonotebook import tqdm as notebook_tqdm\n"
     ]
    }
   ],
   "source": [
    "!pip install \"git+https://github.com/jemisjoky/TorchMPS.git\"\n",
    "\n",
    "import torch\n",
    "from torch_intermediate_layer_getter import IntermediateLayerGetter as MidGetter\n",
    "import torch.nn as nn\n",
    "import torchvision\n",
    "import torchvision.transforms as transforms\n",
    "from torchmps import MPS"
   ]
  },
  {
   "attachments": {},
   "cell_type": "markdown",
   "metadata": {},
   "source": [
    "Now, let us first build a fully connected simple layer by layer approach to the procedure. "
   ]
  },
  {
   "attachments": {},
   "cell_type": "markdown",
   "metadata": {},
   "source": [
    "We shall use the classic MNIST dataset in order to train our the FCNN, which "
   ]
  },
  {
   "cell_type": "code",
   "execution_count": 11,
   "metadata": {},
   "outputs": [],
   "source": [
    "# Pick the hyperparameters for the FCNN\n",
    "chosen_device = torch.device('cuda' if torch.cuda.is_available() else 'cpu')\n",
    "n_epochs_fcnn = 1\n",
    "hidd_ls = 50 #size of the hidden layers\n",
    "chosen_bs = 150\n",
    "chosen_loss = nn.CrossEntropyLoss()\n",
    "#Optimizer parameters\n",
    "chosen_lr = 0.001\n",
    "chosen_momentum = 0.9"
   ]
  },
  {
   "cell_type": "code",
   "execution_count": 12,
   "metadata": {},
   "outputs": [],
   "source": [
    "# Import the mnist dataset\n",
    "train_set = torchvision.datasets.MNIST(root = './datasets', train = True, transform = transforms.ToTensor(),  download = True )\n",
    "train_iterator = torch.utils.data.DataLoader(dataset = train_set, batch_size=chosen_bs, shuffle=True)\n",
    "\n",
    "test_set = torchvision.datasets.MNIST(root = './datasets', train = False, transform = transforms.ToTensor(),  download = True)\n",
    "test_iterator = torch.utils.data.DataLoader(dataset = test_set, batch_size= chosen_bs)\n"
   ]
  },
  {
   "cell_type": "code",
   "execution_count": null,
   "metadata": {},
   "outputs": [],
   "source": [
    "# Create and train our FCNN\n",
    "class FCNN(nn.Module):\n",
    "    def __init__(self):\n",
    "        super(FCNN, self).__init__()\n",
    "        self.lin1 = nn.Linear(784, hidd_ls)\n",
    "        self.relu1 = nn.ReLU()\n",
    "\n",
    "        self.lin2 = nn.Linear(hidd_ls, hidd_ls)\n",
    "        self.relu2 = nn.ReLU()\n",
    "\n",
    "        self.lin3 = nn.Linear(hidd_ls, hidd_ls)\n",
    "        self.relu3 = nn.ReLU()\n",
    "\n",
    "        self.lin4 = nn.Linear(hidd_ls, 10)\n",
    "\n",
    "    def forward(self, x):\n",
    "        y = self.lin1(x)\n",
    "        y = self.relu1(y)\n",
    "\n",
    "        y = self.lin2(y)\n",
    "        y = self.relu2(y)\n",
    "\n",
    "        y = self.lin3(y)\n",
    "        y = self.relu3(y)\n",
    "        \n",
    "        return y\n",
    "\n",
    "#Instantiate and put the model on the chosen device\n",
    "fcnn_teacher = FCNN().to(chosen_device)\n",
    "\n",
    "#Instantiate the optimizer\n",
    "fcnn_optimizer = torch.optim.SGD(fcnn_teacher.parameters(), lr=chosen_lr, momentum=chosen_momentum)\n",
    "\n",
    "#Training loop\n",
    "for epoch in range(n_epochs_fcnn):\n",
    "    for i, (x_mb, y_mb) in enumerate(train_iterator):\n",
    "\n",
    "        # Reshape the train_tuple and put on the chosen device\n",
    "        x_mb = x_mb.reshape(-1, 784).to(chosen_device)\n",
    "        y_mb = y_mb.to(chosen_device)\n",
    "\n",
    "        # Foward propagation\n",
    "        y_hat_mb = fcnn_teacher(x_mb)\n",
    "        loss = chosen_loss(y_hat_mb, y_mb)\n",
    "\n",
    "        # Backpropagation\n",
    "        loss.backward()\n",
    "        fcnn_optimizer.step()\n",
    "        fcnn_optimizer.zero_grad()\n",
    "\n",
    "        if (i % 1000 == 0):\n",
    "            print(loss.item())\n"
   ]
  },
  {
   "cell_type": "code",
   "execution_count": null,
   "metadata": {},
   "outputs": [],
   "source": [
    "# Compute the accuracy of our FCNN\n",
    "with torch.no_grad():\n",
    "    acc_count = 0\n",
    "    for (x_mb, y_mb) in test_iterator:\n",
    "        x_mb = x_mb.reshape(-1, 784).to(chosen_device)\n",
    "        y_mb = y_mb.to(chosen_device)\n",
    "\n",
    "        y_mb_hat = fcnn_teacher(x_mb) #predict\n",
    "\n",
    "        (wedontcare, y_mb_hat_class) = torch.max(y_mb_hat, 1)\n",
    "        acc_count += (y_mb_hat_class == y_mb).sum().item()\n",
    "\n",
    "    print(\"Accuracy: \" + str(100* acc_count / len(test_iterator.dataset)))"
   ]
  },
  {
   "attachments": {},
   "cell_type": "markdown",
   "metadata": {},
   "source": [
    "Now, we shall create the MPS"
   ]
  },
  {
   "cell_type": "code",
   "execution_count": 19,
   "metadata": {},
   "outputs": [
    {
     "name": "stdout",
     "output_type": "stream",
     "text": [
      "2.3025853633880615\n"
     ]
    }
   ],
   "source": [
    "# MPS parameters\n",
    "bond_dim = 20\n",
    "adaptive_mode = False\n",
    "periodic_bc = False\n",
    "\n",
    "lmps = MPS(\n",
    "    input_dim=28 ** 2,\n",
    "    output_dim=10,\n",
    "    bond_dim = bond_dim1,\n",
    "    adaptive_mode=adaptive_mode,\n",
    "    periodic_bc=periodic_bc,\n",
    ")\n",
    "\n",
    "#Instantiate the optimizer\n",
    "lmps_optimizer = torch.optim.SGD(lmps.parameters(), lr=chosen_lr, momentum=chosen_momentum)\n",
    "\n",
    "#Training loop\n",
    "for epoch in range(n_epochs_fcnn):\n",
    "    for i, (x_mb, y_mb) in enumerate(train_iterator):\n",
    "\n",
    "        # Reshape the train_tuple and put on the chosen device\n",
    "        x_mb = x_mb.reshape(-1, 784).to(chosen_device)\n",
    "        y_mb = y_mb.to(chosen_device)\n",
    "\n",
    "        # Foward propagation\n",
    "        y_hat_mb = mps(x_mb)\n",
    "        loss = chosen_loss(y_hat_mb, y_mb)\n",
    "\n",
    "        # Backpropagation\n",
    "        loss.backward()\n",
    "        lmps_optimizer.step()\n",
    "        lmps_optimizer.zero_grad()\n",
    "\n",
    "        if (i % 1000 == 0):\n",
    "            print(loss.item())"
   ]
  }
 ],
 "metadata": {
  "kernelspec": {
   "display_name": "base",
   "language": "python",
   "name": "python3"
  },
  "language_info": {
   "codemirror_mode": {
    "name": "ipython",
    "version": 3
   },
   "file_extension": ".py",
   "mimetype": "text/x-python",
   "name": "python",
   "nbconvert_exporter": "python",
   "pygments_lexer": "ipython3",
   "version": "3.10.8"
  },
  "orig_nbformat": 4,
  "vscode": {
   "interpreter": {
    "hash": "67bfac4f4aefe1c16f1836a62d55b6e6baa7aba1ac5ce70e93ee8e90eb4f073a"
   }
  }
 },
 "nbformat": 4,
 "nbformat_minor": 2
}

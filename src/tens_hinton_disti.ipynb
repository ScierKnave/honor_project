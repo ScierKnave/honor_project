{
  "cells": [
    {
      "cell_type": "code",
      "execution_count": 2,
      "metadata": {
        "id": "hJYw8wfzOBhA"
      },
      "outputs": [
        {
          "name": "stdout",
          "output_type": "stream",
          "text": [
            "Defaulting to user installation because normal site-packages is not writeable\n",
            "Collecting git+https://github.com/jemisjoky/TorchMPS.git\n",
            "  Cloning https://github.com/jemisjoky/TorchMPS.git to c:\\users\\piche\\appdata\\local\\temp\\pip-req-build-vfg3s1fr\n",
            "  Resolved https://github.com/jemisjoky/TorchMPS.git to commit 6c0bc1a8e2c15acba8570ca9ffe2b4a0c7135165\n",
            "  Preparing metadata (setup.py): started\n",
            "  Preparing metadata (setup.py): finished with status 'done'\n",
            "Requirement already satisfied: torch>=1.8.1 in c:\\programdata\\miniconda3\\lib\\site-packages (from torchmps==0.1.0) (1.13.1)\n",
            "Requirement already satisfied: opt_einsum>=3.3.0 in c:\\users\\piche\\appdata\\roaming\\python\\python310\\site-packages (from torchmps==0.1.0) (3.3.0)\n",
            "Requirement already satisfied: numpy>=1.7 in c:\\programdata\\miniconda3\\lib\\site-packages (from opt_einsum>=3.3.0->torchmps==0.1.0) (1.23.5)\n",
            "Requirement already satisfied: typing_extensions in c:\\programdata\\miniconda3\\lib\\site-packages (from torch>=1.8.1->torchmps==0.1.0) (4.4.0)\n"
          ]
        },
        {
          "name": "stderr",
          "output_type": "stream",
          "text": [
            "  Running command git clone --filter=blob:none --quiet https://github.com/jemisjoky/TorchMPS.git 'C:\\Users\\piche\\AppData\\Local\\Temp\\pip-req-build-vfg3s1fr'\n",
            "c:\\ProgramData\\miniconda3\\lib\\site-packages\\tqdm\\auto.py:22: TqdmWarning: IProgress not found. Please update jupyter and ipywidgets. See https://ipywidgets.readthedocs.io/en/stable/user_install.html\n",
            "  from .autonotebook import tqdm as notebook_tqdm\n"
          ]
        }
      ],
      "source": [
        "!pip install \"git+https://github.com/jemisjoky/TorchMPS.git\"\n",
        "import torch\n",
        "import torch.nn as nn\n",
        "import torchvision\n",
        "import torchvision.transforms as transforms\n",
        "from torchmps import MPS"
      ]
    },
    {
      "cell_type": "code",
      "execution_count": 3,
      "metadata": {
        "id": "34pmpVgSOBhB"
      },
      "outputs": [],
      "source": [
        "# Get the data\n",
        "\n",
        "# Data hyperparameters\n",
        "nb_train = 200\n",
        "nb_test = 50\n",
        "chosen_bs = 100\n",
        "\n",
        "# Import the mnist dataset\n",
        "train_set = torchvision.datasets.MNIST(root = './datasets', train = True,    transform = transforms.ToTensor(),  download = True )\n",
        "\n",
        "train_subset = torch.utils.data.SubsetRandomSampler(range(nb_train))\n",
        "\n",
        "train_iterator = torch.utils.data.DataLoader(dataset = train_set, sampler = train_subset, batch_size=chosen_bs)\n",
        "\n",
        "\n",
        "test_set = torchvision.datasets.MNIST(root = './datasets', train = False, transform = transforms.ToTensor(),  download = True)\n",
        "\n",
        "test_subset = torch.utils.data.SubsetRandomSampler(range(nb_test))\n",
        "\n",
        "test_iterator = torch.utils.data.DataLoader(dataset = test_set, sampler = test_subset, batch_size = chosen_bs)"
      ]
    },
    {
      "cell_type": "code",
      "execution_count": 4,
      "metadata": {
        "id": "WfoH7MNKOBhC",
        "outputId": "15544450-6114-4fb5-8a1e-2ab9248c2a62"
      },
      "outputs": [
        {
          "name": "stdout",
          "output_type": "stream",
          "text": [
            "2.300100803375244\n"
          ]
        }
      ],
      "source": [
        "# Create and train the FCNN\n",
        "\n",
        "# Pick the hyperparameters for the FCNN\n",
        "chosen_device = torch.device('cuda' if torch.cuda.is_available() else 'cpu')\n",
        "n_epochs_fcnn = 1\n",
        "hidden_size = 70\n",
        "chosen_loss = nn.CrossEntropyLoss()\n",
        "#Optimizer parameters\n",
        "chosen_lr = 0.001\n",
        "chosen_momentum = 0.9\n",
        "\n",
        "\n",
        "# Instantiate the fcnn\n",
        "class FCNN(nn.Module):\n",
        "    def __init__(self):\n",
        "        super(FCNN, self).__init__()\n",
        "        self.lin1 = nn.Linear(784, hidden_size)\n",
        "        self.relu1 = nn.ReLU()\n",
        "\n",
        "        self.lin2 = nn.Linear(hidden_size, hidden_size)\n",
        "        self.relu2 = nn.ReLU()\n",
        "\n",
        "        self.lin3 = nn.Linear(hidden_size, hidden_size)\n",
        "        self.relu3 = nn.ReLU()\n",
        "\n",
        "        self.lin4 = nn.Linear(hidden_size, hidden_size)\n",
        "        self.relu4 = nn.ReLU()\n",
        "\n",
        "        self.lin5 = nn.Linear(hidden_size, hidden_size)\n",
        "        self.relu5 = nn.ReLU()\n",
        "\n",
        "        self.lin6 = nn.Linear(hidden_size, 10)\n",
        "\n",
        "    def forward(self, x):\n",
        "        y = self.lin1(x)\n",
        "        y = self.relu1(y)\n",
        "\n",
        "        y = self.lin2(y)\n",
        "        y = self.relu2(y)\n",
        "\n",
        "        y = self.lin3(y)\n",
        "        y = self.relu3(y)\n",
        "\n",
        "        y = self.lin4(y)\n",
        "        y = self.relu4(y)\n",
        "\n",
        "        y = self.lin5(y)\n",
        "        y = self.relu5(y)\n",
        "\n",
        "        y = self.lin6(y)\n",
        "        return y\n",
        "\n",
        "#Instantiate and put the model on the chosen device\n",
        "fcnn_teacher = FCNN().to(chosen_device)\n",
        "\n",
        "#Instantiate the optimizer\n",
        "optimizer = torch.optim.Adam(fcnn_teacher.parameters())\n",
        "\n",
        "#Training loop\n",
        "for epoch in range(n_epochs_fcnn):\n",
        "    for (x_mb, y_mb) in train_iterator:\n",
        "\n",
        "        # Reshape the train_tuple and put on the chosen device\n",
        "        x_mb = x_mb.reshape(-1, 784).to(chosen_device)\n",
        "        y_mb = y_mb.to(chosen_device)\n",
        "\n",
        "        # Foward propagation\n",
        "        y_hat_mb = fcnn_teacher(x_mb)\n",
        "        loss = chosen_loss(y_hat_mb, y_mb)\n",
        "\n",
        "        # Backpropagation\n",
        "        loss.backward()\n",
        "        optimizer.step()\n",
        "        optimizer.zero_grad()\n",
        "\n",
        "    print(loss.item())\n"
      ]
    },
    {
      "cell_type": "code",
      "execution_count": 5,
      "metadata": {
        "id": "1qdmJHD1OBhD",
        "outputId": "87e8ac47-2201-451f-a4be-d181df7cdc39"
      },
      "outputs": [
        {
          "name": "stdout",
          "output_type": "stream",
          "text": [
            "Accuracy: 0.09\n"
          ]
        }
      ],
      "source": [
        "# Print the accuracy of the fcnn\n",
        "with torch.no_grad():\n",
        "    acc_count = 0\n",
        "    for (x_mb, y_mb) in test_iterator:\n",
        "        x_mb = x_mb.reshape(-1, 784).to(chosen_device)\n",
        "        y_mb = y_mb.to(chosen_device)\n",
        "\n",
        "        y_mb_hat = fcnn_teacher(x_mb) #predict\n",
        "\n",
        "        (wedontcare, y_mb_hat_class) = torch.max(y_mb_hat, 1)\n",
        "        acc_count += (y_mb_hat_class == y_mb).sum().item()\n",
        "\n",
        "    print(\"Accuracy: \" + str(100* acc_count / len(test_iterator.dataset)))"
      ]
    },
    {
      "cell_type": "code",
      "execution_count": 6,
      "metadata": {},
      "outputs": [
        {
          "name": "stdout",
          "output_type": "stream",
          "text": [
            "2.302426338195801\n",
            "50853.28125\n",
            "2.5933752059936523\n",
            "2.338449478149414\n",
            "2.3302865028381348\n",
            "2.316558599472046\n",
            "2.446150541305542\n",
            "2.342684268951416\n",
            "2.3390796184539795\n",
            "2.3338730335235596\n",
            "2.373685121536255\n",
            "2.4391841888427734\n",
            "2.389338731765747\n",
            "2.341294527053833\n"
          ]
        },
        {
          "ename": "KeyboardInterrupt",
          "evalue": "",
          "output_type": "error",
          "traceback": [
            "\u001b[1;31m---------------------------------------------------------------------------\u001b[0m",
            "\u001b[1;31mKeyboardInterrupt\u001b[0m                         Traceback (most recent call last)",
            "Cell \u001b[1;32mIn[6], line 39\u001b[0m\n\u001b[0;32m     36\u001b[0m y_mb \u001b[39m=\u001b[39m (softmax(fcnn_teacher(x_mb)))\u001b[39m.\u001b[39mto(chosen_device)\n\u001b[0;32m     38\u001b[0m \u001b[39m# Foward propagation\u001b[39;00m\n\u001b[1;32m---> 39\u001b[0m y_hat_mb \u001b[39m=\u001b[39m mps_student(x_mb)\n\u001b[0;32m     40\u001b[0m loss \u001b[39m=\u001b[39m chosen_loss(y_hat_mb, y_mb)\n\u001b[0;32m     42\u001b[0m \u001b[39m# Backpropagation\u001b[39;00m\n",
            "File \u001b[1;32mc:\\ProgramData\\miniconda3\\lib\\site-packages\\torch\\nn\\modules\\module.py:1194\u001b[0m, in \u001b[0;36mModule._call_impl\u001b[1;34m(self, *input, **kwargs)\u001b[0m\n\u001b[0;32m   1190\u001b[0m \u001b[39m# If we don't have any hooks, we want to skip the rest of the logic in\u001b[39;00m\n\u001b[0;32m   1191\u001b[0m \u001b[39m# this function, and just call forward.\u001b[39;00m\n\u001b[0;32m   1192\u001b[0m \u001b[39mif\u001b[39;00m \u001b[39mnot\u001b[39;00m (\u001b[39mself\u001b[39m\u001b[39m.\u001b[39m_backward_hooks \u001b[39mor\u001b[39;00m \u001b[39mself\u001b[39m\u001b[39m.\u001b[39m_forward_hooks \u001b[39mor\u001b[39;00m \u001b[39mself\u001b[39m\u001b[39m.\u001b[39m_forward_pre_hooks \u001b[39mor\u001b[39;00m _global_backward_hooks\n\u001b[0;32m   1193\u001b[0m         \u001b[39mor\u001b[39;00m _global_forward_hooks \u001b[39mor\u001b[39;00m _global_forward_pre_hooks):\n\u001b[1;32m-> 1194\u001b[0m     \u001b[39mreturn\u001b[39;00m forward_call(\u001b[39m*\u001b[39m\u001b[39minput\u001b[39m, \u001b[39m*\u001b[39m\u001b[39m*\u001b[39mkwargs)\n\u001b[0;32m   1195\u001b[0m \u001b[39m# Do not call functions when jit is used\u001b[39;00m\n\u001b[0;32m   1196\u001b[0m full_backward_hooks, non_full_backward_hooks \u001b[39m=\u001b[39m [], []\n",
            "File \u001b[1;32m~\\AppData\\Roaming\\Python\\Python310\\site-packages\\torchmps\\torchmps.py:479\u001b[0m, in \u001b[0;36mMPS.forward\u001b[1;34m(self, input_data)\u001b[0m\n\u001b[0;32m    477\u001b[0m \u001b[39m# Embed our input data before feeding it into our linear region\u001b[39;00m\n\u001b[0;32m    478\u001b[0m input_data \u001b[39m=\u001b[39m \u001b[39mself\u001b[39m\u001b[39m.\u001b[39membed_input(input_data)\n\u001b[1;32m--> 479\u001b[0m output \u001b[39m=\u001b[39m \u001b[39mself\u001b[39;49m\u001b[39m.\u001b[39;49mlinear_region(input_data)\n\u001b[0;32m    481\u001b[0m \u001b[39m# If we got a tuple as output, then use the last two entries to\u001b[39;00m\n\u001b[0;32m    482\u001b[0m \u001b[39m# update our bond dimensions and singular values\u001b[39;00m\n\u001b[0;32m    483\u001b[0m \u001b[39mif\u001b[39;00m \u001b[39misinstance\u001b[39m(output, \u001b[39mtuple\u001b[39m):\n",
            "File \u001b[1;32mc:\\ProgramData\\miniconda3\\lib\\site-packages\\torch\\nn\\modules\\module.py:1194\u001b[0m, in \u001b[0;36mModule._call_impl\u001b[1;34m(self, *input, **kwargs)\u001b[0m\n\u001b[0;32m   1190\u001b[0m \u001b[39m# If we don't have any hooks, we want to skip the rest of the logic in\u001b[39;00m\n\u001b[0;32m   1191\u001b[0m \u001b[39m# this function, and just call forward.\u001b[39;00m\n\u001b[0;32m   1192\u001b[0m \u001b[39mif\u001b[39;00m \u001b[39mnot\u001b[39;00m (\u001b[39mself\u001b[39m\u001b[39m.\u001b[39m_backward_hooks \u001b[39mor\u001b[39;00m \u001b[39mself\u001b[39m\u001b[39m.\u001b[39m_forward_hooks \u001b[39mor\u001b[39;00m \u001b[39mself\u001b[39m\u001b[39m.\u001b[39m_forward_pre_hooks \u001b[39mor\u001b[39;00m _global_backward_hooks\n\u001b[0;32m   1193\u001b[0m         \u001b[39mor\u001b[39;00m _global_forward_hooks \u001b[39mor\u001b[39;00m _global_forward_pre_hooks):\n\u001b[1;32m-> 1194\u001b[0m     \u001b[39mreturn\u001b[39;00m forward_call(\u001b[39m*\u001b[39m\u001b[39minput\u001b[39m, \u001b[39m*\u001b[39m\u001b[39m*\u001b[39mkwargs)\n\u001b[0;32m   1195\u001b[0m \u001b[39m# Do not call functions when jit is used\u001b[39;00m\n\u001b[0;32m   1196\u001b[0m full_backward_hooks, non_full_backward_hooks \u001b[39m=\u001b[39m [], []\n",
            "File \u001b[1;32m~\\AppData\\Roaming\\Python\\Python310\\site-packages\\torchmps\\torchmps.py:686\u001b[0m, in \u001b[0;36mLinearRegion.forward\u001b[1;34m(self, input_data)\u001b[0m\n\u001b[0;32m    684\u001b[0m \u001b[39m# Multiply together everything in contractable_list\u001b[39;00m\n\u001b[0;32m    685\u001b[0m contractable_list \u001b[39m=\u001b[39m ContractableList(contractable_list)\n\u001b[1;32m--> 686\u001b[0m output \u001b[39m=\u001b[39m contractable_list\u001b[39m.\u001b[39;49mreduce(parallel_eval\u001b[39m=\u001b[39;49mparallel_eval)\n\u001b[0;32m    688\u001b[0m \u001b[39mreturn\u001b[39;00m output\u001b[39m.\u001b[39mtensor\n",
            "File \u001b[1;32m~\\AppData\\Roaming\\Python\\Python310\\site-packages\\torchmps\\contractables.py:227\u001b[0m, in \u001b[0;36mContractableList.reduce\u001b[1;34m(self, parallel_eval)\u001b[0m\n\u001b[0;32m    225\u001b[0m \u001b[39mwhile\u001b[39;00m \u001b[39mlen\u001b[39m(c_list) \u001b[39m>\u001b[39m \u001b[39m1\u001b[39m:\n\u001b[0;32m    226\u001b[0m     \u001b[39mtry\u001b[39;00m:\n\u001b[1;32m--> 227\u001b[0m         c_list[\u001b[39m-\u001b[39m\u001b[39m2\u001b[39m] \u001b[39m=\u001b[39m c_list[\u001b[39m-\u001b[39;49m\u001b[39m2\u001b[39;49m] \u001b[39m*\u001b[39;49m c_list[\u001b[39m-\u001b[39;49m\u001b[39m1\u001b[39;49m]\n\u001b[0;32m    228\u001b[0m         \u001b[39mdel\u001b[39;00m c_list[\u001b[39m-\u001b[39m\u001b[39m1\u001b[39m]\n\u001b[0;32m    229\u001b[0m     \u001b[39mexcept\u001b[39;00m \u001b[39mTypeError\u001b[39;00m:\n",
            "File \u001b[1;32m~\\AppData\\Roaming\\Python\\Python310\\site-packages\\torchmps\\contractables.py:277\u001b[0m, in \u001b[0;36mMatRegion.__mul__\u001b[1;34m(self, edge_vec, rmul)\u001b[0m\n\u001b[0;32m    275\u001b[0m         vec \u001b[39m=\u001b[39m torch\u001b[39m.\u001b[39mbmm(vec, mat)\n\u001b[0;32m    276\u001b[0m     \u001b[39melse\u001b[39;00m:\n\u001b[1;32m--> 277\u001b[0m         vec \u001b[39m=\u001b[39m torch\u001b[39m.\u001b[39;49mbmm(mat, vec)\n\u001b[0;32m    279\u001b[0m \u001b[39m# Since we only have a single vector, wrap it as a EdgeVec\u001b[39;00m\n\u001b[0;32m    280\u001b[0m \u001b[39mreturn\u001b[39;00m EdgeVec(vec\u001b[39m.\u001b[39msqueeze(dummy_ind), is_left_vec\u001b[39m=\u001b[39mrmul)\n",
            "\u001b[1;31mKeyboardInterrupt\u001b[0m: "
          ]
        }
      ],
      "source": [
        "# Create and train the MPS\n",
        "# MPS parameters\n",
        "bond_dim = 20\n",
        "adaptive_mode = False\n",
        "periodic_bc = False\n",
        "\n",
        "# Training parameters\n",
        "gn_var = 0.3 #gaussian noise variance\n",
        "gn_mean = 0 #gaussiane noise mean\n",
        "n_epochs_lmps = 15\n",
        "learn_rate = 0.0001\n",
        "l2_reg = 0.0\n",
        "chosen_loss = nn.CrossEntropyLoss()\n",
        "\n",
        "# Initialize the MPS module\n",
        "mps_student = MPS(\n",
        "    input_dim=28 ** 2,\n",
        "    output_dim=10,\n",
        "    bond_dim=bond_dim,\n",
        "    adaptive_mode=adaptive_mode,\n",
        "    periodic_bc=periodic_bc,\n",
        ").to(chosen_device)\n",
        "\n",
        "# Instantiate the optimizer and softmax\n",
        "lmps_optimizer = torch.optim.Adam(mps_student.parameters())\n",
        "softmax = nn.Softmax(dim=1)\n",
        "\n",
        "# Training loop\n",
        "for epoch in range(n_epochs_lmps):\n",
        "    for (x_mb, _) in train_iterator:\n",
        "        # Reshape, add gaussian noise, put on the chosen device\n",
        "        x_mb = x_mb.reshape(-1, 784).to(chosen_device)\n",
        "        x_mb = (x_mb + torch.randn(size=x_mb.size())).to(chosen_device)\n",
        "\n",
        "        # Get softmax of output of teacher\n",
        "        y_mb = (softmax(fcnn_teacher(x_mb))).to(chosen_device)\n",
        "\n",
        "        # Foward propagation\n",
        "        y_hat_mb = mps_student(x_mb)\n",
        "        loss = chosen_loss(y_hat_mb, y_mb)\n",
        "\n",
        "        # Backpropagation\n",
        "        loss.backward()\n",
        "        lmps_optimizer.step()\n",
        "        lmps_optimizer.zero_grad()\n",
        "\n",
        "    print(loss.item())\n",
        "\n",
        "# Print the accuracy of the mps_student\n",
        "with torch.no_grad():\n",
        "    acc_count = 0\n",
        "    for (x_mb, y_mb) in test_iterator:\n",
        "        x_mb = x_mb.reshape(-1, 784).to(chosen_device)\n",
        "        y_mb = y_mb.to(chosen_device)\n",
        "\n",
        "        y_mb_hat = mps_student(x_mb) #predict\n",
        "\n",
        "        (wedontcare, y_mb_hat_class) = torch.max(y_mb_hat, 1)\n",
        "        acc_count += (y_mb_hat_class == y_mb).sum().item()\n",
        "\n",
        "    print(\"Accuracy: \" + str(100* acc_count / len(test_iterator.dataset)))\n"
      ]
    },
    {
      "attachments": {},
      "cell_type": "markdown",
      "metadata": {},
      "source": [
        "- Fix non negative values\n",
        "\n",
        "https://github.com/jemisjoky/TorchMPS/blob/main/train_script.py\n",
        "\n",
        "he uses the max to get his function!"
      ]
    }
  ],
  "metadata": {
    "colab": {
      "provenance": []
    },
    "kernelspec": {
      "display_name": "base",
      "language": "python",
      "name": "python3"
    },
    "language_info": {
      "codemirror_mode": {
        "name": "ipython",
        "version": 3
      },
      "file_extension": ".py",
      "mimetype": "text/x-python",
      "name": "python",
      "nbconvert_exporter": "python",
      "pygments_lexer": "ipython3",
      "version": "3.10.8"
    },
    "orig_nbformat": 4,
    "vscode": {
      "interpreter": {
        "hash": "67bfac4f4aefe1c16f1836a62d55b6e6baa7aba1ac5ce70e93ee8e90eb4f073a"
      }
    }
  },
  "nbformat": 4,
  "nbformat_minor": 0
}

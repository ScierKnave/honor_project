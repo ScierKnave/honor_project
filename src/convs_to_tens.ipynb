{
 "cells": [
  {
   "cell_type": "code",
   "execution_count": null,
   "metadata": {},
   "outputs": [],
   "source": [
    "!pip install \"git+https://github.com/jemisjoky/TorchMPS.git\"\n",
    "!pip install \"git+https://github.com/rballester/tntorch.git\"\n",
    "import tntorch as tn\n",
    "import torch\n",
    "import torch.nn as nn\n",
    "import torchvision\n",
    "import torchvision.transforms as transforms\n",
    "!pip install torchmetrics\n",
    "from torchmetrics.classification import MulticlassAccuracy\n",
    "from torchmps import MPS"
   ]
  },
  {
   "attachments": {},
   "cell_type": "markdown",
   "metadata": {},
   "source": [
    "We shall choose the Hyperparameters in our setup"
   ]
  },
  {
   "cell_type": "code",
   "execution_count": 72,
   "metadata": {},
   "outputs": [],
   "source": [
    "# Hardware hyperparameters\n",
    "chosen_device = torch.device('cuda' \n",
    "if torch.cuda.is_available() else 'cpu')\n",
    "\n",
    "\n",
    "# Data hyperparameters\n",
    "data_dim = [1,28,28] # size of the individual input images (channel size, dims)\n",
    "nb_train = 4\n",
    "nb_test = 4\n",
    "chosen_bs = 2\n",
    "nb_classes = 10\n",
    "\n",
    "# Kernel parameters\n",
    "kernel_size = 4*4\n",
    "padding = 0\n",
    "stride = 4\n",
    "\n",
    "# Student training hyperparameters\n",
    "# general settings\n",
    "n_epochs_lmps = 18\n",
    "mps_learn_rate = 0.0001\n",
    "mps_reg = 0.0\n",
    "student_loss = nn.CrossEntropyLoss().to(chosen_device)\n",
    "# mps parameters\n",
    "input_dim = kernel_size\n",
    "output_dim = 1\n",
    "feature_dim = 2\n",
    "bond_dim = 20\n",
    "adaptive_mode = False\n",
    "periodic_bc = False\n",
    "# gaussian noise parameters\n",
    "gn_var = 0.3\n",
    "gn_mean = 0\n"
   ]
  },
  {
   "attachments": {},
   "cell_type": "markdown",
   "metadata": {},
   "source": [
    "Here, we import the mnist dataset"
   ]
  },
  {
   "cell_type": "code",
   "execution_count": 73,
   "metadata": {},
   "outputs": [],
   "source": [
    "# Import the mnist dataset\n",
    "train_set = torchvision.datasets.MNIST(root = './datasets', train = True,    transform = transforms.ToTensor(),  download = True )\n",
    "\n",
    "train_subset = torch.utils.data.SubsetRandomSampler(range(nb_train))\n",
    "\n",
    "train_iterator = torch.utils.data.DataLoader(dataset = train_set, sampler = train_subset, batch_size=chosen_bs)\n",
    "\n",
    "\n",
    "test_set = torchvision.datasets.MNIST(root = './datasets', train = False, transform = transforms.ToTensor(),  download = True)\n",
    "\n",
    "test_subset = torch.utils.data.SubsetRandomSampler(range(nb_test))\n",
    "\n",
    "test_iterator = torch.utils.data.DataLoader(dataset = test_set, sampler = test_subset, batch_size = chosen_bs)"
   ]
  },
  {
   "cell_type": "code",
   "execution_count": 75,
   "metadata": {},
   "outputs": [
    {
     "name": "stdout",
     "output_type": "stream",
     "text": [
      "2.4143972396850586\n",
      "2.40693998336792\n",
      "2.399977922439575\n"
     ]
    },
    {
     "ename": "KeyboardInterrupt",
     "evalue": "",
     "output_type": "error",
     "traceback": [
      "\u001b[1;31m---------------------------------------------------------------------------\u001b[0m",
      "\u001b[1;31mKeyboardInterrupt\u001b[0m                         Traceback (most recent call last)",
      "Cell \u001b[1;32mIn[75], line 70\u001b[0m\n\u001b[0;32m     68\u001b[0m loss \u001b[39m=\u001b[39m student_loss(y_hat_mb, y_mb)\n\u001b[0;32m     69\u001b[0m \u001b[39m# Backpropagation\u001b[39;00m\n\u001b[1;32m---> 70\u001b[0m loss\u001b[39m.\u001b[39;49mbackward(retain_graph\u001b[39m=\u001b[39;49m\u001b[39mTrue\u001b[39;49;00m)\n\u001b[0;32m     71\u001b[0m student_optimizer\u001b[39m.\u001b[39mstep()\n\u001b[0;32m     72\u001b[0m student_optimizer\u001b[39m.\u001b[39mzero_grad()\n",
      "File \u001b[1;32mc:\\ProgramData\\miniconda3\\lib\\site-packages\\torch\\_tensor.py:488\u001b[0m, in \u001b[0;36mTensor.backward\u001b[1;34m(self, gradient, retain_graph, create_graph, inputs)\u001b[0m\n\u001b[0;32m    478\u001b[0m \u001b[39mif\u001b[39;00m has_torch_function_unary(\u001b[39mself\u001b[39m):\n\u001b[0;32m    479\u001b[0m     \u001b[39mreturn\u001b[39;00m handle_torch_function(\n\u001b[0;32m    480\u001b[0m         Tensor\u001b[39m.\u001b[39mbackward,\n\u001b[0;32m    481\u001b[0m         (\u001b[39mself\u001b[39m,),\n\u001b[1;32m   (...)\u001b[0m\n\u001b[0;32m    486\u001b[0m         inputs\u001b[39m=\u001b[39minputs,\n\u001b[0;32m    487\u001b[0m     )\n\u001b[1;32m--> 488\u001b[0m torch\u001b[39m.\u001b[39;49mautograd\u001b[39m.\u001b[39;49mbackward(\n\u001b[0;32m    489\u001b[0m     \u001b[39mself\u001b[39;49m, gradient, retain_graph, create_graph, inputs\u001b[39m=\u001b[39;49minputs\n\u001b[0;32m    490\u001b[0m )\n",
      "File \u001b[1;32mc:\\ProgramData\\miniconda3\\lib\\site-packages\\torch\\autograd\\__init__.py:197\u001b[0m, in \u001b[0;36mbackward\u001b[1;34m(tensors, grad_tensors, retain_graph, create_graph, grad_variables, inputs)\u001b[0m\n\u001b[0;32m    192\u001b[0m     retain_graph \u001b[39m=\u001b[39m create_graph\n\u001b[0;32m    194\u001b[0m \u001b[39m# The reason we repeat same the comment below is that\u001b[39;00m\n\u001b[0;32m    195\u001b[0m \u001b[39m# some Python versions print out the first line of a multi-line function\u001b[39;00m\n\u001b[0;32m    196\u001b[0m \u001b[39m# calls in the traceback and some print out the last line\u001b[39;00m\n\u001b[1;32m--> 197\u001b[0m Variable\u001b[39m.\u001b[39;49m_execution_engine\u001b[39m.\u001b[39;49mrun_backward(  \u001b[39m# Calls into the C++ engine to run the backward pass\u001b[39;49;00m\n\u001b[0;32m    198\u001b[0m     tensors, grad_tensors_, retain_graph, create_graph, inputs,\n\u001b[0;32m    199\u001b[0m     allow_unreachable\u001b[39m=\u001b[39;49m\u001b[39mTrue\u001b[39;49;00m, accumulate_grad\u001b[39m=\u001b[39;49m\u001b[39mTrue\u001b[39;49;00m)\n",
      "\u001b[1;31mKeyboardInterrupt\u001b[0m: "
     ]
    }
   ],
   "source": [
    "\n",
    "class LMPS_patcher(nn.Module):\n",
    "    def __init__(self):\n",
    "        super(LMPS_patcher, self).__init__()\n",
    "\n",
    "        # Create the MPS instance for the student\n",
    "        self.mps_student = MPS(\n",
    "            input_dim = input_dim,\n",
    "            feature_dim = feature_dim,\n",
    "            output_dim = output_dim,\n",
    "            bond_dim = bond_dim,\n",
    "            adaptive_mode = adaptive_mode,\n",
    "            periodic_bc = periodic_bc,\n",
    "        )\n",
    "        # we define our original Φ, which creates the multilinear feature space\n",
    "        self.feature_map = lambda x : torch.tensor([1, x]).reshape(-1)\n",
    "        # to make the mps use our feature map for the inputs\n",
    "        self.mps_student.register_feature_map(self.feature_map)\n",
    "\n",
    "\n",
    "        # Create the unfolder, which will create our patches\n",
    "        # the output size is [batch_size, nb_patches, patch_size]\n",
    "        self.folding_params = dict(kernel_size=kernel_size, \n",
    "            dilation=1, padding=padding, stride=stride)\n",
    "        self.unfolder = torch.nn.Unfold(**self.folding_params)\n",
    "\n",
    "        # Get the number of patches with a little trick\n",
    "        fake_image = torch.zeros([1] + data_dim)\n",
    "        unfold_output = self.unfolder(fake_image)\n",
    "        nb_patches = unfold_output.size()[1]\n",
    "        self.nb_patches = nb_patches\n",
    "\n",
    "        # To store the outputs of the MPS over the patches\n",
    "        self.mps_outputs = torch.zeros([chosen_bs, nb_patches])\n",
    "\n",
    "\n",
    "        # Fully connected layer\n",
    "        self.lin = nn.Linear(nb_patches, nb_classes)\n",
    "        self.relu = nn.ReLU()\n",
    "\n",
    "    def forward(self, x):\n",
    "        patches = self.unfolder(x)\n",
    "        mps_outputs = torch.zeros([chosen_bs, self.nb_patches])\n",
    "        for i in range(chosen_bs):\n",
    "            for j in range(self.nb_patches):\n",
    "                # get patch tensor\n",
    "                flattened_patch = patches[i,j,:].reshape((1, kernel_size))\n",
    "                mps_outputs[i,j] = self.mps_student(flattened_patch)\n",
    "        y = self.lin(mps_outputs)\n",
    "        y = self.relu(y)\n",
    "        return y\n",
    "\n",
    "\n",
    "student = LMPS_patcher()\n",
    "\n",
    "# Instantiate the optimizer and softmax\n",
    "student_optimizer = torch.optim.Adam(student.parameters(), lr = mps_learn_rate,\n",
    "                                  weight_decay = mps_reg)\n",
    "softmax = nn.Softmax(dim=1)\n",
    "\n",
    "# Training loop \n",
    "for epoch in range(n_epochs_lmps):\n",
    "    for (x_mb, y_mb) in train_iterator:\n",
    "        # Reshape the train_tuple and put on the chosen device\n",
    "        x_mb = x_mb.to(chosen_device)\n",
    "        y_mb = y_mb.to(chosen_device)\n",
    "        # Foward propagation\n",
    "        y_hat_mb = student(x_mb)\n",
    "        loss = student_loss(y_hat_mb, y_mb)\n",
    "        # Backpropagation\n",
    "        loss.backward(retain_graph=True)\n",
    "        student_optimizer.step()\n",
    "        student_optimizer.zero_grad()\n",
    "\n",
    "    print(loss.item())\n",
    "\n",
    "\n",
    "# get accuracy\n",
    "\n",
    "for (x_mb, y_mb) in test_iterator:\n",
    "    print(MulticlassAccuracy(num_classes=10)(student(x_mb), y_mb))\n"
   ]
  }
 ],
 "metadata": {
  "kernelspec": {
   "display_name": "base",
   "language": "python",
   "name": "python3"
  },
  "language_info": {
   "codemirror_mode": {
    "name": "ipython",
    "version": 3
   },
   "file_extension": ".py",
   "mimetype": "text/x-python",
   "name": "python",
   "nbconvert_exporter": "python",
   "pygments_lexer": "ipython3",
   "version": "3.10.8"
  },
  "orig_nbformat": 4,
  "vscode": {
   "interpreter": {
    "hash": "67bfac4f4aefe1c16f1836a62d55b6e6baa7aba1ac5ce70e93ee8e90eb4f073a"
   }
  }
 },
 "nbformat": 4,
 "nbformat_minor": 2
}

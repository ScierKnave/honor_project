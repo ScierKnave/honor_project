{
 "cells": [
  {
   "cell_type": "code",
   "execution_count": 43,
   "metadata": {},
   "outputs": [
    {
     "name": "stdout",
     "output_type": "stream",
     "text": [
      "Defaulting to user installation because normal site-packages is not writeable\n",
      "Collecting git+https://github.com/jemisjoky/TorchMPS.git\n",
      "  Cloning https://github.com/jemisjoky/TorchMPS.git to c:\\users\\piche\\appdata\\local\\temp\\pip-req-build-m9ospfu7\n",
      "  Resolved https://github.com/jemisjoky/TorchMPS.git to commit 6c0bc1a8e2c15acba8570ca9ffe2b4a0c7135165\n",
      "  Preparing metadata (setup.py): started\n",
      "  Preparing metadata (setup.py): finished with status 'done'\n",
      "Requirement already satisfied: torch>=1.8.1 in c:\\programdata\\miniconda3\\lib\\site-packages (from torchmps==0.1.0) (1.13.1)\n",
      "Requirement already satisfied: opt_einsum>=3.3.0 in c:\\users\\piche\\appdata\\roaming\\python\\python310\\site-packages (from torchmps==0.1.0) (3.3.0)\n",
      "Requirement already satisfied: numpy>=1.7 in c:\\programdata\\miniconda3\\lib\\site-packages (from opt_einsum>=3.3.0->torchmps==0.1.0) (1.23.5)\n",
      "Requirement already satisfied: typing_extensions in c:\\programdata\\miniconda3\\lib\\site-packages (from torch>=1.8.1->torchmps==0.1.0) (4.4.0)\n"
     ]
    },
    {
     "name": "stderr",
     "output_type": "stream",
     "text": [
      "  Running command git clone --filter=blob:none --quiet https://github.com/jemisjoky/TorchMPS.git 'C:\\Users\\piche\\AppData\\Local\\Temp\\pip-req-build-m9ospfu7'\n"
     ]
    },
    {
     "name": "stdout",
     "output_type": "stream",
     "text": [
      "Defaulting to user installation because normal site-packages is not writeable\n",
      "Collecting git+https://github.com/rballester/tntorch.git\n",
      "  Cloning https://github.com/rballester/tntorch.git to c:\\users\\piche\\appdata\\local\\temp\\pip-req-build-i9v1rulc\n",
      "  Resolved https://github.com/rballester/tntorch.git to commit 241bf7ad2b806f6677a5e23534247f35f3a70f10\n",
      "  Preparing metadata (setup.py): started\n",
      "  Preparing metadata (setup.py): finished with status 'done'\n",
      "Requirement already satisfied: numpy in c:\\programdata\\miniconda3\\lib\\site-packages (from tntorch==1.1.1) (1.23.5)\n",
      "Requirement already satisfied: scipy in c:\\users\\piche\\appdata\\roaming\\python\\python310\\site-packages (from tntorch==1.1.1) (1.10.0)\n",
      "Requirement already satisfied: torch>=1.11 in c:\\programdata\\miniconda3\\lib\\site-packages (from tntorch==1.1.1) (1.13.1)\n",
      "Requirement already satisfied: typing_extensions in c:\\programdata\\miniconda3\\lib\\site-packages (from torch>=1.11->tntorch==1.1.1) (4.4.0)\n"
     ]
    },
    {
     "name": "stderr",
     "output_type": "stream",
     "text": [
      "  Running command git clone --filter=blob:none --quiet https://github.com/rballester/tntorch.git 'C:\\Users\\piche\\AppData\\Local\\Temp\\pip-req-build-i9v1rulc'\n"
     ]
    },
    {
     "name": "stdout",
     "output_type": "stream",
     "text": [
      "Defaulting to user installation because normal site-packages is not writeable\n",
      "Requirement already satisfied: torchmetrics in c:\\users\\piche\\appdata\\roaming\\python\\python310\\site-packages (0.11.1)\n",
      "Requirement already satisfied: numpy>=1.17.2 in c:\\programdata\\miniconda3\\lib\\site-packages (from torchmetrics) (1.23.5)\n",
      "Requirement already satisfied: packaging in c:\\programdata\\miniconda3\\lib\\site-packages (from torchmetrics) (22.0)\n",
      "Requirement already satisfied: torch>=1.8.1 in c:\\programdata\\miniconda3\\lib\\site-packages (from torchmetrics) (1.13.1)\n",
      "Requirement already satisfied: typing_extensions in c:\\programdata\\miniconda3\\lib\\site-packages (from torch>=1.8.1->torchmetrics) (4.4.0)\n"
     ]
    }
   ],
   "source": [
    "!pip install \"git+https://github.com/jemisjoky/TorchMPS.git\"\n",
    "!pip install \"git+https://github.com/rballester/tntorch.git\"\n",
    "import tntorch as tn\n",
    "import torch\n",
    "import torch.nn as nn\n",
    "import torchvision\n",
    "import torchvision.transforms as transforms\n",
    "!pip install torchmetrics\n",
    "from torchmetrics.classification import MulticlassAccuracy\n",
    "from torchmps import MPS"
   ]
  },
  {
   "attachments": {},
   "cell_type": "markdown",
   "metadata": {},
   "source": [
    "We shall choose the Hyperparameters in our setup"
   ]
  },
  {
   "cell_type": "code",
   "execution_count": 49,
   "metadata": {},
   "outputs": [],
   "source": [
    "# Hardware hyperparameters\n",
    "chosen_device = torch.device('cuda' \n",
    "if torch.cuda.is_available() else 'cpu')\n",
    "\n",
    "\n",
    "# Data hyperparameters\n",
    "nb_train = 20\n",
    "nb_test = 5\n",
    "chosen_bs = 1\n",
    "\n",
    "# Student training parameters\n",
    "# mps parameters\n",
    "bond_dim = 20\n",
    "adaptive_mode = False\n",
    "periodic_bc = False\n",
    "# gaussian noise parameters\n",
    "gn_var = 0.3\n",
    "gn_mean = 0\n",
    "n_epochs_lmps = 18\n",
    "mps_learn_rate = 0.0001\n",
    "mps_reg = 0.0\n",
    "student_loss = nn.CrossEntropyLoss().to(chosen_device)"
   ]
  },
  {
   "cell_type": "code",
   "execution_count": 50,
   "metadata": {},
   "outputs": [],
   "source": [
    "# Import the mnist dataset\n",
    "train_set = torchvision.datasets.MNIST(root = './datasets', train = True,    transform = transforms.ToTensor(),  download = True )\n",
    "\n",
    "train_subset = torch.utils.data.SubsetRandomSampler(range(nb_train))\n",
    "\n",
    "train_iterator = torch.utils.data.DataLoader(dataset = train_set, sampler = train_subset, batch_size=chosen_bs)\n",
    "\n",
    "\n",
    "test_set = torchvision.datasets.MNIST(root = './datasets', train = False, transform = transforms.ToTensor(),  download = True)\n",
    "\n",
    "test_subset = torch.utils.data.SubsetRandomSampler(range(nb_test))\n",
    "\n",
    "test_iterator = torch.utils.data.DataLoader(dataset = test_set, sampler = test_subset, batch_size = chosen_bs)"
   ]
  },
  {
   "cell_type": "code",
   "execution_count": 55,
   "metadata": {},
   "outputs": [
    {
     "name": "stdout",
     "output_type": "stream",
     "text": [
      "torch.Size([1, 1, 28, 28])\n",
      "torch.Size([1, 16, 49])\n"
     ]
    },
    {
     "ename": "AssertionError",
     "evalue": "",
     "output_type": "error",
     "traceback": [
      "\u001b[1;31m---------------------------------------------------------------------------\u001b[0m",
      "\u001b[1;31mAssertionError\u001b[0m                            Traceback (most recent call last)",
      "Cell \u001b[1;32mIn[55], line 46\u001b[0m\n\u001b[0;32m     44\u001b[0m y_mb \u001b[39m=\u001b[39m y_mb\u001b[39m.\u001b[39mto(chosen_device)\n\u001b[0;32m     45\u001b[0m \u001b[39m# Foward propagation\u001b[39;00m\n\u001b[1;32m---> 46\u001b[0m y_hat_mb \u001b[39m=\u001b[39m student(x_mb)\n\u001b[0;32m     47\u001b[0m loss \u001b[39m=\u001b[39m student_loss(y_hat_mb, y_mb)\n\u001b[0;32m     48\u001b[0m \u001b[39m# Backpropagation\u001b[39;00m\n",
      "File \u001b[1;32mc:\\ProgramData\\miniconda3\\lib\\site-packages\\torch\\nn\\modules\\module.py:1194\u001b[0m, in \u001b[0;36mModule._call_impl\u001b[1;34m(self, *input, **kwargs)\u001b[0m\n\u001b[0;32m   1190\u001b[0m \u001b[39m# If we don't have any hooks, we want to skip the rest of the logic in\u001b[39;00m\n\u001b[0;32m   1191\u001b[0m \u001b[39m# this function, and just call forward.\u001b[39;00m\n\u001b[0;32m   1192\u001b[0m \u001b[39mif\u001b[39;00m \u001b[39mnot\u001b[39;00m (\u001b[39mself\u001b[39m\u001b[39m.\u001b[39m_backward_hooks \u001b[39mor\u001b[39;00m \u001b[39mself\u001b[39m\u001b[39m.\u001b[39m_forward_hooks \u001b[39mor\u001b[39;00m \u001b[39mself\u001b[39m\u001b[39m.\u001b[39m_forward_pre_hooks \u001b[39mor\u001b[39;00m _global_backward_hooks\n\u001b[0;32m   1193\u001b[0m         \u001b[39mor\u001b[39;00m _global_forward_hooks \u001b[39mor\u001b[39;00m _global_forward_pre_hooks):\n\u001b[1;32m-> 1194\u001b[0m     \u001b[39mreturn\u001b[39;00m forward_call(\u001b[39m*\u001b[39m\u001b[39minput\u001b[39m, \u001b[39m*\u001b[39m\u001b[39m*\u001b[39mkwargs)\n\u001b[0;32m   1195\u001b[0m \u001b[39m# Do not call functions when jit is used\u001b[39;00m\n\u001b[0;32m   1196\u001b[0m full_backward_hooks, non_full_backward_hooks \u001b[39m=\u001b[39m [], []\n",
      "Cell \u001b[1;32mIn[55], line 27\u001b[0m, in \u001b[0;36mLMPS_patcher.forward\u001b[1;34m(self, x)\u001b[0m\n\u001b[0;32m     25\u001b[0m vector \u001b[39m=\u001b[39m torch\u001b[39m.\u001b[39mzeros([\u001b[39m49\u001b[39m, \u001b[39m1\u001b[39m], dtype\u001b[39m=\u001b[39mtorch\u001b[39m.\u001b[39mint32)\n\u001b[0;32m     26\u001b[0m \u001b[39mfor\u001b[39;00m i, patch \u001b[39min\u001b[39;00m \u001b[39menumerate\u001b[39m(patches):\n\u001b[1;32m---> 27\u001b[0m     vector[i] \u001b[39m=\u001b[39m \u001b[39mself\u001b[39;49m\u001b[39m.\u001b[39;49mmps_student(patch\u001b[39m.\u001b[39;49mreshape(\u001b[39m-\u001b[39;49m\u001b[39m1\u001b[39;49m))\n\u001b[0;32m     28\u001b[0m y \u001b[39m=\u001b[39m \u001b[39mself\u001b[39m\u001b[39m.\u001b[39mlin(vector)\n\u001b[0;32m     29\u001b[0m y \u001b[39m=\u001b[39m \u001b[39mself\u001b[39m\u001b[39m.\u001b[39mrelu(y)\n",
      "File \u001b[1;32mc:\\ProgramData\\miniconda3\\lib\\site-packages\\torch\\nn\\modules\\module.py:1194\u001b[0m, in \u001b[0;36mModule._call_impl\u001b[1;34m(self, *input, **kwargs)\u001b[0m\n\u001b[0;32m   1190\u001b[0m \u001b[39m# If we don't have any hooks, we want to skip the rest of the logic in\u001b[39;00m\n\u001b[0;32m   1191\u001b[0m \u001b[39m# this function, and just call forward.\u001b[39;00m\n\u001b[0;32m   1192\u001b[0m \u001b[39mif\u001b[39;00m \u001b[39mnot\u001b[39;00m (\u001b[39mself\u001b[39m\u001b[39m.\u001b[39m_backward_hooks \u001b[39mor\u001b[39;00m \u001b[39mself\u001b[39m\u001b[39m.\u001b[39m_forward_hooks \u001b[39mor\u001b[39;00m \u001b[39mself\u001b[39m\u001b[39m.\u001b[39m_forward_pre_hooks \u001b[39mor\u001b[39;00m _global_backward_hooks\n\u001b[0;32m   1193\u001b[0m         \u001b[39mor\u001b[39;00m _global_forward_hooks \u001b[39mor\u001b[39;00m _global_forward_pre_hooks):\n\u001b[1;32m-> 1194\u001b[0m     \u001b[39mreturn\u001b[39;00m forward_call(\u001b[39m*\u001b[39m\u001b[39minput\u001b[39m, \u001b[39m*\u001b[39m\u001b[39m*\u001b[39mkwargs)\n\u001b[0;32m   1195\u001b[0m \u001b[39m# Do not call functions when jit is used\u001b[39;00m\n\u001b[0;32m   1196\u001b[0m full_backward_hooks, non_full_backward_hooks \u001b[39m=\u001b[39m [], []\n",
      "File \u001b[1;32m~\\AppData\\Roaming\\Python\\Python310\\site-packages\\torchmps\\torchmps.py:478\u001b[0m, in \u001b[0;36mMPS.forward\u001b[1;34m(self, input_data)\u001b[0m\n\u001b[0;32m    475\u001b[0m     input_data \u001b[39m=\u001b[39m torch\u001b[39m.\u001b[39mstack(path_inputs, dim\u001b[39m=\u001b[39m\u001b[39m1\u001b[39m)\n\u001b[0;32m    477\u001b[0m \u001b[39m# Embed our input data before feeding it into our linear region\u001b[39;00m\n\u001b[1;32m--> 478\u001b[0m input_data \u001b[39m=\u001b[39m \u001b[39mself\u001b[39;49m\u001b[39m.\u001b[39;49membed_input(input_data)\n\u001b[0;32m    479\u001b[0m output \u001b[39m=\u001b[39m \u001b[39mself\u001b[39m\u001b[39m.\u001b[39mlinear_region(input_data)\n\u001b[0;32m    481\u001b[0m \u001b[39m# If we got a tuple as output, then use the last two entries to\u001b[39;00m\n\u001b[0;32m    482\u001b[0m \u001b[39m# update our bond dimensions and singular values\u001b[39;00m\n",
      "File \u001b[1;32m~\\AppData\\Roaming\\Python\\Python310\\site-packages\\torchmps\\torchmps.py:510\u001b[0m, in \u001b[0;36mMPS.embed_input\u001b[1;34m(self, input_data)\u001b[0m\n\u001b[0;32m    496\u001b[0m \u001b[39mdef\u001b[39;00m \u001b[39membed_input\u001b[39m(\u001b[39mself\u001b[39m, input_data):\n\u001b[0;32m    497\u001b[0m \u001b[39m    \u001b[39m\u001b[39m\"\"\"\u001b[39;00m\n\u001b[0;32m    498\u001b[0m \u001b[39m    Embed pixels of input_data into separate local feature spaces\u001b[39;00m\n\u001b[0;32m    499\u001b[0m \n\u001b[1;32m   (...)\u001b[0m\n\u001b[0;32m    508\u001b[0m \u001b[39m                                [batch_size, input_dim, feature_dim]\u001b[39;00m\n\u001b[0;32m    509\u001b[0m \u001b[39m    \"\"\"\u001b[39;00m\n\u001b[1;32m--> 510\u001b[0m     \u001b[39massert\u001b[39;00m \u001b[39mlen\u001b[39m(input_data\u001b[39m.\u001b[39mshape) \u001b[39min\u001b[39;00m [\u001b[39m2\u001b[39m, \u001b[39m3\u001b[39m]\n\u001b[0;32m    511\u001b[0m     \u001b[39massert\u001b[39;00m input_data\u001b[39m.\u001b[39msize(\u001b[39m1\u001b[39m) \u001b[39m==\u001b[39m \u001b[39mself\u001b[39m\u001b[39m.\u001b[39minput_dim\n\u001b[0;32m    513\u001b[0m     \u001b[39m# If input already has a feature dimension, return it as is\u001b[39;00m\n",
      "\u001b[1;31mAssertionError\u001b[0m: "
     ]
    }
   ],
   "source": [
    "\n",
    "class LMPS_patcher(nn.Module):\n",
    "    def __init__(self):\n",
    "        super(LMPS_patcher, self).__init__()\n",
    "        self.mps_student = MPS(\n",
    "            input_dim = 8 * 8,\n",
    "            output_dim = 1,\n",
    "            bond_dim=bond_dim,\n",
    "            adaptive_mode=adaptive_mode,\n",
    "            periodic_bc=periodic_bc,\n",
    "        )\n",
    "        # our original Φ, which creates the multilinear feature space\n",
    "        self.feature_map = lambda x : torch.tensor([1, x])\n",
    "        # to make the mps use our feature map for the inputs\n",
    "        self.mps_student.register_feature_map(self.feature_map)\n",
    "        # turns the input image into a set of images\n",
    "        self.patcher = torch.nn.Unfold(kernel_size=(4, 4), \n",
    "            dilation=1, padding=0, stride=4)\n",
    "        self.nb_patches = 784 / (8 * 8)\n",
    "        self.lin = nn.Linear(49, 10)\n",
    "        self.relu = nn.ReLU()\n",
    "    def forward(self, x):\n",
    "        print(x.size())\n",
    "        patches = self.patcher(x)\n",
    "        print(patches.size())\n",
    "        vector = torch.zeros([49, 1], dtype=torch.int32)\n",
    "        for i, patch in enumerate(patches):\n",
    "            vector[i] = self.mps_student(patch.reshape(-1))\n",
    "        y = self.lin(vector)\n",
    "        y = self.relu(y)\n",
    "        return y\n",
    "\n",
    "student = LMPS_patcher()\n",
    "\n",
    "# Instantiate the optimizer and softmax\n",
    "student_optimizer = torch.optim.Adam(student.parameters(), lr = mps_learn_rate,\n",
    "                                  weight_decay = mps_reg)\n",
    "softmax = nn.Softmax(dim=1)\n",
    "\n",
    "# Training loop \n",
    "for epoch in range(n_epochs_lmps):\n",
    "    for (x_mb, y_mb) in train_iterator:\n",
    "        # Reshape the train_tuple and put on the chosen device\n",
    "        x_mb = x_mb.to(chosen_device)\n",
    "        y_mb = y_mb.to(chosen_device)\n",
    "        # Foward propagation\n",
    "        y_hat_mb = student(x_mb)\n",
    "        loss = student_loss(y_hat_mb, y_mb)\n",
    "        # Backpropagation\n",
    "        loss.backward()\n",
    "        student_optimizer.step()\n",
    "        student_optimizer.zero_grad()\n",
    "\n",
    "    print(loss.item())\n",
    "\n",
    "\n",
    "# get accuracy\n",
    "for (x_mb, y_mb) in test_iterator:\n",
    "    print(\"testing teacher\")\n",
    "    print(MulticlassAccuracy(num_classes=10)(student(x_mb.reshape(-1, 784)), y_mb))\n"
   ]
  }
 ],
 "metadata": {
  "kernelspec": {
   "display_name": "base",
   "language": "python",
   "name": "python3"
  },
  "language_info": {
   "codemirror_mode": {
    "name": "ipython",
    "version": 3
   },
   "file_extension": ".py",
   "mimetype": "text/x-python",
   "name": "python",
   "nbconvert_exporter": "python",
   "pygments_lexer": "ipython3",
   "version": "3.10.8"
  },
  "orig_nbformat": 4,
  "vscode": {
   "interpreter": {
    "hash": "67bfac4f4aefe1c16f1836a62d55b6e6baa7aba1ac5ce70e93ee8e90eb4f073a"
   }
  }
 },
 "nbformat": 4,
 "nbformat_minor": 2
}

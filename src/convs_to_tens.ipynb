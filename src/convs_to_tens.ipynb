{
 "cells": [
  {
   "cell_type": "code",
   "execution_count": 3,
   "metadata": {},
   "outputs": [
    {
     "name": "stdout",
     "output_type": "stream",
     "text": [
      "Defaulting to user installation because normal site-packages is not writeable\n",
      "Collecting git+https://github.com/jemisjoky/TorchMPS.git\n",
      "  Cloning https://github.com/jemisjoky/TorchMPS.git to c:\\users\\piche\\appdata\\local\\temp\\pip-req-build-ndu3qjyo\n",
      "  Resolved https://github.com/jemisjoky/TorchMPS.git to commit 6c0bc1a8e2c15acba8570ca9ffe2b4a0c7135165\n",
      "  Preparing metadata (setup.py): started\n",
      "  Preparing metadata (setup.py): finished with status 'done'\n",
      "Requirement already satisfied: torch>=1.8.1 in c:\\programdata\\miniconda3\\lib\\site-packages (from torchmps==0.1.0) (1.13.1)\n",
      "Requirement already satisfied: opt_einsum>=3.3.0 in c:\\users\\piche\\appdata\\roaming\\python\\python310\\site-packages (from torchmps==0.1.0) (3.3.0)\n",
      "Requirement already satisfied: numpy>=1.7 in c:\\programdata\\miniconda3\\lib\\site-packages (from opt_einsum>=3.3.0->torchmps==0.1.0) (1.23.5)\n",
      "Requirement already satisfied: typing_extensions in c:\\programdata\\miniconda3\\lib\\site-packages (from torch>=1.8.1->torchmps==0.1.0) (4.4.0)\n"
     ]
    },
    {
     "name": "stderr",
     "output_type": "stream",
     "text": [
      "  Running command git clone --filter=blob:none --quiet https://github.com/jemisjoky/TorchMPS.git 'C:\\Users\\piche\\AppData\\Local\\Temp\\pip-req-build-ndu3qjyo'\n"
     ]
    },
    {
     "name": "stdout",
     "output_type": "stream",
     "text": [
      "^C\n",
      "Defaulting to user installation because normal site-packages is not writeable\n",
      "Collecting git+https://github.com/rballester/tntorch.git\n",
      "  Cloning https://github.com/rballester/tntorch.git to c:\\users\\piche\\appdata\\local\\temp\\pip-req-build-gsb24hy9\n",
      "  Resolved https://github.com/rballester/tntorch.git to commit 241bf7ad2b806f6677a5e23534247f35f3a70f10\n",
      "  Preparing metadata (setup.py): started\n",
      "  Preparing metadata (setup.py): finished with status 'done'\n",
      "Requirement already satisfied: numpy in c:\\programdata\\miniconda3\\lib\\site-packages (from tntorch==1.1.1) (1.23.5)\n",
      "Requirement already satisfied: scipy in c:\\users\\piche\\appdata\\roaming\\python\\python310\\site-packages (from tntorch==1.1.1) (1.10.0)\n",
      "Requirement already satisfied: torch>=1.11 in c:\\programdata\\miniconda3\\lib\\site-packages (from tntorch==1.1.1) (1.13.1)\n",
      "Requirement already satisfied: typing_extensions in c:\\programdata\\miniconda3\\lib\\site-packages (from torch>=1.11->tntorch==1.1.1) (4.4.0)\n"
     ]
    },
    {
     "name": "stderr",
     "output_type": "stream",
     "text": [
      "  Running command git clone --filter=blob:none --quiet https://github.com/rballester/tntorch.git 'C:\\Users\\piche\\AppData\\Local\\Temp\\pip-req-build-gsb24hy9'\n"
     ]
    },
    {
     "name": "stdout",
     "output_type": "stream",
     "text": [
      "Defaulting to user installation because normal site-packages is not writeable\n",
      "Requirement already satisfied: torchmetrics in c:\\users\\piche\\appdata\\roaming\\python\\python310\\site-packages (0.11.1)\n",
      "Requirement already satisfied: packaging in c:\\programdata\\miniconda3\\lib\\site-packages (from torchmetrics) (22.0)\n",
      "Requirement already satisfied: torch>=1.8.1 in c:\\programdata\\miniconda3\\lib\\site-packages (from torchmetrics) (1.13.1)\n",
      "Requirement already satisfied: numpy>=1.17.2 in c:\\programdata\\miniconda3\\lib\\site-packages (from torchmetrics) (1.23.5)\n",
      "Requirement already satisfied: typing_extensions in c:\\programdata\\miniconda3\\lib\\site-packages (from torch>=1.8.1->torchmetrics) (4.4.0)\n"
     ]
    }
   ],
   "source": [
    "!pip install \"git+https://github.com/jemisjoky/TorchMPS.git\"\n",
    "!pip install \"git+https://github.com/rballester/tntorch.git\"\n",
    "import tntorch as tn\n",
    "import torch\n",
    "import torch.nn as nn\n",
    "import torchvision\n",
    "import torchvision.transforms as transforms\n",
    "!pip install torchmetrics\n",
    "from torchmetrics.classification import MulticlassAccuracy\n",
    "from torchmps import MPS"
   ]
  },
  {
   "attachments": {},
   "cell_type": "markdown",
   "metadata": {},
   "source": [
    "We shall choose the Hyperparameters in our setup"
   ]
  },
  {
   "cell_type": "code",
   "execution_count": 4,
   "metadata": {},
   "outputs": [
    {
     "ename": "NameError",
     "evalue": "name 'chosen_device' is not defined",
     "output_type": "error",
     "traceback": [
      "\u001b[1;31m---------------------------------------------------------------------------\u001b[0m",
      "\u001b[1;31mNameError\u001b[0m                                 Traceback (most recent call last)",
      "Cell \u001b[1;32mIn[4], line 16\u001b[0m\n\u001b[0;32m     14\u001b[0m mps_learn_rate \u001b[39m=\u001b[39m \u001b[39m0.0001\u001b[39m\n\u001b[0;32m     15\u001b[0m mps_reg \u001b[39m=\u001b[39m \u001b[39m0.0\u001b[39m\n\u001b[1;32m---> 16\u001b[0m student_chosen_loss \u001b[39m=\u001b[39m nn\u001b[39m.\u001b[39mCrossEntropyLoss()\u001b[39m.\u001b[39mto(chosen_device)\n",
      "\u001b[1;31mNameError\u001b[0m: name 'chosen_device' is not defined"
     ]
    }
   ],
   "source": [
    "# Data hyperparameters\n",
    "nb_train = 20\n",
    "nb_test = 5\n",
    "chosen_bs = 150\n",
    "\n",
    "# Student training parameters\n",
    "# MPS parameters\n",
    "bond_dim = 20\n",
    "adaptive_mode = False\n",
    "periodic_bc = False\n",
    "gn_var = 0.3 #added gaussian noise variance\n",
    "gn_mean = 0 #added gaussian noise mean\n",
    "n_epochs_lmps = 18\n",
    "mps_learn_rate = 0.0001\n",
    "mps_reg = 0.0\n",
    "student_chosen_loss = nn.CrossEntropyLoss().to(chosen_device)"
   ]
  },
  {
   "cell_type": "code",
   "execution_count": null,
   "metadata": {},
   "outputs": [],
   "source": [
    "# Import the mnist dataset\n",
    "train_set = torchvision.datasets.MNIST(root = './datasets', train = True,    transform = transforms.ToTensor(),  download = True )\n",
    "\n",
    "train_subset = torch.utils.data.SubsetRandomSampler(range(nb_train))\n",
    "\n",
    "train_iterator = torch.utils.data.DataLoader(dataset = train_set, sampler = train_subset, batch_size=chosen_bs)\n",
    "\n",
    "\n",
    "test_set = torchvision.datasets.MNIST(root = './datasets', train = False, transform = transforms.ToTensor(),  download = True)\n",
    "\n",
    "test_subset = torch.utils.data.SubsetRandomSampler(range(nb_test))\n",
    "\n",
    "test_iterator = torch.utils.data.DataLoader(dataset = test_set, sampler = test_subset, batch_size = chosen_bs)"
   ]
  },
  {
   "cell_type": "code",
   "execution_count": null,
   "metadata": {},
   "outputs": [],
   "source": [
    "\n",
    "class LMPS_patcher(nn.Module):\n",
    "    def __init__(self):\n",
    "        super(LMPS_patcher, self).__init__()\n",
    "        mps_student = MPS(\n",
    "            input_dim=28 ** 2,\n",
    "            output_dim=10,\n",
    "            bond_dim=bond_dim,\n",
    "            adaptive_mode=adaptive_mode,\n",
    "            periodic_bc=periodic_bc,\n",
    "        )\n",
    "\n",
    "    def forward(self, mps_student):\n",
    "        y = self.mps_student(x)\n",
    "        return y\n",
    "\n",
    "student = LMPS_patcher()\n",
    "\n",
    "# Instantiate the optimizer and softmax\n",
    "student_optimizer = torch.optim.Adam(student.parameters(), lr = mps_learn_rate,\n",
    "                                  weight_decay = mps_reg)\n",
    "softmax = nn.Softmax(dim=1)\n",
    "\n",
    "# Training loop \n",
    "for epoch in range(n_epochs_lmps):\n",
    "    for (x_mb, _) in train_iterator:\n",
    "        # Reshape, add gaussian noise, put on the chosen device\n",
    "        x_mb = x_mb.reshape(-1, 784).to(chosen_device)\n",
    "        x_mb = (x_mb + torch.randn(size=x_mb.size())).to(chosen_device)\n",
    "\n",
    "        # Get softmax of output of teacher\n",
    "        y_mb = (softmax(fcnn_teacher(x_mb))).to(chosen_device)\n",
    "\n",
    "        # Foward propagation\n",
    "        y_hat_mb = student(x_mb)\n",
    "        loss = student_chosen_loss(y_hat_mb, y_mb)\n",
    "\n",
    "        # Backpropagation\n",
    "        loss.backward()\n",
    "        lmps_optimizer.step()\n",
    "        lmps_optimizer.zero_grad()\n",
    "\n",
    "    print(loss.item())\n",
    "\n",
    "\n",
    "# get accuracy\n",
    "for (x_mb, y_mb) in test_iterator:\n",
    "    print(\"testing teacher\")\n",
    "    print(MulticlassAccuracy(num_classes=10)(mps_student(x_mb.reshape(-1, 784)), y_mb))\n"
   ]
  }
 ],
 "metadata": {
  "kernelspec": {
   "display_name": "base",
   "language": "python",
   "name": "python3"
  },
  "language_info": {
   "codemirror_mode": {
    "name": "ipython",
    "version": 3
   },
   "file_extension": ".py",
   "mimetype": "text/x-python",
   "name": "python",
   "nbconvert_exporter": "python",
   "pygments_lexer": "ipython3",
   "version": "3.10.8"
  },
  "orig_nbformat": 4,
  "vscode": {
   "interpreter": {
    "hash": "67bfac4f4aefe1c16f1836a62d55b6e6baa7aba1ac5ce70e93ee8e90eb4f073a"
   }
  }
 },
 "nbformat": 4,
 "nbformat_minor": 2
}

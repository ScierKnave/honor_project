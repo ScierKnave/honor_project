{
  "cells": [
    {
      "cell_type": "code",
      "execution_count": null,
      "metadata": {
        "id": "dhRPzhrdrGBY"
      },
      "outputs": [],
      "source": [
        "!pip install \"git+https://github.com/jemisjoky/TorchMPS.git\"\n",
        "import torch\n",
        "import torch.nn as nn\n",
        "import torchvision\n",
        "import torchvision.transforms as transforms\n",
        "!pip install torchmetrics\n",
        "from torchmetrics.classification import MulticlassAccuracy\n",
        "from torchmps import MPS"
      ]
    },
    {
      "cell_type": "markdown",
      "metadata": {
        "id": "bh-ToMoMrGBa"
      },
      "source": [
        "We shall choose the Hyperparameters in our setup"
      ]
    },
    {
      "cell_type": "code",
      "execution_count": 53,
      "metadata": {
        "id": "YIOnV_vXrGBb"
      },
      "outputs": [],
      "source": [
        "# Hardware hyperparameters\n",
        "chosen_device = torch.device('cuda' if torch.cuda.is_available() else 'cpu')\n",
        "\n",
        "\n",
        "# Data hyperparameters\n",
        "data_dim = [1,28,28] # size of the individual input images (channel size, dims)\n",
        "nb_train = 2000\n",
        "nb_test = 500\n",
        "chosen_bs = 100\n",
        "nb_classes = 10\n",
        "\n",
        "# Kernel parameters\n",
        "kernel_size = 10\n",
        "padding = 0\n",
        "stride = 4\n",
        "\n",
        "# Student training hyperparameters\n",
        "# general settings\n",
        "n_epochs_lmps = 5\n",
        "mps_learn_rate = 0.0001\n",
        "mps_reg = 0.0\n",
        "student_loss = nn.CrossEntropyLoss().to(chosen_device)\n",
        "# mps parameters\n",
        "input_dim = kernel_size**2\n",
        "output_dim = 1\n",
        "feature_dim = 2\n",
        "bond_dim = 20\n",
        "adaptive_mode = False\n",
        "periodic_bc = False\n",
        "# gaussian noise parameters\n",
        "gn_var = 0.3\n",
        "gn_mean = 0\n"
      ]
    },
    {
      "cell_type": "markdown",
      "metadata": {
        "id": "0ZaIJwF8rGBb"
      },
      "source": [
        "Here, we import the mnist dataset"
      ]
    },
    {
      "cell_type": "code",
      "execution_count": 54,
      "metadata": {
        "id": "CQovglmHrGBc"
      },
      "outputs": [],
      "source": [
        "# Import the mnist dataset\n",
        "train_set = torchvision.datasets.MNIST(root = './datasets', train = True,    transform = transforms.ToTensor(),  download = True )\n",
        "\n",
        "train_subset = torch.utils.data.SubsetRandomSampler(range(nb_train))\n",
        "\n",
        "train_iterator = torch.utils.data.DataLoader(dataset = train_set, sampler = train_subset, batch_size=chosen_bs)\n",
        "\n",
        "\n",
        "test_set = torchvision.datasets.MNIST(root = './datasets', train = False, transform = transforms.ToTensor(),  download = True)\n",
        "\n",
        "test_subset = torch.utils.data.SubsetRandomSampler(range(nb_test))\n",
        "\n",
        "test_iterator = torch.utils.data.DataLoader(dataset = test_set, sampler = test_subset, batch_size = chosen_bs)"
      ]
    },
    {
      "cell_type": "code",
      "execution_count": null,
      "metadata": {
        "id": "gyPGzkSgrGBc"
      },
      "outputs": [],
      "source": [
        "\n",
        "class LMPS_patcher(nn.Module):\n",
        "    def __init__(self):\n",
        "        super(LMPS_patcher, self).__init__()\n",
        "\n",
        "        # Create the MPS instance for the student\n",
        "        self.mps_student = MPS(\n",
        "            input_dim = input_dim,\n",
        "            feature_dim = feature_dim,\n",
        "            output_dim = output_dim,\n",
        "            bond_dim = bond_dim,\n",
        "            adaptive_mode = adaptive_mode,\n",
        "            periodic_bc = periodic_bc,\n",
        "        ).to(chosen_device)\n",
        "        # we define our original Φ, which creates the multilinear feature space\n",
        "        self.feature_map = lambda x : torch.tensor([1, x]).to(chosen_device)\n",
        "        # to make the mps use our feature map for the inputs\n",
        "        self.mps_student.register_feature_map(self.feature_map)\n",
        "\n",
        "\n",
        "        # Create the unfolder, which will create our patches\n",
        "        # the output size is [batch_size, nb_patches, patch_size]\n",
        "        self.folding_params = dict(kernel_size=kernel_size, \n",
        "            dilation=1, padding=padding, stride=stride)\n",
        "        self.unfolder = torch.nn.Unfold(**self.folding_params)\n",
        "\n",
        "        # Get the number of patches with a little trick\n",
        "        fake_image = torch.zeros([1] + data_dim)\n",
        "        unfold_output = self.unfolder(fake_image)\n",
        "        nb_patches = unfold_output.size()[2]\n",
        "        self.nb_patches = nb_patches\n",
        "\n",
        "\n",
        "        # Fully connected layer\n",
        "        self.lin = nn.Linear(nb_patches, nb_classes)\n",
        "        self.relu = nn.ReLU()\n",
        "\n",
        "    def forward(self, x):\n",
        "        self.patches = self.unfolder(x)\n",
        "        self.mps_outputs = torch.zeros([x.size()[0], self.nb_patches]).to(chosen_device)\n",
        "        for i in range(x.size()[0]):\n",
        "            for j in range(self.nb_patches):\n",
        "                # get patch tensor\n",
        "                self.flattened_patch = self.patches[i,:,j].reshape(1, kernel_size**2)\n",
        "                self.mps_outputs[i,j] = self.mps_student(self.flattened_patch)\n",
        "\n",
        "        y = self.lin(self.mps_outputs)\n",
        "        y = self.relu(y)\n",
        "        return y\n",
        "\n",
        "\n",
        "student = LMPS_patcher().to(chosen_device)\n",
        "\n",
        "# Instantiate the optimizer and softmax\n",
        "student_optimizer = torch.optim.Adam(student.parameters(), lr = mps_learn_rate,\n",
        "                                  weight_decay = mps_reg)\n",
        "softmax = nn.Softmax(dim=1)\n",
        "\n",
        "# Training loop \n",
        "for epoch in range(n_epochs_lmps):\n",
        "    for (x_mb, y_mb) in train_iterator:\n",
        "        # Reshape the train_tuple and put on the chosen device\n",
        "        x_mb = x_mb.to(chosen_device)\n",
        "        y_mb = y_mb.to(chosen_device)\n",
        "        # Foward propagation\n",
        "        y_hat_mb = student(x_mb)\n",
        "        loss = student_loss(y_hat_mb, y_mb)\n",
        "        # Backpropagation\n",
        "        loss.backward()\n",
        "        student_optimizer.step()\n",
        "        student_optimizer.zero_grad()\n",
        "\n",
        "    print(loss.item())\n",
        "\n",
        "\n",
        "# get accuracy\n",
        "\n",
        "for (x_mb, y_mb) in test_iterator:\n",
        "    x_mb = x_mb.to(chosen_device)\n",
        "    y_mb = y_mb.to(chosen_device)\n",
        "    metric = MulticlassAccuracy(num_classes=10).to(chosen_device)\n",
        "    print(  metric( student(x_mb), y_mb )  )\n"
      ]
    }
  ],
  "metadata": {
    "kernelspec": {
      "display_name": "base",
      "language": "python",
      "name": "python3"
    },
    "language_info": {
      "codemirror_mode": {
        "name": "ipython",
        "version": 3
      },
      "file_extension": ".py",
      "mimetype": "text/x-python",
      "name": "python",
      "nbconvert_exporter": "python",
      "pygments_lexer": "ipython3",
      "version": "3.10.8"
    },
    "orig_nbformat": 4,
    "vscode": {
      "interpreter": {
        "hash": "67bfac4f4aefe1c16f1836a62d55b6e6baa7aba1ac5ce70e93ee8e90eb4f073a"
      }
    },
    "colab": {
      "provenance": []
    },
    "accelerator": "GPU",
    "gpuClass": "standard"
  },
  "nbformat": 4,
  "nbformat_minor": 0
}
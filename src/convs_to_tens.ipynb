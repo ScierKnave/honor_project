{
 "cells": [
  {
   "cell_type": "code",
   "execution_count": 71,
   "metadata": {},
   "outputs": [
    {
     "name": "stdout",
     "output_type": "stream",
     "text": [
      "Defaulting to user installation because normal site-packages is not writeable\n",
      "Collecting git+https://github.com/jemisjoky/TorchMPS.git\n",
      "  Cloning https://github.com/jemisjoky/TorchMPS.git to c:\\users\\piche\\appdata\\local\\temp\\pip-req-build-hv9d1uxr\n",
      "  Resolved https://github.com/jemisjoky/TorchMPS.git to commit 6c0bc1a8e2c15acba8570ca9ffe2b4a0c7135165\n",
      "  Preparing metadata (setup.py): started\n",
      "  Preparing metadata (setup.py): finished with status 'done'\n",
      "Requirement already satisfied: torch>=1.8.1 in c:\\programdata\\miniconda3\\lib\\site-packages (from torchmps==0.1.0) (1.13.1)\n",
      "Requirement already satisfied: opt_einsum>=3.3.0 in c:\\users\\piche\\appdata\\roaming\\python\\python310\\site-packages (from torchmps==0.1.0) (3.3.0)\n",
      "Requirement already satisfied: numpy>=1.7 in c:\\programdata\\miniconda3\\lib\\site-packages (from opt_einsum>=3.3.0->torchmps==0.1.0) (1.23.5)\n",
      "Requirement already satisfied: typing_extensions in c:\\programdata\\miniconda3\\lib\\site-packages (from torch>=1.8.1->torchmps==0.1.0) (4.4.0)\n"
     ]
    },
    {
     "name": "stderr",
     "output_type": "stream",
     "text": [
      "  Running command git clone --filter=blob:none --quiet https://github.com/jemisjoky/TorchMPS.git 'C:\\Users\\piche\\AppData\\Local\\Temp\\pip-req-build-hv9d1uxr'\n"
     ]
    },
    {
     "name": "stdout",
     "output_type": "stream",
     "text": [
      "Defaulting to user installation because normal site-packages is not writeable\n",
      "Collecting git+https://github.com/rballester/tntorch.git\n",
      "  Cloning https://github.com/rballester/tntorch.git to c:\\users\\piche\\appdata\\local\\temp\\pip-req-build-jhq0iseq\n",
      "  Resolved https://github.com/rballester/tntorch.git to commit 241bf7ad2b806f6677a5e23534247f35f3a70f10\n",
      "  Preparing metadata (setup.py): started\n",
      "  Preparing metadata (setup.py): finished with status 'done'\n",
      "Requirement already satisfied: numpy in c:\\programdata\\miniconda3\\lib\\site-packages (from tntorch==1.1.1) (1.23.5)\n",
      "Requirement already satisfied: scipy in c:\\users\\piche\\appdata\\roaming\\python\\python310\\site-packages (from tntorch==1.1.1) (1.10.0)\n",
      "Requirement already satisfied: torch>=1.11 in c:\\programdata\\miniconda3\\lib\\site-packages (from tntorch==1.1.1) (1.13.1)\n",
      "Requirement already satisfied: typing_extensions in c:\\programdata\\miniconda3\\lib\\site-packages (from torch>=1.11->tntorch==1.1.1) (4.4.0)\n"
     ]
    },
    {
     "name": "stderr",
     "output_type": "stream",
     "text": [
      "  Running command git clone --filter=blob:none --quiet https://github.com/rballester/tntorch.git 'C:\\Users\\piche\\AppData\\Local\\Temp\\pip-req-build-jhq0iseq'\n"
     ]
    },
    {
     "name": "stdout",
     "output_type": "stream",
     "text": [
      "Defaulting to user installation because normal site-packages is not writeable\n",
      "Requirement already satisfied: torchmetrics in c:\\users\\piche\\appdata\\roaming\\python\\python310\\site-packages (0.11.1)\n",
      "Requirement already satisfied: packaging in c:\\programdata\\miniconda3\\lib\\site-packages (from torchmetrics) (22.0)\n",
      "Requirement already satisfied: numpy>=1.17.2 in c:\\programdata\\miniconda3\\lib\\site-packages (from torchmetrics) (1.23.5)\n",
      "Requirement already satisfied: torch>=1.8.1 in c:\\programdata\\miniconda3\\lib\\site-packages (from torchmetrics) (1.13.1)\n",
      "Requirement already satisfied: typing_extensions in c:\\programdata\\miniconda3\\lib\\site-packages (from torch>=1.8.1->torchmetrics) (4.4.0)\n"
     ]
    }
   ],
   "source": [
    "!pip install \"git+https://github.com/jemisjoky/TorchMPS.git\"\n",
    "!pip install \"git+https://github.com/rballester/tntorch.git\"\n",
    "import tntorch as tn\n",
    "import torch\n",
    "import torch.nn as nn\n",
    "import torchvision\n",
    "import torchvision.transforms as transforms\n",
    "!pip install torchmetrics\n",
    "from torchmetrics.classification import MulticlassAccuracy\n",
    "from torchmps import MPS"
   ]
  },
  {
   "attachments": {},
   "cell_type": "markdown",
   "metadata": {},
   "source": [
    "We shall choose the Hyperparameters in our setup"
   ]
  },
  {
   "cell_type": "code",
   "execution_count": 72,
   "metadata": {},
   "outputs": [],
   "source": [
    "# Hardware hyperparameters\n",
    "chosen_device = torch.device('cuda' \n",
    "if torch.cuda.is_available() else 'cpu')\n",
    "\n",
    "\n",
    "# Data hyperparameters\n",
    "data_dim = [1,28,28] # size of the individual input images (channel size, dims)\n",
    "nb_train = 4\n",
    "nb_test = 4\n",
    "chosen_bs = 2\n",
    "nb_classes = 10\n",
    "\n",
    "# Kernel parameters\n",
    "kernel_size = 4*4\n",
    "padding = 0\n",
    "stride = 4\n",
    "\n",
    "# Student training hyperparameters\n",
    "# general settings\n",
    "n_epochs_lmps = 18\n",
    "mps_learn_rate = 0.0001\n",
    "mps_reg = 0.0\n",
    "student_loss = nn.CrossEntropyLoss().to(chosen_device)\n",
    "# mps parameters\n",
    "input_dim = kernel_size\n",
    "output_dim = 1\n",
    "feature_dim = 2\n",
    "bond_dim = 20\n",
    "adaptive_mode = False\n",
    "periodic_bc = False\n",
    "# gaussian noise parameters\n",
    "gn_var = 0.3\n",
    "gn_mean = 0\n"
   ]
  },
  {
   "cell_type": "code",
   "execution_count": 73,
   "metadata": {},
   "outputs": [],
   "source": [
    "# Import the mnist dataset\n",
    "train_set = torchvision.datasets.MNIST(root = './datasets', train = True,    transform = transforms.ToTensor(),  download = True )\n",
    "\n",
    "train_subset = torch.utils.data.SubsetRandomSampler(range(nb_train))\n",
    "\n",
    "train_iterator = torch.utils.data.DataLoader(dataset = train_set, sampler = train_subset, batch_size=chosen_bs)\n",
    "\n",
    "\n",
    "test_set = torchvision.datasets.MNIST(root = './datasets', train = False, transform = transforms.ToTensor(),  download = True)\n",
    "\n",
    "test_subset = torch.utils.data.SubsetRandomSampler(range(nb_test))\n",
    "\n",
    "test_iterator = torch.utils.data.DataLoader(dataset = test_set, sampler = test_subset, batch_size = chosen_bs)"
   ]
  },
  {
   "cell_type": "code",
   "execution_count": 74,
   "metadata": {},
   "outputs": [
    {
     "name": "stdout",
     "output_type": "stream",
     "text": [
      "2.2074975967407227\n",
      "2.4286603927612305\n",
      "2.416226387023926\n",
      "2.4094557762145996\n",
      "2.4066452980041504\n",
      "2.404113292694092\n",
      "2.4018149375915527\n",
      "2.399850606918335\n",
      "2.3982415199279785\n",
      "2.3964695930480957\n",
      "2.0534210205078125\n",
      "2.39890193939209\n",
      "2.0431623458862305\n",
      "2.4048984050750732\n",
      "2.4079666137695312\n",
      "2.026909828186035\n",
      "2.413668155670166\n",
      "2.016709089279175\n",
      "testing student\n",
      "tensor(0.1000)\n",
      "testing student\n",
      "tensor(0.)\n"
     ]
    }
   ],
   "source": [
    "\n",
    "class LMPS_patcher(nn.Module):\n",
    "    def __init__(self):\n",
    "        super(LMPS_patcher, self).__init__()\n",
    "\n",
    "        # Create the MPS instance for the student\n",
    "        self.mps_student = MPS(\n",
    "            input_dim = input_dim,\n",
    "            feature_dim = feature_dim,\n",
    "            output_dim = output_dim,\n",
    "            bond_dim = bond_dim,\n",
    "            adaptive_mode = adaptive_mode,\n",
    "            periodic_bc = periodic_bc,\n",
    "        )\n",
    "        # we define our original Φ, which creates the multilinear feature space\n",
    "        self.feature_map = lambda x : torch.tensor([1, x]).reshape(-1)\n",
    "        # to make the mps use our feature map for the inputs\n",
    "        self.mps_student.register_feature_map(self.feature_map)\n",
    "\n",
    "\n",
    "        # Create the unfolder, which will create our patches\n",
    "        # the output size is [batch_size, nb_patches, patch_size]\n",
    "        self.folding_params = dict(kernel_size=kernel_size, \n",
    "            dilation=1, padding=padding, stride=stride)\n",
    "        self.unfolder = torch.nn.Unfold(**self.folding_params)\n",
    "\n",
    "        # Get the number of patches with a little trick\n",
    "        fake_image = torch.zeros([1] + data_dim)\n",
    "        unfold_output = self.unfolder(fake_image)\n",
    "        nb_patches = unfold_output.size()[1]\n",
    "        self.nb_patches = nb_patches\n",
    "\n",
    "        # To store the outputs of the MPS over the patches\n",
    "        self.mps_outputs = torch.zeros([chosen_bs, nb_patches])\n",
    "\n",
    "\n",
    "        # Fully connected layer\n",
    "        self.lin = nn.Linear(nb_patches, nb_classes)\n",
    "        self.relu = nn.ReLU()\n",
    "\n",
    "    def forward(self, x):\n",
    "        patches = self.unfolder(x)\n",
    "        mps_outputs = torch.zeros([chosen_bs, self.nb_patches])\n",
    "        for i in range(chosen_bs):\n",
    "            for j in range(self.nb_patches):\n",
    "                # get patch tensor\n",
    "                flattened_patch = patches[i,j,:].reshape((1, kernel_size))\n",
    "                mps_outputs[i,j] = self.mps_student(flattened_patch)\n",
    "        y = self.lin(mps_outputs)\n",
    "        y = self.relu(y)\n",
    "        return y\n",
    "\n",
    "\n",
    "student = LMPS_patcher()\n",
    "\n",
    "# Instantiate the optimizer and softmax\n",
    "student_optimizer = torch.optim.Adam(student.parameters(), lr = mps_learn_rate,\n",
    "                                  weight_decay = mps_reg)\n",
    "softmax = nn.Softmax(dim=1)\n",
    "\n",
    "# Training loop \n",
    "for epoch in range(n_epochs_lmps):\n",
    "    for (x_mb, y_mb) in train_iterator:\n",
    "        # Reshape the train_tuple and put on the chosen device\n",
    "        x_mb = x_mb.to(chosen_device)\n",
    "        y_mb = y_mb.to(chosen_device)\n",
    "        # Foward propagation\n",
    "        y_hat_mb = student(x_mb)\n",
    "        loss = student_loss(y_hat_mb, y_mb)\n",
    "        # Backpropagation\n",
    "        loss.backward(retain_graph=True)\n",
    "        student_optimizer.step()\n",
    "        student_optimizer.zero_grad()\n",
    "\n",
    "    print(loss.item())\n",
    "\n",
    "\n",
    "# get accuracy\n",
    "\n",
    "for (x_mb, y_mb) in test_iterator:\n",
    "    print(MulticlassAccuracy(num_classes=10)(student(x_mb), y_mb))\n"
   ]
  }
 ],
 "metadata": {
  "kernelspec": {
   "display_name": "base",
   "language": "python",
   "name": "python3"
  },
  "language_info": {
   "codemirror_mode": {
    "name": "ipython",
    "version": 3
   },
   "file_extension": ".py",
   "mimetype": "text/x-python",
   "name": "python",
   "nbconvert_exporter": "python",
   "pygments_lexer": "ipython3",
   "version": "3.10.8"
  },
  "orig_nbformat": 4,
  "vscode": {
   "interpreter": {
    "hash": "67bfac4f4aefe1c16f1836a62d55b6e6baa7aba1ac5ce70e93ee8e90eb4f073a"
   }
  }
 },
 "nbformat": 4,
 "nbformat_minor": 2
}

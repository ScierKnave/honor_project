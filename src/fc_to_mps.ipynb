{
  "cells": [
    {
      "cell_type": "code",
      "execution_count": 61,
      "metadata": {
        "colab": {
          "base_uri": "https://localhost:8080/"
        },
        "id": "hJYw8wfzOBhA",
        "outputId": "be157a37-05f0-4076-e7f1-dd0ea7e2e592"
      },
      "outputs": [
        {
          "name": "stdout",
          "output_type": "stream",
          "text": [
            "Defaulting to user installation because normal site-packages is not writeable\n",
            "Collecting git+https://github.com/jemisjoky/TorchMPS.git\n",
            "  Cloning https://github.com/jemisjoky/TorchMPS.git to c:\\users\\piche\\appdata\\local\\temp\\pip-req-build-rwogwnt7\n",
            "  Resolved https://github.com/jemisjoky/TorchMPS.git to commit 6c0bc1a8e2c15acba8570ca9ffe2b4a0c7135165\n",
            "  Preparing metadata (setup.py): started\n",
            "  Preparing metadata (setup.py): finished with status 'done'\n",
            "Requirement already satisfied: torch>=1.8.1 in c:\\programdata\\miniconda3\\lib\\site-packages (from torchmps==0.1.0) (1.13.1)\n",
            "Requirement already satisfied: opt_einsum>=3.3.0 in c:\\users\\piche\\appdata\\roaming\\python\\python310\\site-packages (from torchmps==0.1.0) (3.3.0)\n",
            "Requirement already satisfied: numpy>=1.7 in c:\\programdata\\miniconda3\\lib\\site-packages (from opt_einsum>=3.3.0->torchmps==0.1.0) (1.23.5)\n",
            "Requirement already satisfied: typing_extensions in c:\\programdata\\miniconda3\\lib\\site-packages (from torch>=1.8.1->torchmps==0.1.0) (4.4.0)\n",
            "Note: you may need to restart the kernel to use updated packages.\n"
          ]
        },
        {
          "name": "stderr",
          "output_type": "stream",
          "text": [
            "  Running command git clone --filter=blob:none --quiet https://github.com/jemisjoky/TorchMPS.git 'C:\\Users\\piche\\AppData\\Local\\Temp\\pip-req-build-rwogwnt7'\n"
          ]
        },
        {
          "name": "stdout",
          "output_type": "stream",
          "text": [
            "Defaulting to user installation because normal site-packages is not writeable\n",
            "Requirement already satisfied: torchmetrics in c:\\users\\piche\\appdata\\roaming\\python\\python310\\site-packages (0.11.1)\n",
            "Requirement already satisfied: numpy>=1.17.2 in c:\\programdata\\miniconda3\\lib\\site-packages (from torchmetrics) (1.23.5)\n",
            "Requirement already satisfied: packaging in c:\\programdata\\miniconda3\\lib\\site-packages (from torchmetrics) (22.0)\n",
            "Requirement already satisfied: torch>=1.8.1 in c:\\programdata\\miniconda3\\lib\\site-packages (from torchmetrics) (1.13.1)\n",
            "Requirement already satisfied: typing_extensions in c:\\programdata\\miniconda3\\lib\\site-packages (from torch>=1.8.1->torchmetrics) (4.4.0)\n",
            "Note: you may need to restart the kernel to use updated packages.\n"
          ]
        }
      ],
      "source": [
        "%pip install \"git+https://github.com/jemisjoky/TorchMPS.git\"\n",
        "import numpy as np\n",
        "import torch\n",
        "import torch.nn as nn\n",
        "import torchvision\n",
        "import torchvision.transforms as transforms\n",
        "%pip install torchmetrics\n",
        "from torchmetrics.classification import MulticlassAccuracy\n",
        "from torchmps import MPS"
      ]
    },
    {
      "attachments": {},
      "cell_type": "markdown",
      "metadata": {},
      "source": [
        "# Hyperparameters"
      ]
    },
    {
      "cell_type": "code",
      "execution_count": 62,
      "metadata": {
        "id": "DtL7C860NJlr"
      },
      "outputs": [],
      "source": [
        "# Hardware hyperparameters\n",
        "chosen_device = torch.device('cuda' \n",
        "if torch.cuda.is_available() else 'cpu')\n",
        "\n",
        "# Data hyperparameters\n",
        "nb_train_HP = 2\n",
        "nb_test_HP = 5\n",
        "batch_sz_HP = 150\n",
        "batch_sz_HP = min(batch_sz_HP, nb_train_HP)\n",
        "nb_classes_HP = 10\n",
        "\n",
        "# Teacher hyperparameters\n",
        "nteacher_epochs_HP = 15\n",
        "hidden_size_HP = 70\n",
        "teacher_loss_HP = nn.CrossEntropyLoss()\n",
        "#Optimizer parameters\n",
        "teacher_lr_HP = 0.0001\n",
        "teacher_lr_HP = 0.9\n",
        "\n",
        "# Student hyperparameters\n",
        "# MPS parameters\n",
        "bond_dim_HP = 20\n",
        "adaptive_mode_HP = False\n",
        "periodic_bc_HP = False\n",
        "feature_map_HP = lambda x : torch.tensor([1, x]).to(chosen_device)\n",
        "# Training parameters\n",
        "nepochs_student_HP = 15\n",
        "student_lr_HP = 0.0001\n",
        "student_reg_HP = 0.0\n",
        "student_loss_HP = nn.KLDivLoss(reduction=\"batchmean\", log_target=True)\n",
        "# Gaussian parameters\n",
        "ngauss_epochs_HP = 5 # number of epochs with added gaussian noise\n",
        "gn_var_HP = 0.3 #added gaussian noise variance\n",
        "gn_mean_HP = 0 #added gaussian noise mean\n",
        "# well suited loss for comparison of divergences"
      ]
    },
    {
      "attachments": {},
      "cell_type": "markdown",
      "metadata": {},
      "source": [
        "# Premilinaries: Importing the data and utils subroutines"
      ]
    },
    {
      "cell_type": "code",
      "execution_count": 63,
      "metadata": {
        "id": "34pmpVgSOBhB"
      },
      "outputs": [],
      "source": [
        "# Import the mnist train dataset\n",
        "train_set = torchvision.datasets.MNIST(\n",
        "    root = './datasets', train = True,   \n",
        "    transform = transforms.ToTensor(),  download = True )\n",
        "\n",
        "# Create a training batch iterator\n",
        "train_subset = torch.utils.data.SubsetRandomSampler(range(nb_train_HP))\n",
        "train_iterator = torch.utils.data.DataLoader(\n",
        "    dataset = train_set, \n",
        "    sampler = train_subset, batch_size=batch_sz_HP\n",
        "    )\n",
        "\n",
        "# Import the mnist test set\n",
        "test_set = torchvision.datasets.MNIST(\n",
        "    root = './datasets',\n",
        "    train = False, transform = transforms.ToTensor(),  download = True\n",
        "    )\n",
        "# Create a testing batch iterator\n",
        "test_subset = torch.utils.data.SubsetRandomSampler(range(nb_test_HP))\n",
        "test_iterator = torch.utils.data.DataLoader(\n",
        "    dataset = test_set, \n",
        "    sampler = test_subset, batch_size = batch_sz_HP\n",
        "    )"
      ]
    },
    {
      "cell_type": "code",
      "execution_count": 64,
      "metadata": {},
      "outputs": [],
      "source": [
        "# Returns the validation set classification accuracy\n",
        "# of the given input model (this is a higher order function)\n",
        "def get_val_acc(model):\n",
        "    # Get the validation set classification accuracy\n",
        "    total_good_classifications = 0\n",
        "    acc_metric = MulticlassAccuracy(num_classes=nb_classes_HP).to(chosen_device)\n",
        "    for (x_mb, y_mb) in test_iterator:\n",
        "        x_mb = x_mb.reshape(-1, 784).to(chosen_device)\n",
        "        y_mb = y_mb.to(chosen_device)\n",
        "        # Add the number of datapoints we classified right to the total\n",
        "        batch_good_classifications = x_mb.size()[0] * acc_metric( model(x_mb), y_mb)\n",
        "        total_good_classifications += batch_good_classifications\n",
        "    return total_good_classifications / nb_test_HP # divide by total size"
      ]
    },
    {
      "attachments": {},
      "cell_type": "markdown",
      "metadata": {},
      "source": [
        "# Training the teacher model"
      ]
    },
    {
      "cell_type": "code",
      "execution_count": 65,
      "metadata": {
        "colab": {
          "base_uri": "https://localhost:8080/"
        },
        "id": "WfoH7MNKOBhC",
        "outputId": "a2464401-6565-4009-89e5-1766d0143d91"
      },
      "outputs": [
        {
          "name": "stdout",
          "output_type": "stream",
          "text": [
            "Teacher accuracy through epochs\n",
            "[1, 2, 3, 4, 5, 6, 7, 8, 9, 10, 11, 12, 13, 14, 15]\n",
            "[0.0, 0.0, 0.0, 0.0, 0.0, 0.0, 0.0, 0.0, 0.0, 0.0, 0.0, 0.0, 0.0, 0.0, 0.0]\n"
          ]
        }
      ],
      "source": [
        "\n",
        "# Create the fcnn class\n",
        "class FCNN(nn.Module):\n",
        "    def __init__(self):\n",
        "        super(FCNN, self).__init__()\n",
        "        self.relu = nn.ReLU()\n",
        "        self.lin1 = nn.Linear(784, hidden_size_HP)\n",
        "        self.lin2 = nn.Linear(hidden_size_HP, hidden_size_HP)\n",
        "        self.lin3 = nn.Linear(hidden_size_HP, hidden_size_HP)\n",
        "        self.lin4 = nn.Linear(hidden_size_HP, hidden_size_HP)\n",
        "        self.lin5 = nn.Linear(hidden_size_HP, hidden_size_HP)\n",
        "        self.lin6 = nn.Linear(hidden_size_HP, 10)\n",
        "\n",
        "    def forward(self, x):\n",
        "        y = self.lin1(x)\n",
        "        y = self.relu(y)\n",
        "        y = self.lin2(y)\n",
        "        y = self.relu(y)\n",
        "        y = self.lin3(y)\n",
        "        y = self.relu(y)\n",
        "        y = self.lin4(y)\n",
        "        y = self.relu(y)\n",
        "        y = self.lin5(y)\n",
        "        y = self.relu(y)\n",
        "        y = self.lin6(y)\n",
        "        y = self.relu(y)\n",
        "        return y\n",
        "\n",
        "#Instantiate and put the model on the chosen device\n",
        "teacher = FCNN().to(chosen_device)\n",
        "\n",
        "#Instantiate the optimizer\n",
        "teacher_optimizer = torch.optim.Adam(teacher.parameters())\n",
        "\n",
        "# Create an array to store the val loss\n",
        "# of the teacher at each epoch\n",
        "teacher_val_loss = []\n",
        "\n",
        "#Training loop\n",
        "for epoch in range(nteacher_epochs_HP):\n",
        "    for (x_mb, y_mb) in train_iterator:\n",
        "        # Reshape the train_tuple and put on the chosen device\n",
        "        x_mb = x_mb.reshape(-1, 784).to(chosen_device)\n",
        "        y_mb = y_mb.to(chosen_device)\n",
        "        # Foward propagation\n",
        "        y_hat_mb = teacher(x_mb)\n",
        "        # Backpropagation\n",
        "        teacher_loss_HP(y_hat_mb, y_mb).backward()\n",
        "        teacher_optimizer.step()\n",
        "        teacher_optimizer.zero_grad()\n",
        "        \n",
        "    val_score = get_val_acc(teacher).item()\n",
        "    val_score = round(val_score, 3)\n",
        "    teacher_val_loss.append( val_score )\n",
        "\n",
        "print(\"Teacher accuracy through epochs\")\n",
        "print(np.arange(1, nteacher_epochs_HP+1).tolist())\n",
        "print(teacher_val_loss)\n"
      ]
    },
    {
      "attachments": {},
      "cell_type": "markdown",
      "metadata": {},
      "source": [
        "# Training the student model"
      ]
    },
    {
      "cell_type": "code",
      "execution_count": 66,
      "metadata": {
        "colab": {
          "base_uri": "https://localhost:8080/"
        },
        "id": "ZKdeyavpUl2B",
        "outputId": "ac43b19f-afe0-4038-c5fe-b12ceb9ffd39"
      },
      "outputs": [
        {
          "name": "stdout",
          "output_type": "stream",
          "text": [
            "Student accuracy through epochs\n",
            "[1, 2, 3, 4, 5, 6, 7, 8, 9, 10, 11, 12, 13, 14, 15]\n",
            "[0.0, 0.0, 0.0, 0.0, 0.0, 0.0, 0.0, 0.0, 0.0, 0.0, 0.0, 0.0, 0.04, 0.04, 0.04]\n"
          ]
        }
      ],
      "source": [
        "\n",
        "# Initialize the MPS module\n",
        "student = MPS(\n",
        "    input_dim = 28 ** 2,\n",
        "    output_dim = 10,\n",
        "    bond_dim = bond_dim_HP,\n",
        "    adaptive_mode = adaptive_mode_HP,\n",
        "    periodic_bc = periodic_bc_HP,\n",
        ").to(chosen_device)\n",
        "student.register_feature_map(feature_map_HP)\n",
        "\n",
        "# Instantiate the optimizer and softmax\n",
        "student_optimizer = torch.optim.Adam(\n",
        "    student.parameters(), lr = student_lr_HP, weight_decay = student_reg_HP\n",
        "    )\n",
        "\n",
        "# Used on the inputs before the loss function\n",
        "LogSoftmax = nn.LogSoftmax(dim=1)\n",
        "\n",
        "# Create an array to store the val loss\n",
        "# of the student at each epoch\n",
        "stud_val_loss = []\n",
        "\n",
        "# Training loop \n",
        "for epoch in range(nepochs_student_HP):\n",
        "\n",
        "    for (x_mb, _) in train_iterator:\n",
        "        \n",
        "        # Flatten the MNIST images, which come in matrix form\n",
        "        x_mb = x_mb.reshape(-1, 784).to(chosen_device)\n",
        "\n",
        "        # Apply Gaussian noise for the gaussian noised epochs\n",
        "        if epoch > (nepochs_student_HP - ngauss_epochs_HP):\n",
        "          x_mb = (x_mb + torch.randn(size=x_mb.size())).to(chosen_device)\n",
        "\n",
        "        # Get log of softmax of the teacher and student logits\n",
        "        # required before passing to KL divergence loss in Pytorch for some reason\n",
        "        teacher_output = LogSoftmax(teacher(x_mb)).to(chosen_device)\n",
        "        student_output = LogSoftmax(student(x_mb)).to(chosen_device)\n",
        "\n",
        "        # Backpropagation\n",
        "        student_loss_HP(student_output, teacher_output).backward()\n",
        "        student_optimizer.step()\n",
        "        student_optimizer.zero_grad()\n",
        "\n",
        "    val_score = get_val_acc(student).item()\n",
        "    val_score = round(val_score, 3)\n",
        "    stud_val_loss.append( val_score )\n",
        "\n",
        "print(\"Student accuracy through epochs\")\n",
        "print(np.arange(1, nepochs_student_HP+1).tolist())\n",
        "print(stud_val_loss)\n"
      ]
    }
  ],
  "metadata": {
    "accelerator": "TPU",
    "colab": {
      "provenance": []
    },
    "gpuClass": "standard",
    "kernelspec": {
      "display_name": "base",
      "language": "python",
      "name": "python3"
    },
    "language_info": {
      "codemirror_mode": {
        "name": "ipython",
        "version": 3
      },
      "file_extension": ".py",
      "mimetype": "text/x-python",
      "name": "python",
      "nbconvert_exporter": "python",
      "pygments_lexer": "ipython3",
      "version": "3.10.8"
    },
    "orig_nbformat": 4,
    "vscode": {
      "interpreter": {
        "hash": "67bfac4f4aefe1c16f1836a62d55b6e6baa7aba1ac5ce70e93ee8e90eb4f073a"
      }
    }
  },
  "nbformat": 4,
  "nbformat_minor": 0
}

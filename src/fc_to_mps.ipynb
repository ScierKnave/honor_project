{
  "cells": [
    {
      "cell_type": "code",
      "execution_count": 1,
      "metadata": {
        "colab": {
          "base_uri": "https://localhost:8080/"
        },
        "id": "hJYw8wfzOBhA",
        "outputId": "237b94bc-2950-4424-90aa-accbf00debf0"
      },
      "outputs": [
        {
          "output_type": "stream",
          "name": "stdout",
          "text": [
            "Looking in indexes: https://pypi.org/simple, https://us-python.pkg.dev/colab-wheels/public/simple/\n",
            "Collecting git+https://github.com/ScierKnave/TorchMPS.git\n",
            "  Cloning https://github.com/ScierKnave/TorchMPS.git to /tmp/pip-req-build-oof12dxd\n",
            "  Running command git clone --filter=blob:none --quiet https://github.com/ScierKnave/TorchMPS.git /tmp/pip-req-build-oof12dxd\n",
            "  Resolved https://github.com/ScierKnave/TorchMPS.git to commit f716a08e15d0af50dbfdfc435ab9604e82562ea3\n",
            "  Preparing metadata (setup.py) ... \u001b[?25l\u001b[?25hdone\n",
            "Requirement already satisfied: torch>=1.8.1 in /usr/local/lib/python3.9/dist-packages (from torchmps==0.1.0) (2.0.0+cu118)\n",
            "Requirement already satisfied: opt_einsum>=3.3.0 in /usr/local/lib/python3.9/dist-packages (from torchmps==0.1.0) (3.3.0)\n",
            "Requirement already satisfied: numpy>=1.7 in /usr/local/lib/python3.9/dist-packages (from opt_einsum>=3.3.0->torchmps==0.1.0) (1.22.4)\n",
            "Requirement already satisfied: sympy in /usr/local/lib/python3.9/dist-packages (from torch>=1.8.1->torchmps==0.1.0) (1.11.1)\n",
            "Requirement already satisfied: jinja2 in /usr/local/lib/python3.9/dist-packages (from torch>=1.8.1->torchmps==0.1.0) (3.1.2)\n",
            "Requirement already satisfied: networkx in /usr/local/lib/python3.9/dist-packages (from torch>=1.8.1->torchmps==0.1.0) (3.0)\n",
            "Requirement already satisfied: typing-extensions in /usr/local/lib/python3.9/dist-packages (from torch>=1.8.1->torchmps==0.1.0) (4.5.0)\n",
            "Requirement already satisfied: filelock in /usr/local/lib/python3.9/dist-packages (from torch>=1.8.1->torchmps==0.1.0) (3.10.7)\n",
            "Requirement already satisfied: triton==2.0.0 in /usr/local/lib/python3.9/dist-packages (from torch>=1.8.1->torchmps==0.1.0) (2.0.0)\n",
            "Requirement already satisfied: cmake in /usr/local/lib/python3.9/dist-packages (from triton==2.0.0->torch>=1.8.1->torchmps==0.1.0) (3.25.2)\n",
            "Requirement already satisfied: lit in /usr/local/lib/python3.9/dist-packages (from triton==2.0.0->torch>=1.8.1->torchmps==0.1.0) (16.0.0)\n",
            "Requirement already satisfied: MarkupSafe>=2.0 in /usr/local/lib/python3.9/dist-packages (from jinja2->torch>=1.8.1->torchmps==0.1.0) (2.1.2)\n",
            "Requirement already satisfied: mpmath>=0.19 in /usr/local/lib/python3.9/dist-packages (from sympy->torch>=1.8.1->torchmps==0.1.0) (1.3.0)\n",
            "Building wheels for collected packages: torchmps\n",
            "  Building wheel for torchmps (setup.py) ... \u001b[?25l\u001b[?25hdone\n",
            "  Created wheel for torchmps: filename=torchmps-0.1.0-py3-none-any.whl size=59682 sha256=9ae6f7c87c0cff86da036af468a5fdd04cd9bd58837d90903a8e4897b13e03e2\n",
            "  Stored in directory: /tmp/pip-ephem-wheel-cache-584u8yi_/wheels/7c/97/ed/e7cfb0c73fec613f09c365db5a9b684875fdb85e8944240efc\n",
            "Successfully built torchmps\n",
            "Installing collected packages: torchmps\n",
            "Successfully installed torchmps-0.1.0\n",
            "Cloning into 'honor_project'...\n",
            "remote: Enumerating objects: 981, done.\u001b[K\n",
            "remote: Counting objects: 100% (270/270), done.\u001b[K\n",
            "remote: Compressing objects: 100% (125/125), done.\u001b[K\n",
            "remote: Total 981 (delta 166), reused 240 (delta 145), pack-reused 711\u001b[K\n",
            "Receiving objects: 100% (981/981), 48.55 MiB | 18.72 MiB/s, done.\n",
            "Resolving deltas: 100% (473/473), done.\n",
            "Updating files: 100% (39/39), done.\n",
            "Looking in indexes: https://pypi.org/simple, https://us-python.pkg.dev/colab-wheels/public/simple/\n",
            "Collecting torchmetrics\n",
            "  Downloading torchmetrics-0.11.4-py3-none-any.whl (519 kB)\n",
            "\u001b[2K     \u001b[90m━━━━━━━━━━━━━━━━━━━━━━━━━━━━━━━━━━━━━━\u001b[0m \u001b[32m519.2/519.2 KB\u001b[0m \u001b[31m10.5 MB/s\u001b[0m eta \u001b[36m0:00:00\u001b[0m\n",
            "\u001b[?25hRequirement already satisfied: numpy>=1.17.2 in /usr/local/lib/python3.9/dist-packages (from torchmetrics) (1.22.4)\n",
            "Requirement already satisfied: packaging in /usr/local/lib/python3.9/dist-packages (from torchmetrics) (23.0)\n",
            "Requirement already satisfied: torch>=1.8.1 in /usr/local/lib/python3.9/dist-packages (from torchmetrics) (2.0.0+cu118)\n",
            "Requirement already satisfied: typing-extensions in /usr/local/lib/python3.9/dist-packages (from torch>=1.8.1->torchmetrics) (4.5.0)\n",
            "Requirement already satisfied: jinja2 in /usr/local/lib/python3.9/dist-packages (from torch>=1.8.1->torchmetrics) (3.1.2)\n",
            "Requirement already satisfied: sympy in /usr/local/lib/python3.9/dist-packages (from torch>=1.8.1->torchmetrics) (1.11.1)\n",
            "Requirement already satisfied: triton==2.0.0 in /usr/local/lib/python3.9/dist-packages (from torch>=1.8.1->torchmetrics) (2.0.0)\n",
            "Requirement already satisfied: networkx in /usr/local/lib/python3.9/dist-packages (from torch>=1.8.1->torchmetrics) (3.0)\n",
            "Requirement already satisfied: filelock in /usr/local/lib/python3.9/dist-packages (from torch>=1.8.1->torchmetrics) (3.10.7)\n",
            "Requirement already satisfied: lit in /usr/local/lib/python3.9/dist-packages (from triton==2.0.0->torch>=1.8.1->torchmetrics) (16.0.0)\n",
            "Requirement already satisfied: cmake in /usr/local/lib/python3.9/dist-packages (from triton==2.0.0->torch>=1.8.1->torchmetrics) (3.25.2)\n",
            "Requirement already satisfied: MarkupSafe>=2.0 in /usr/local/lib/python3.9/dist-packages (from jinja2->torch>=1.8.1->torchmetrics) (2.1.2)\n",
            "Requirement already satisfied: mpmath>=0.19 in /usr/local/lib/python3.9/dist-packages (from sympy->torch>=1.8.1->torchmetrics) (1.3.0)\n",
            "Installing collected packages: torchmetrics\n",
            "Successfully installed torchmetrics-0.11.4\n"
          ]
        }
      ],
      "source": [
        "%pip install \"git+https://github.com/ScierKnave/TorchMPS.git\"\n",
        "!git clone \"https://github.com/ScierKnave/honor_project.git\"\n",
        "\n",
        "import numpy as np\n",
        "import torch\n",
        "import torch.nn.functional as F\n",
        "import torch.nn as nn\n",
        "import torchvision\n",
        "import torchvision.transforms as transforms\n",
        "from torch.nn.modules.pooling import MaxPool2d\n",
        "%pip install torchmetrics\n",
        "from torchmetrics.classification import MulticlassAccuracy\n",
        "from torchmps import MPS\n",
        "import math"
      ]
    },
    {
      "cell_type": "markdown",
      "metadata": {
        "id": "S4cYNyo4nE3j"
      },
      "source": [
        "# Hyperparameters"
      ]
    },
    {
      "cell_type": "code",
      "execution_count": 2,
      "metadata": {
        "id": "DtL7C860NJlr"
      },
      "outputs": [],
      "source": [
        "# FC to MPS\n",
        "\n",
        "# Hardware hyperparameters\n",
        "chosen_device = torch.device('cuda' \n",
        "if torch.cuda.is_available() else 'cpu')\n",
        "\n",
        "# Data hyperparameters\n",
        "nb_train_HP = 2000\n",
        "nb_test_HP = 500\n",
        "batch_sz_HP = 150\n",
        "batch_sz_HP = min(batch_sz_HP, nb_train_HP)\n",
        "nb_classes_HP = 10\n",
        "\n",
        "# Teacher hyperparameters\n",
        "nepochs_teacher_HP = 25\n",
        "teacher_loss_HP = nn.CrossEntropyLoss()\n",
        "teacher_lr_HP = 1e-2\n",
        "teacher_reg_HP = 0.01\n",
        "teacher_hidden_size_HP = 70\n",
        "# Student hyperparameters\n",
        "# MPS parameters\n",
        "bond_dim_HP = 10\n",
        "adaptive_mode_HP = False\n",
        "periodic_bc_HP = False\n",
        "\n",
        "# USING CUSTOM FEATURE MAP WITH FORK?: YES\n",
        "\n",
        "# Training parameters\n",
        "nepochs_student_HP = 25 \n",
        "student_lr_HP = 1e-4\n",
        "student_reg_HP = 0.01\n",
        "student_loss_HP = nn.KLDivLoss(reduction = \"batchmean\", log_target = True)\n",
        "\n",
        "# Gaussian parameters\n",
        "gauss_epochs_HP = 0 # number of epochs with added gaussian noise\n",
        "gn_var_HP = 0.3 #added gaussian noise variance\n",
        "gn_mean_HP = 0 #added gaussian noise mean\n",
        "nepochs_student_HP = 25 + gauss_epochs_HP\n"
      ]
    },
    {
      "cell_type": "markdown",
      "metadata": {
        "id": "gvJCqr8QnE3l"
      },
      "source": [
        "# Premilinaries: Importing the data and utils subroutines"
      ]
    },
    {
      "cell_type": "code",
      "execution_count": 3,
      "metadata": {
        "id": "34pmpVgSOBhB"
      },
      "outputs": [],
      "source": [
        "# Import the *common* mnist train set and create a batch iterator for it.\n",
        "train_set = torch.load('/content/honor_project/src/datasets/train_mnist.pt')\n",
        "train_iterator = torch.utils.data.DataLoader(\n",
        "    dataset = train_set, \n",
        "    sampler = torch.utils.data.SubsetRandomSampler(range(nb_train_HP)),\n",
        "    batch_size=batch_sz_HP\n",
        "    )\n",
        "\n",
        "# Import the mnist *common* test set and create a batch iterator for it.\n",
        "test_set = torch.load('/content/honor_project/src/datasets/test_mnist.pt')\n",
        "test_iterator = torch.utils.data.DataLoader(\n",
        "    dataset = test_set, \n",
        "    sampler = torch.utils.data.SubsetRandomSampler(range(nb_test_HP)),\n",
        "    batch_size = batch_sz_HP\n",
        "    )"
      ]
    },
    {
      "cell_type": "code",
      "execution_count": 4,
      "metadata": {
        "id": "NlVDkr_-nE3l"
      },
      "outputs": [],
      "source": [
        "# Returns the validation set classification accuracy\n",
        "# of the given input model (this is a higher order function)\n",
        "def get_acc(model, iterator, dataset_size):\n",
        "    # Get the validation set classification accuracy\n",
        "    total_good_classifications = 0\n",
        "    acc_metric = MulticlassAccuracy(num_classes=nb_classes_HP).to(chosen_device)\n",
        "    for (x_mb, y_mb) in iterator:\n",
        "        x_mb = x_mb.reshape(-1, 784).to(chosen_device)\n",
        "        y_mb = y_mb.to(chosen_device)\n",
        "        # Add the number of datapoints we classified right to the total\n",
        "        batch_size = x_mb.size()[0]\n",
        "        y_hat = model(x_mb)\n",
        "        batch_good_classifications = batch_size * acc_metric(y_hat, y_mb)\n",
        "        total_good_classifications += batch_good_classifications\n",
        "    return total_good_classifications / dataset_size # divide by total size"
      ]
    },
    {
      "cell_type": "code",
      "source": [
        "# Create the fcnn class\n",
        "class FCNN(nn.Module):\n",
        "    def __init__(self):\n",
        "        super(FCNN, self).__init__()\n",
        "        self.relu = nn.ReLU()\n",
        "        self.lin1 = nn.Linear(784, teacher_hidden_size_HP)\n",
        "        self.lin2 = nn.Linear(teacher_hidden_size_HP, teacher_hidden_size_HP)\n",
        "        self.lin3 = nn.Linear(teacher_hidden_size_HP, teacher_hidden_size_HP)\n",
        "        self.lin4 = nn.Linear(teacher_hidden_size_HP, teacher_hidden_size_HP)\n",
        "        self.lin5 = nn.Linear(teacher_hidden_size_HP, teacher_hidden_size_HP)\n",
        "        self.lin6 = nn.Linear(teacher_hidden_size_HP, 10)\n",
        "\n",
        "    def middleforward(self, x):\n",
        "        y = self.lin1(x)\n",
        "        y = self.relu(y)\n",
        "        y = self.lin2(y)\n",
        "        y = self.relu(y)\n",
        "        y = self.lin3(y)\n",
        "        y = self.relu(y)\n",
        "        return y\n",
        "\n",
        "    def forward(self, x):\n",
        "        y = self.lin1(x)\n",
        "        y = self.relu(y)\n",
        "        y = self.lin2(y)\n",
        "        y = self.relu(y)\n",
        "        y = self.lin3(y)\n",
        "        y = self.relu(y)\n",
        "        y = self.lin4(y)\n",
        "        y = self.relu(y)\n",
        "        y = self.lin5(y)\n",
        "        y = self.relu(y)\n",
        "        y = self.lin6(y)\n",
        "        y = self.relu(y)\n",
        "        return y\n",
        "\n",
        "teacher = torch.load('/content/honor_project/src/fc_0.541.pt')\n"
      ],
      "metadata": {
        "id": "F-h7WlXnnmJV"
      },
      "execution_count": 5,
      "outputs": []
    },
    {
      "cell_type": "markdown",
      "metadata": {
        "id": "acY6Jwc7nE3o"
      },
      "source": [
        "# Training the student model"
      ]
    },
    {
      "cell_type": "code",
      "execution_count": null,
      "metadata": {
        "id": "ZKdeyavpUl2B",
        "colab": {
          "base_uri": "https://localhost:8080/"
        },
        "outputId": "23db95fb-7210-4163-c435-b4f7683651b4"
      },
      "outputs": [
        {
          "output_type": "stream",
          "name": "stdout",
          "text": [
            "\n",
            " Training and testing of model  1  in progress...\n"
          ]
        }
      ],
      "source": [
        "def train_a_student():\n",
        "  '''\n",
        "  Trains a student model.\n",
        "  '''\n",
        "  # Initialize the MPS module\n",
        "  student = MPS(\n",
        "      input_dim = 28 ** 2,\n",
        "      output_dim = 10,\n",
        "      bond_dim = bond_dim_HP\n",
        "  ).to(chosen_device)\n",
        "  #student.register_feature_map(feature_map_HP)\n",
        "\n",
        "  # Instantiate the optimizer and softmax\n",
        "  student_optimizer = torch.optim.Adam(\n",
        "      student.parameters(), lr = student_lr_HP, weight_decay = student_reg_HP\n",
        "  )\n",
        "\n",
        "  # Used on the inputs before the loss function\n",
        "  LogSoftmax = nn.LogSoftmax(dim=1)\n",
        "\n",
        "  # Create an array to store the val loss\n",
        "  # of the student at each epoch\n",
        "  stud_test_loss = np.array([])\n",
        "  stud_train_loss = np.array([])\n",
        "\n",
        "  # Training loop \n",
        "  for epoch in range(nepochs_student_HP):\n",
        "      for (x_mb, y_mb) in train_iterator:\n",
        "          # Flatten the MNIST images, which come in matrix form\n",
        "          x_mb = x_mb.reshape(-1, 784).to(chosen_device)\n",
        "          y_mb = y_mb.to(chosen_device)\n",
        "\n",
        "          # Add Gaussian noise for the gaussian epochs\n",
        "          if (epoch >= nepochs_student_HP - gauss_epochs_HP):\n",
        "            x_mb = x_mb + torch.randn(size=x_mb.size()).to(chosen_device)\n",
        "\n",
        "          student_output = LogSoftmax( student(x_mb) )\n",
        "          teacher_output = LogSoftmax( teacher(x_mb) )\n",
        "\n",
        "          # Backpropagation\n",
        "          loss = student_loss_HP(student_output, teacher_output)\n",
        "          loss.backward()\n",
        "          student_optimizer.step()\n",
        "          student_optimizer.zero_grad()\n",
        "\n",
        "      # Get accuracy over all test and training data for current epoch\n",
        "      train_current_accuracy = round( get_acc(student, train_iterator, nb_train_HP).item(), 4)\n",
        "      test_current_accuracy = round( get_acc(student, test_iterator, nb_test_HP).item(), 4)\n",
        "      stud_train_loss = np.append(stud_train_loss, train_current_accuracy)\n",
        "      stud_test_loss = np.append(stud_test_loss, test_current_accuracy)\n",
        "  return(stud_train_loss, stud_test_loss)\n",
        "\n",
        "# Repeat the training process in order to get the variance\n",
        "global_stud_test_loss = np.array([])\n",
        "global_stud_train_loss = np.array([])\n",
        "for i in range(20):\n",
        "  print(\"\\n Training and testing of model \", i+1, \" in progress...\")\n",
        "  (stud_train_loss, stud_test_loss) = train_a_student()\n",
        "  print(\"Train loss: \", stud_train_loss)\n",
        "  print(\"Test loss: \", stud_test_loss)\n",
        "  if (i == 0):\n",
        "    global_stud_train_loss = stud_train_loss\n",
        "    global_stud_test_loss = stud_test_loss\n",
        "  else:\n",
        "    global_stud_train_loss = np.vstack((global_stud_train_loss, stud_train_loss))\n",
        "    global_stud_test_loss = np.vstack((global_stud_test_loss, stud_test_loss))\n"
      ]
    },
    {
      "cell_type": "code",
      "source": [
        "# Print the final results and save them for the report.\n",
        "print(\"Final results\")\n",
        "print(\"Train loss: \", global_stud_train_loss)\n",
        "print(\"Test loss: \", global_stud_test_loss)\n",
        "\n",
        "np.save('20x_fc_to_mps_trainloss_' + str(bond_dim_HP) + 'bd', global_stud_train_loss)\n",
        "np.save('20x_fc_to_mps_testloss_' + str(bond_dim_HP) + 'bd', global_stud_test_loss)\n",
        "\n"
      ],
      "metadata": {
        "id": "RQr9AIrMzJ1A"
      },
      "execution_count": null,
      "outputs": []
    }
  ],
  "metadata": {
    "accelerator": "GPU",
    "colab": {
      "provenance": []
    },
    "gpuClass": "standard",
    "kernelspec": {
      "display_name": "base",
      "language": "python",
      "name": "python3"
    },
    "language_info": {
      "codemirror_mode": {
        "name": "ipython",
        "version": 3
      },
      "file_extension": ".py",
      "mimetype": "text/x-python",
      "name": "python",
      "nbconvert_exporter": "python",
      "pygments_lexer": "ipython3",
      "version": "3.10.8"
    },
    "orig_nbformat": 4,
    "vscode": {
      "interpreter": {
        "hash": "67bfac4f4aefe1c16f1836a62d55b6e6baa7aba1ac5ce70e93ee8e90eb4f073a"
      }
    }
  },
  "nbformat": 4,
  "nbformat_minor": 0
}
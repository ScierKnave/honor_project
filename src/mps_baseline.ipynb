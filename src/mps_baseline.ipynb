{
 "cells": [
  {
   "cell_type": "code",
   "execution_count": null,
   "metadata": {},
   "outputs": [],
   "source": [
    "%pip install \"git+https://github.com/jemisjoky/TorchMPS.git\"\n",
    "import torch\n",
    "import torch.nn as nn\n",
    "import torchvision\n",
    "bimport torchvision.transforms as transforms\n",
    "%pip install torchmetrics\n",
    "from torchmetrics.classification import MulticlassAccuracy\n",
    "from torchmps import MPS"
   ]
  },
  {
   "cell_type": "code",
   "execution_count": null,
   "metadata": {},
   "outputs": [],
   "source": [
    "\n",
    "# Hardware hyperparameters\n",
    "chosen_device = torch.device('cuda' \n",
    "if torch.cuda.is_available() else 'cpu')\n",
    "\n",
    "# Data hyperparameters\n",
    "nb_train = 2000\n",
    "nb_test = 500\n",
    "chosen_bs = 150\n",
    "\n",
    "\n",
    "# Student hyperparameters\n",
    "# MPS parameters\n",
    "bond_dim = 20\n",
    "adaptive_mode = False\n",
    "periodic_bc = False\n",
    "feature_map = lambda x : torch.tensor([1, x]).to(chosen_device)\n",
    "# Training parameters\n",
    "gn_var = 0.3 #added gaussian noise variance\n",
    "gn_mean = 0 #added gaussian noise mean\n",
    "n_epochs_lmps = 18\n",
    "mps_learn_rate = 0.0001\n",
    "mps_reg = 0.0\n",
    "mps_chosen_loss = nn.CrossEntropyLoss().to(chosen_device)"
   ]
  },
  {
   "cell_type": "code",
   "execution_count": null,
   "metadata": {},
   "outputs": [],
   "source": [
    "# Import the mnist dataset\n",
    "train_set = torchvision.datasets.MNIST(root = './datasets', train = True,   \n",
    "    transform = transforms.ToTensor(),  download = True )\n",
    "\n",
    "train_subset = torch.utils.data.SubsetRandomSampler(range(nb_train))\n",
    "\n",
    "train_iterator = torch.utils.data.DataLoader(dataset = train_set, \n",
    "    sampler = train_subset, batch_size=chosen_bs)\n",
    "\n",
    "\n",
    "test_set = torchvision.datasets.MNIST(root = './datasets',\n",
    " train = False, transform = transforms.ToTensor(),  download = True)\n",
    "\n",
    "test_subset = torch.utils.data.SubsetRandomSampler(range(nb_test))\n",
    "\n",
    "test_iterator = torch.utils.data.DataLoader(dataset = test_set, \n",
    "    sampler = test_subset, batch_size = chosen_bs)"
   ]
  },
  {
   "cell_type": "code",
   "execution_count": null,
   "metadata": {},
   "outputs": [],
   "source": [
    "\n",
    "# Initialize the MPS module\n",
    "mps_student = MPS(\n",
    "    input_dim=28 ** 2,\n",
    "    output_dim=10,\n",
    "    bond_dim=bond_dim,\n",
    "    adaptive_mode=adaptive_mode,\n",
    "    periodic_bc=periodic_bc,\n",
    ").to(chosen_device)\n",
    "mps_student.register_feature_map(feature_map)\n",
    "\n",
    "# Instantiate the optimizer and softmax\n",
    "lmps_optimizer = torch.optim.Adam(mps_student.parameters(), lr = mps_learn_rate,\n",
    "                                  weight_decay = mps_reg)\n",
    "softmax = nn.Softmax(dim=1)\n",
    "\n",
    "# Training loop \n",
    "for epoch in range(n_epochs_lmps):\n",
    "    for (x_mb, _) in train_iterator:\n",
    "        # Reshape, add gaussian noise, put on the chosen device\n",
    "        x_mb = x_mb.reshape(-1, 784).to(chosen_device)\n",
    "        # Get softmax of output of teacher\n",
    "        y_mb = y_mb.to(chosen_device)\n",
    "\n",
    "        # Foward propagation\n",
    "        y_hat_mb = mps_student(x_mb)\n",
    "        loss = mps_chosen_loss(y_hat_mb, y_mb)\n",
    "\n",
    "        # Backpropagation\n",
    "        loss.backward()\n",
    "        lmps_optimizer.step()\n",
    "        lmps_optimizer.zero_grad()\n",
    "\n",
    "    print(loss.item())\n",
    "\n",
    "\n",
    "# get accuracy\n",
    "for (x_mb, y_mb) in test_iterator:\n",
    "    print(\"testing teacher\")\n",
    "    print(MulticlassAccuracy(num_classes=10)(mps_student(x_mb.reshape(-1, 784)), y_mb))\n"
   ]
  }
 ],
 "metadata": {
  "kernelspec": {
   "display_name": "base",
   "language": "python",
   "name": "python3"
  },
  "language_info": {
   "name": "python",
   "version": "3.10.8"
  },
  "orig_nbformat": 4,
  "vscode": {
   "interpreter": {
    "hash": "67bfac4f4aefe1c16f1836a62d55b6e6baa7aba1ac5ce70e93ee8e90eb4f073a"
   }
  }
 },
 "nbformat": 4,
 "nbformat_minor": 2
}

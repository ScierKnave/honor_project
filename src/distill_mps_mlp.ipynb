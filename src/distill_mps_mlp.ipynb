{
  "cells": [
    {
      "cell_type": "code",
      "execution_count": 6,
      "metadata": {
        "colab": {
          "base_uri": "https://localhost:8080/"
        },
        "id": "hJYw8wfzOBhA",
        "outputId": "82d3d940-2038-4d47-f7a3-e818425e935b"
      },
      "outputs": [
        {
          "output_type": "stream",
          "name": "stdout",
          "text": [
            "Looking in indexes: https://pypi.org/simple, https://us-python.pkg.dev/colab-wheels/public/simple/\n",
            "Collecting git+https://github.com/jemisjoky/TorchMPS.git\n",
            "  Cloning https://github.com/jemisjoky/TorchMPS.git to /tmp/pip-req-build-s5lxgzb8\n",
            "  Running command git clone --filter=blob:none --quiet https://github.com/jemisjoky/TorchMPS.git /tmp/pip-req-build-s5lxgzb8\n",
            "  Resolved https://github.com/jemisjoky/TorchMPS.git to commit 6c0bc1a8e2c15acba8570ca9ffe2b4a0c7135165\n",
            "  Preparing metadata (setup.py) ... \u001b[?25l\u001b[?25hdone\n",
            "Requirement already satisfied: torch>=1.8.1 in /usr/local/lib/python3.8/dist-packages (from torchmps==0.1.0) (1.13.1+cu116)\n",
            "Requirement already satisfied: opt_einsum>=3.3.0 in /usr/local/lib/python3.8/dist-packages (from torchmps==0.1.0) (3.3.0)\n",
            "Requirement already satisfied: numpy>=1.7 in /usr/local/lib/python3.8/dist-packages (from opt_einsum>=3.3.0->torchmps==0.1.0) (1.24.2)\n",
            "Requirement already satisfied: typing-extensions in /usr/local/lib/python3.8/dist-packages (from torch>=1.8.1->torchmps==0.1.0) (4.5.0)\n",
            "Looking in indexes: https://pypi.org/simple, https://us-python.pkg.dev/colab-wheels/public/simple/\n",
            "Requirement already satisfied: torchmetrics in /usr/local/lib/python3.8/dist-packages (0.11.3)\n",
            "Requirement already satisfied: torch>=1.8.1 in /usr/local/lib/python3.8/dist-packages (from torchmetrics) (1.13.1+cu116)\n",
            "Requirement already satisfied: typing-extensions in /usr/local/lib/python3.8/dist-packages (from torchmetrics) (4.5.0)\n",
            "Requirement already satisfied: packaging in /usr/local/lib/python3.8/dist-packages (from torchmetrics) (23.0)\n",
            "Requirement already satisfied: numpy>=1.17.2 in /usr/local/lib/python3.8/dist-packages (from torchmetrics) (1.24.2)\n"
          ]
        }
      ],
      "source": [
        "%pip install \"git+https://github.com/jemisjoky/TorchMPS.git\"\n",
        "import torch\n",
        "import torch.nn as nn\n",
        "import torchvision\n",
        "import torchvision.transforms as transforms\n",
        "%pip install torchmetrics\n",
        "from torchmetrics.classification import MulticlassAccuracy\n",
        "from torchmps import MPS"
      ]
    },
    {
      "cell_type": "code",
      "execution_count": 7,
      "metadata": {
        "id": "DtL7C860NJlr"
      },
      "outputs": [],
      "source": [
        "# Hardware hyperparameters\n",
        "chosen_device = torch.device('cuda' \n",
        "if torch.cuda.is_available() else 'cpu')\n",
        "\n",
        "# Data hyperparameters\n",
        "nb_train = 2000\n",
        "nb_test = 500\n",
        "chosen_bs = 150\n",
        "nb_classes = 10\n",
        "\n",
        "# Teacher hyperparameters\n",
        "chosen_device = torch.device('cuda' if torch.cuda.is_available() else 'cpu')\n",
        "n_epochs_fcnn = 15\n",
        "hidden_size = 70\n",
        "chosen_loss = nn.CrossEntropyLoss()\n",
        "#Optimizer parameters\n",
        "chosen_lr = 0.0001\n",
        "chosen_momentum = 0.9\n",
        "\n",
        "# Student hyperparameters\n",
        "# MPS parameters\n",
        "bond_dim = 20\n",
        "adaptive_mode = False\n",
        "periodic_bc = False\n",
        "feature_map = lambda x : torch.tensor([1, x]).to(chosen_device)\n",
        "# Training parameters\n",
        "gauss_epochs = 5 # number of epochs with added gaussian noise\n",
        "gn_var = 0.3 #added gaussian noise variance\n",
        "gn_mean = 0 #added gaussian noise mean\n",
        "n_epochs_lmps = 15\n",
        "mps_learn_rate = 0.0001\n",
        "mps_reg = 0.0\n",
        "mps_chosen_loss = nn.CrossEntropyLoss().to(chosen_device)"
      ]
    },
    {
      "cell_type": "code",
      "execution_count": 8,
      "metadata": {
        "id": "34pmpVgSOBhB"
      },
      "outputs": [],
      "source": [
        "# Import the mnist dataset\n",
        "train_set = torchvision.datasets.MNIST(root = './datasets', train = True,   \n",
        "    transform = transforms.ToTensor(),  download = True )\n",
        "\n",
        "train_subset = torch.utils.data.SubsetRandomSampler(range(nb_train))\n",
        "\n",
        "train_iterator = torch.utils.data.DataLoader(dataset = train_set, \n",
        "    sampler = train_subset, batch_size=chosen_bs)\n",
        "\n",
        "\n",
        "test_set = torchvision.datasets.MNIST(root = './datasets',\n",
        " train = False, transform = transforms.ToTensor(),  download = True)\n",
        "\n",
        "test_subset = torch.utils.data.SubsetRandomSampler(range(nb_test))\n",
        "\n",
        "test_iterator = torch.utils.data.DataLoader(dataset = test_set, \n",
        "    sampler = test_subset, batch_size = chosen_bs)"
      ]
    },
    {
      "cell_type": "code",
      "execution_count": 9,
      "metadata": {
        "colab": {
          "base_uri": "https://localhost:8080/"
        },
        "id": "WfoH7MNKOBhC",
        "outputId": "c3857ac2-e074-4412-9cfc-0e2a911ac01d"
      },
      "outputs": [
        {
          "output_type": "stream",
          "name": "stdout",
          "text": [
            "2.290205955505371\n",
            "2.2128565311431885\n",
            "1.8400448560714722\n",
            "1.2573946714401245\n",
            "The teacher's accuracy score is:\n",
            "tensor(0.3920)\n"
          ]
        }
      ],
      "source": [
        "\n",
        "# Create the fcnn class\n",
        "class FCNN(nn.Module):\n",
        "    def __init__(self):\n",
        "        super(FCNN, self).__init__()\n",
        "        self.relu = nn.ReLU()\n",
        "        self.lin1 = nn.Linear(784, hidden_size)\n",
        "        self.lin2 = nn.Linear(hidden_size, hidden_size)\n",
        "        self.lin3 = nn.Linear(hidden_size, hidden_size)\n",
        "        self.lin4 = nn.Linear(hidden_size, hidden_size)\n",
        "        self.lin5 = nn.Linear(hidden_size, hidden_size)\n",
        "        self.lin6 = nn.Linear(hidden_size, 10)\n",
        "\n",
        "    def forward(self, x):\n",
        "        y = self.lin1(x)\n",
        "        y = self.relu(y)\n",
        "        y = self.lin2(y)\n",
        "        y = self.relu(y)\n",
        "        y = self.lin3(y)\n",
        "        y = self.relu(y)\n",
        "        y = self.lin4(y)\n",
        "        y = self.relu(y)\n",
        "        y = self.lin5(y)\n",
        "        y = self.relu(y)\n",
        "        y = self.lin6(y)\n",
        "        y = self.relu(y)\n",
        "        return y\n",
        "\n",
        "#Instantiate and put the model on the chosen device\n",
        "fcnn_teacher = FCNN().to(chosen_device)\n",
        "\n",
        "#Instantiate the optimizer\n",
        "optimizer = torch.optim.Adam(fcnn_teacher.parameters())\n",
        "\n",
        "#Training loop\n",
        "for epoch in range(n_epochs_fcnn):\n",
        "    for (x_mb, y_mb) in train_iterator:\n",
        "        # Reshape the train_tuple and put on the chosen device\n",
        "        x_mb = x_mb.reshape(-1, 784).to(chosen_device)\n",
        "        y_mb = y_mb.to(chosen_device)\n",
        "        # Foward propagation\n",
        "        y_hat_mb = fcnn_teacher(x_mb)\n",
        "        loss = chosen_loss(y_hat_mb, y_mb)\n",
        "        # Backpropagation\n",
        "        loss.backward()\n",
        "        optimizer.step()\n",
        "        optimizer.zero_grad()\n",
        "\n",
        "    print(loss.item())\n",
        "\n",
        "# Get the validation set classification accuracy\n",
        "teacher_acc_score = 0\n",
        "teacher_acc_metric = MulticlassAccuracy(num_classes=nb_classes).to(chosen_device)\n",
        "for (x_mb, y_mb) in test_iterator:\n",
        "    x_mb = x_mb.reshape(-1, 784).to(chosen_device)\n",
        "    y_mb = y_mb.to(chosen_device)\n",
        "    # add the number of datapoints we classified right\n",
        "    teacher_acc_score += x_mb.size()[0] * teacher_acc_metric( fcnn_teacher(x_mb), y_mb )\n",
        "print(\"The teacher's accuracy score is:\")\n",
        "print(teacher_acc_score / nb_test) #divide by total size\n",
        "\n"
      ]
    },
    {
      "cell_type": "code",
      "execution_count": 10,
      "metadata": {
        "colab": {
          "base_uri": "https://localhost:8080/",
          "height": 450
        },
        "id": "ZKdeyavpUl2B",
        "outputId": "c2080bc6-9cd6-4bec-d5ff-74a35c0c0288"
      },
      "outputs": [
        {
          "output_type": "stream",
          "name": "stdout",
          "text": [
            "2.297011375427246\n",
            "2.301151752471924\n",
            "2.2917494773864746\n",
            "2.204847574234009\n"
          ]
        },
        {
          "output_type": "error",
          "ename": "KeyboardInterrupt",
          "evalue": "ignored",
          "traceback": [
            "\u001b[0;31m---------------------------------------------------------------------------\u001b[0m",
            "\u001b[0;31mKeyboardInterrupt\u001b[0m                         Traceback (most recent call last)",
            "\u001b[0;32m<ipython-input-10-3f9e07875309>\u001b[0m in \u001b[0;36m<module>\u001b[0;34m\u001b[0m\n\u001b[1;32m     30\u001b[0m \u001b[0;34m\u001b[0m\u001b[0m\n\u001b[1;32m     31\u001b[0m         \u001b[0;31m# Backpropagation\u001b[0m\u001b[0;34m\u001b[0m\u001b[0;34m\u001b[0m\u001b[0;34m\u001b[0m\u001b[0m\n\u001b[0;32m---> 32\u001b[0;31m         \u001b[0mloss\u001b[0m\u001b[0;34m.\u001b[0m\u001b[0mbackward\u001b[0m\u001b[0;34m(\u001b[0m\u001b[0;34m)\u001b[0m\u001b[0;34m\u001b[0m\u001b[0;34m\u001b[0m\u001b[0m\n\u001b[0m\u001b[1;32m     33\u001b[0m         \u001b[0mlmps_optimizer\u001b[0m\u001b[0;34m.\u001b[0m\u001b[0mstep\u001b[0m\u001b[0;34m(\u001b[0m\u001b[0;34m)\u001b[0m\u001b[0;34m\u001b[0m\u001b[0;34m\u001b[0m\u001b[0m\n\u001b[1;32m     34\u001b[0m         \u001b[0mlmps_optimizer\u001b[0m\u001b[0;34m.\u001b[0m\u001b[0mzero_grad\u001b[0m\u001b[0;34m(\u001b[0m\u001b[0;34m)\u001b[0m\u001b[0;34m\u001b[0m\u001b[0;34m\u001b[0m\u001b[0m\n",
            "\u001b[0;32m/usr/local/lib/python3.8/dist-packages/torch/_tensor.py\u001b[0m in \u001b[0;36mbackward\u001b[0;34m(self, gradient, retain_graph, create_graph, inputs)\u001b[0m\n\u001b[1;32m    486\u001b[0m                 \u001b[0minputs\u001b[0m\u001b[0;34m=\u001b[0m\u001b[0minputs\u001b[0m\u001b[0;34m,\u001b[0m\u001b[0;34m\u001b[0m\u001b[0;34m\u001b[0m\u001b[0m\n\u001b[1;32m    487\u001b[0m             )\n\u001b[0;32m--> 488\u001b[0;31m         torch.autograd.backward(\n\u001b[0m\u001b[1;32m    489\u001b[0m             \u001b[0mself\u001b[0m\u001b[0;34m,\u001b[0m \u001b[0mgradient\u001b[0m\u001b[0;34m,\u001b[0m \u001b[0mretain_graph\u001b[0m\u001b[0;34m,\u001b[0m \u001b[0mcreate_graph\u001b[0m\u001b[0;34m,\u001b[0m \u001b[0minputs\u001b[0m\u001b[0;34m=\u001b[0m\u001b[0minputs\u001b[0m\u001b[0;34m\u001b[0m\u001b[0;34m\u001b[0m\u001b[0m\n\u001b[1;32m    490\u001b[0m         )\n",
            "\u001b[0;32m/usr/local/lib/python3.8/dist-packages/torch/autograd/__init__.py\u001b[0m in \u001b[0;36mbackward\u001b[0;34m(tensors, grad_tensors, retain_graph, create_graph, grad_variables, inputs)\u001b[0m\n\u001b[1;32m    195\u001b[0m     \u001b[0;31m# some Python versions print out the first line of a multi-line function\u001b[0m\u001b[0;34m\u001b[0m\u001b[0;34m\u001b[0m\u001b[0;34m\u001b[0m\u001b[0m\n\u001b[1;32m    196\u001b[0m     \u001b[0;31m# calls in the traceback and some print out the last line\u001b[0m\u001b[0;34m\u001b[0m\u001b[0;34m\u001b[0m\u001b[0;34m\u001b[0m\u001b[0m\n\u001b[0;32m--> 197\u001b[0;31m     Variable._execution_engine.run_backward(  # Calls into the C++ engine to run the backward pass\n\u001b[0m\u001b[1;32m    198\u001b[0m         \u001b[0mtensors\u001b[0m\u001b[0;34m,\u001b[0m \u001b[0mgrad_tensors_\u001b[0m\u001b[0;34m,\u001b[0m \u001b[0mretain_graph\u001b[0m\u001b[0;34m,\u001b[0m \u001b[0mcreate_graph\u001b[0m\u001b[0;34m,\u001b[0m \u001b[0minputs\u001b[0m\u001b[0;34m,\u001b[0m\u001b[0;34m\u001b[0m\u001b[0;34m\u001b[0m\u001b[0m\n\u001b[1;32m    199\u001b[0m         allow_unreachable=True, accumulate_grad=True)  # Calls into the C++ engine to run the backward pass\n",
            "\u001b[0;31mKeyboardInterrupt\u001b[0m: "
          ]
        }
      ],
      "source": [
        "\n",
        "# Initialize the MPS module\n",
        "mps_student = MPS(\n",
        "    input_dim=28 ** 2,\n",
        "    output_dim=10,\n",
        "    bond_dim=bond_dim,\n",
        "    adaptive_mode=adaptive_mode,\n",
        "    periodic_bc=periodic_bc,\n",
        ").to(chosen_device)\n",
        "mps_student.register_feature_map(feature_map)\n",
        "\n",
        "# Instantiate the optimizer and softmax\n",
        "lmps_optimizer = torch.optim.Adam(mps_student.parameters(), lr = mps_learn_rate,\n",
        "                                  weight_decay = mps_reg)\n",
        "softmax = nn.Softmax(dim=1)\n",
        "\n",
        "# Training loop \n",
        "for epoch in range(n_epochs_lmps):\n",
        "    for (x_mb, _) in train_iterator:\n",
        "        # Reshape, add gaussian noise, put on the chosen device\n",
        "        x_mb = x_mb.reshape(-1, 784).to(chosen_device)\n",
        "        if epoch > (n_epochs_lmps - gauss_epochs):\n",
        "          x_mb = (x_mb + torch.randn(size=x_mb.size())).to(chosen_device)\n",
        "\n",
        "        # Get softmax of output of teacher\n",
        "        y_mb = (softmax(fcnn_teacher(x_mb))).to(chosen_device)\n",
        "\n",
        "        # Foward propagation\n",
        "        y_hat_mb = mps_student(x_mb)\n",
        "        loss = mps_chosen_loss(y_hat_mb, y_mb)\n",
        "\n",
        "        # Backpropagation\n",
        "        loss.backward()\n",
        "        lmps_optimizer.step()\n",
        "        lmps_optimizer.zero_grad()\n",
        "\n",
        "    print(loss.item())\n",
        "\n",
        "\n",
        "student = mps_student\n",
        "\n",
        "# Get the validation set classification accuracy\n",
        "student_acc_score = 0\n",
        "student_acc_metric = MulticlassAccuracy(num_classes=nb_classes).to(chosen_device)\n",
        "for (x_mb, y_mb) in test_iterator:\n",
        "    x_mb = x_mb.reshape(-1, 784).to(chosen_device)\n",
        "    y_mb = y_mb.to(chosen_device)\n",
        "    # add the number of datapoints we classified right\n",
        "    student_acc_score += x_mb.size()[0] * student_acc_metric( student(x_mb), y_mb )\n",
        "print(\"Student_acc_score:\")\n",
        "print(student_acc_score / nb_test) #divide by total size\n"
      ]
    }
  ],
  "metadata": {
    "accelerator": "TPU",
    "colab": {
      "provenance": []
    },
    "gpuClass": "standard",
    "kernelspec": {
      "display_name": "base",
      "language": "python",
      "name": "python3"
    },
    "language_info": {
      "codemirror_mode": {
        "name": "ipython",
        "version": 3
      },
      "file_extension": ".py",
      "mimetype": "text/x-python",
      "name": "python",
      "nbconvert_exporter": "python",
      "pygments_lexer": "ipython3",
      "version": "3.10.8"
    },
    "orig_nbformat": 4,
    "vscode": {
      "interpreter": {
        "hash": "67bfac4f4aefe1c16f1836a62d55b6e6baa7aba1ac5ce70e93ee8e90eb4f073a"
      }
    }
  },
  "nbformat": 4,
  "nbformat_minor": 0
}
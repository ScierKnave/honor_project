{
  "cells": [
    {
      "cell_type": "code",
      "execution_count": 1,
      "metadata": {
        "colab": {
          "base_uri": "https://localhost:8080/"
        },
        "id": "hJYw8wfzOBhA",
        "outputId": "be157a37-05f0-4076-e7f1-dd0ea7e2e592"
      },
      "outputs": [
        {
          "name": "stdout",
          "output_type": "stream",
          "text": [
            "Defaulting to user installation because normal site-packages is not writeable\n",
            "Collecting git+https://github.com/jemisjoky/TorchMPS.git\n",
            "  Cloning https://github.com/jemisjoky/TorchMPS.git to c:\\users\\piche\\appdata\\local\\temp\\pip-req-build-79zbyyc4\n",
            "  Resolved https://github.com/jemisjoky/TorchMPS.git to commit 6c0bc1a8e2c15acba8570ca9ffe2b4a0c7135165\n",
            "  Preparing metadata (setup.py): started\n",
            "  Preparing metadata (setup.py): finished with status 'done'\n",
            "Requirement already satisfied: torch>=1.8.1 in c:\\programdata\\miniconda3\\lib\\site-packages (from torchmps==0.1.0) (1.13.1)\n",
            "Requirement already satisfied: opt_einsum>=3.3.0 in c:\\users\\piche\\appdata\\roaming\\python\\python310\\site-packages (from torchmps==0.1.0) (3.3.0)\n",
            "Requirement already satisfied: numpy>=1.7 in c:\\programdata\\miniconda3\\lib\\site-packages (from opt_einsum>=3.3.0->torchmps==0.1.0) (1.23.5)\n",
            "Requirement already satisfied: typing_extensions in c:\\programdata\\miniconda3\\lib\\site-packages (from torch>=1.8.1->torchmps==0.1.0) (4.4.0)\n",
            "Note: you may need to restart the kernel to use updated packages.\n"
          ]
        },
        {
          "name": "stderr",
          "output_type": "stream",
          "text": [
            "  Running command git clone --filter=blob:none --quiet https://github.com/jemisjoky/TorchMPS.git 'C:\\Users\\piche\\AppData\\Local\\Temp\\pip-req-build-79zbyyc4'\n",
            "c:\\ProgramData\\miniconda3\\lib\\site-packages\\tqdm\\auto.py:22: TqdmWarning: IProgress not found. Please update jupyter and ipywidgets. See https://ipywidgets.readthedocs.io/en/stable/user_install.html\n",
            "  from .autonotebook import tqdm as notebook_tqdm\n"
          ]
        },
        {
          "name": "stdout",
          "output_type": "stream",
          "text": [
            "^C\n",
            "Note: you may need to restart the kernel to use updated packages.\n"
          ]
        },
        {
          "name": "stdout",
          "output_type": "stream",
          "text": [
            "Defaulting to user installation because normal site-packages is not writeable\n",
            "Requirement already satisfied: torchmetrics in c:\\users\\piche\\appdata\\roaming\\python\\python310\\site-packages (0.11.1)\n",
            "Requirement already satisfied: packaging in c:\\programdata\\miniconda3\\lib\\site-packages (from torchmetrics) (22.0)\n",
            "Requirement already satisfied: numpy>=1.17.2 in c:\\programdata\\miniconda3\\lib\\site-packages (from torchmetrics) (1.23.5)\n",
            "Requirement already satisfied: torch>=1.8.1 in c:\\programdata\\miniconda3\\lib\\site-packages (from torchmetrics) (1.13.1)\n",
            "Requirement already satisfied: typing_extensions in c:\\programdata\\miniconda3\\lib\\site-packages (from torch>=1.8.1->torchmetrics) (4.4.0)\n"
          ]
        }
      ],
      "source": [
        "%pip install \"git+https://github.com/jemisjoky/TorchMPS.git\"\n",
        "import torch\n",
        "import torch.nn as nn\n",
        "import torchvision\n",
        "import torchvision.transforms as transforms\n",
        "%pip install torchmetrics\n",
        "from torchmetrics.classification import MulticlassAccuracy\n",
        "from torchmps import MPS"
      ]
    },
    {
      "attachments": {},
      "cell_type": "markdown",
      "metadata": {},
      "source": [
        "# Hyperparameters"
      ]
    },
    {
      "cell_type": "code",
      "execution_count": null,
      "metadata": {
        "id": "DtL7C860NJlr"
      },
      "outputs": [],
      "source": [
        "# Hardware hyperparameters\n",
        "chosen_device = torch.device('cuda' \n",
        "if torch.cuda.is_available() else 'cpu')\n",
        "\n",
        "# Data hyperparameters\n",
        "nb_train_HP = 2\n",
        "nb_test_HP = 500\n",
        "batch_sz_HP = 150\n",
        "batch_sz_HP = min(batch_sz_HP, nb_train_HP)\n",
        "nb_classes_HP = 10\n",
        "\n",
        "# Teacher hyperparameters\n",
        "chosen_device = torch.device('cuda' if torch.cuda.is_available() else 'cpu')\n",
        "nteacher_epochs_HP = 15\n",
        "hidden_size_HP = 70\n",
        "teacher_loss_HP = nn.CrossEntropyLoss()\n",
        "#Optimizer parameters\n",
        "teacher_lr_HP = 0.0001\n",
        "teacher_lr_HP = 0.9\n",
        "\n",
        "# Student hyperparameters\n",
        "# MPS parameters\n",
        "bond_dim_HP = 20\n",
        "adaptive_mode_HP = False\n",
        "periodic_bc_HP = False\n",
        "feature_map_HP = lambda x : torch.tensor([1, x]).to(chosen_device)\n",
        "# Training parameters\n",
        "nepochs_student_HP = 15\n",
        "student_lr_HP = 0.0001\n",
        "student_reg_HP = 0.0\n",
        "student_loss_HP = nn.KLDivLoss(reduction=\"batchmean\", log_target=True)\n",
        "# Gaussian parameters\n",
        "ngauss_epochs_HP = 5 # number of epochs with added gaussian noise\n",
        "gn_var_HP = 0.3 #added gaussian noise variance\n",
        "gn_mean_HP = 0 #added gaussian noise mean\n",
        "# well suited loss for comparison of divergences"
      ]
    },
    {
      "cell_type": "code",
      "execution_count": null,
      "metadata": {
        "id": "34pmpVgSOBhB"
      },
      "outputs": [],
      "source": [
        "# Import the mnist dataset\n",
        "train_set = torchvision.datasets.MNIST(root = './datasets', train = True,   \n",
        "    transform = transforms.ToTensor(),  download = True )\n",
        "\n",
        "train_subset = torch.utils.data.SubsetRandomSampler(range(nb_train))\n",
        "\n",
        "train_iterator = torch.utils.data.DataLoader(dataset = train_set, \n",
        "    sampler = train_subset, batch_size=batch_sz_HP)\n",
        "\n",
        "\n",
        "test_set = torchvision.datasets.MNIST(root = './datasets',\n",
        " train = False, transform = transforms.ToTensor(),  download = True)\n",
        "\n",
        "test_subset = torch.utils.data.SubsetRandomSampler(range(nb_test))\n",
        "\n",
        "test_iterator = torch.utils.data.DataLoader(dataset = test_set, \n",
        "    sampler = test_subset, batch_size = batch_sz_HP)"
      ]
    },
    {
      "attachments": {},
      "cell_type": "markdown",
      "metadata": {},
      "source": [
        "# Training the base model"
      ]
    },
    {
      "cell_type": "code",
      "execution_count": null,
      "metadata": {
        "colab": {
          "base_uri": "https://localhost:8080/"
        },
        "id": "WfoH7MNKOBhC",
        "outputId": "a2464401-6565-4009-89e5-1766d0143d91"
      },
      "outputs": [
        {
          "name": "stdout",
          "output_type": "stream",
          "text": [
            "2.3011550903320312\n",
            "2.2921862602233887\n",
            "2.2846620082855225\n",
            "2.277676582336426\n",
            "2.270646572113037\n",
            "2.2635183334350586\n",
            "2.2557387351989746\n",
            "2.2475104331970215\n",
            "2.23850154876709\n",
            "2.2281408309936523\n",
            "2.21614933013916\n",
            "2.201730728149414\n",
            "2.185075283050537\n",
            "2.1674695014953613\n",
            "2.147073268890381\n",
            "The teacher's accuracy score is:\n",
            "tensor(0.1000)\n"
          ]
        }
      ],
      "source": [
        "\n",
        "# Create the fcnn class\n",
        "class FCNN(nn.Module):\n",
        "    def __init__(self):\n",
        "        super(FCNN, self).__init__()\n",
        "        self.relu = nn.ReLU()\n",
        "        self.lin1 = nn.Linear(784, hidden_size)\n",
        "        self.lin2 = nn.Linear(hidden_size_HP, hidden_size_HP)\n",
        "        self.lin3 = nn.Linear(hidden_size_HP, hidden_size_HP)\n",
        "        self.lin4 = nn.Linear(hidden_size_HP, hidden_size_HP)\n",
        "        self.lin5 = nn.Linear(hidden_size_HP, hidden_size_HP)\n",
        "        self.lin6 = nn.Linear(hidden_size_HP, 10)\n",
        "\n",
        "    def forward(self, x):\n",
        "        y = self.lin1(x)\n",
        "        y = self.relu(y)\n",
        "        y = self.lin2(y)\n",
        "        y = self.relu(y)\n",
        "        y = self.lin3(y)\n",
        "        y = self.relu(y)\n",
        "        y = self.lin4(y)\n",
        "        y = self.relu(y)\n",
        "        y = self.lin5(y)\n",
        "        y = self.relu(y)\n",
        "        y = self.lin6(y)\n",
        "        y = self.relu(y)\n",
        "        return y\n",
        "\n",
        "#Instantiate and put the model on the chosen device\n",
        "teacher = FCNN().to(chosen_device)\n",
        "\n",
        "#Instantiate the optimizer\n",
        "teacher_optimizer = torch.optim.Adam(teacher.parameters())\n",
        "\n",
        "#Training loop\n",
        "for epoch in range(n_epochs_fcnn):\n",
        "    for (x_mb, y_mb) in train_iterator:\n",
        "        # Reshape the train_tuple and put on the chosen device\n",
        "        x_mb = x_mb.reshape(-1, 784).to(chosen_device)\n",
        "        y_mb = y_mb.to(chosen_device)\n",
        "        # Foward propagation\n",
        "        y_hat_mb = teacher(x_mb)\n",
        "        # Backpropagation\n",
        "        teacher_loss_HP(y_hat_mb, y_mb).backward()\n",
        "        teacher_optimizer.step()\n",
        "        teacher_optimizer.zero_grad()\n",
        "\n",
        "    print(loss.item())\n",
        "\n",
        "# Get the validation set classification accuracy\n",
        "teacher_acc_score = 0\n",
        "teacher_acc_metric = MulticlassAccuracy(num_classes=nb_classes_HP).to(chosen_device)\n",
        "for (x_mb, y_mb) in test_iterator:\n",
        "    x_mb = x_mb.reshape(-1, 784).to(chosen_device)\n",
        "    y_mb = y_mb.to(chosen_device)\n",
        "    # add the number of datapoints we classified right\n",
        "    teacher_acc_score += x_mb.size()[0] * teacher_acc_metric( teacher(x_mb), y_mb )\n",
        "print(\"The teacher's accuracy score is:\")\n",
        "print(teacher_acc_score / nb_test) #divide by total size\n",
        "\n"
      ]
    },
    {
      "attachments": {},
      "cell_type": "markdown",
      "metadata": {},
      "source": [
        "# Training the student model"
      ]
    },
    {
      "cell_type": "code",
      "execution_count": null,
      "metadata": {
        "colab": {
          "base_uri": "https://localhost:8080/"
        },
        "id": "ZKdeyavpUl2B",
        "outputId": "ac43b19f-afe0-4038-c5fe-b12ceb9ffd39"
      },
      "outputs": [
        {
          "name": "stdout",
          "output_type": "stream",
          "text": [
            "2.3025853633880615\n",
            "2.3025758266448975\n",
            "2.3025600910186768\n",
            "2.3024463653564453\n",
            "2.3020477294921875\n",
            "2.299933433532715\n",
            "2.2955358028411865\n",
            "2.2959940433502197\n",
            "2.2951107025146484\n",
            "2.2976527214050293\n",
            "2.296163558959961\n",
            "2.297980546951294\n",
            "2.298276662826538\n",
            "2.29848051071167\n",
            "2.2979133129119873\n",
            "Student_acc_score:\n",
            "tensor(0.1000)\n"
          ]
        }
      ],
      "source": [
        "\n",
        "# Initialize the MPS module\n",
        "student = MPS(\n",
        "    input_dim = 28 ** 2,\n",
        "    output_dim = 10,\n",
        "    bond_dim = bond_dim_HP,\n",
        "    adaptive_mode = adaptive_mode_HP,\n",
        "    periodic_bc = periodic_bc_HP,\n",
        ").to(chosen_device)\n",
        "student.register_feature_map(feature_map_HP)\n",
        "\n",
        "# Instantiate the optimizer and softmax\n",
        "student_optimizer = torch.optim.Adam(\n",
        "    student.parameters(), lr = student_lr_HP, weight_decay = student_reg_HP\n",
        "    )\n",
        "\n",
        "# Used on the inputs before the loss function\n",
        "LogSoftmax = nn.LogSoftmax(dim=1)\n",
        "\n",
        "# Training loop \n",
        "for epoch in range(nepochs_student_HP):\n",
        "    # Create an array to store the val loss\n",
        "    # of the student at each epoch\n",
        "    stud_val_loss = []\n",
        "    for (x_mb, _) in train_iterator:\n",
        "        \n",
        "        # Flatten the MNIST images, which come in matrix form\n",
        "        x_mb = x_mb.reshape(-1, 784).to(chosen_device)\n",
        "\n",
        "        # Apply Gaussian noise for the gaussian noised epochs\n",
        "        if epoch > (nepochs_student_HP - ngauss_epochs_HP):\n",
        "          x_mb = (x_mb + torch.randn(size=x_mb.size())).to(chosen_device)\n",
        "\n",
        "        # Get log of softmax of the teacher and student logits\n",
        "        # required before passing to KL divergence loss in Pytorch for some reason\n",
        "        teacher_output = LogSoftmax(teacher(x_mb)).to(chosen_device)\n",
        "        student_output = LogSoftmax(student(x_mb)).to(chosen_device)\n",
        "\n",
        "        # Backpropagation\n",
        "        student_loss_HP(student_output, teacher_output).backward()\n",
        "        student_optimizer.step()\n",
        "        student_optimizer.zero_grad()\n",
        "\n",
        "    print(loss.item())\n",
        "\n",
        "\n",
        "\n",
        "# Returns the validation set classification accuracy\n",
        "# test set accuracy of the student \n",
        "def get_student_val_acc():\n",
        "    # Get the validation set classification accuracy\n",
        "    student_acc_score = 0\n",
        "    student_acc_metric = MulticlassAccuracy(num_classes=nb_classes).to(chosen_device)\n",
        "    for (x_mb, y_mb) in test_iterator:\n",
        "        x_mb = x_mb.reshape(-1, 784).to(chosen_device)\n",
        "        y_mb = y_mb.to(chosen_device)\n",
        "        # add the number of datapoints we classified right\n",
        "        student_acc_score += x_mb.size()[0] * student_acc_metric( student(x_mb), y_mb )\n",
        "    print(\"Student_acc_score:\")\n",
        "    print(student_acc_score / nb_test) #divide by total size\n"
      ]
    }
  ],
  "metadata": {
    "accelerator": "TPU",
    "colab": {
      "provenance": []
    },
    "gpuClass": "standard",
    "kernelspec": {
      "display_name": "base",
      "language": "python",
      "name": "python3"
    },
    "language_info": {
      "codemirror_mode": {
        "name": "ipython",
        "version": 3
      },
      "file_extension": ".py",
      "mimetype": "text/x-python",
      "name": "python",
      "nbconvert_exporter": "python",
      "pygments_lexer": "ipython3",
      "version": "3.10.8"
    },
    "orig_nbformat": 4,
    "vscode": {
      "interpreter": {
        "hash": "67bfac4f4aefe1c16f1836a62d55b6e6baa7aba1ac5ce70e93ee8e90eb4f073a"
      }
    }
  },
  "nbformat": 4,
  "nbformat_minor": 0
}

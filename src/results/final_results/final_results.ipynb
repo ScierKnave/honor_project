{
 "cells": [
  {
   "cell_type": "code",
   "execution_count": 7,
   "metadata": {},
   "outputs": [],
   "source": [
    "import matplotlib.pyplot as plt\n",
    "plt.style.use('dark_background')\n",
    "import numpy as np"
   ]
  },
  {
   "cell_type": "code",
   "execution_count": 8,
   "metadata": {},
   "outputs": [
    {
     "name": "stdout",
     "output_type": "stream",
     "text": [
      "[[0.78530558 0.02244634 0.21994959 0.87577504]\n",
      " [0.82788149 0.83525586 0.62297452 0.24367357]\n",
      " [0.02911061 0.71034911 0.03241825 0.37805109]\n",
      " [0.78719137 0.98215861 0.04418207 0.07632275]]\n",
      "0.08896931049517992\n",
      "0.3934556144111804\n"
     ]
    }
   ],
   "source": [
    "A = np.random.rand(4,4)\n",
    "print(A)\n",
    "\n",
    "print(A[:,-1].var(axis=0))\n",
    "print(A[:,-1].mean(axis=0))"
   ]
  },
  {
   "attachments": {},
   "cell_type": "markdown",
   "metadata": {},
   "source": [
    "# MPS"
   ]
  },
  {
   "cell_type": "code",
   "execution_count": 9,
   "metadata": {},
   "outputs": [
    {
     "name": "stdout",
     "output_type": "stream",
     "text": [
      "[0.1    0.1    0.1    0.1    0.1241 0.2839 0.3008 0.3427 0.3773 0.408\n",
      " 0.4167 0.4163 0.4227 0.4251 0.4109 0.4333 0.437  0.4292 0.43   0.4274\n",
      " 0.4435 0.4485 0.4498 0.4504 0.443 ]\n"
     ]
    }
   ],
   "source": [
    "# 10 bond dimensions\n",
    "A = np.load(\"20x_fc_to_mps_testloss_10bd.npy\")\n",
    "print(A)\n",
    "\n",
    "\n",
    "# 20 bond dimensions\n"
   ]
  },
  {
   "attachments": {},
   "cell_type": "markdown",
   "metadata": {},
   "source": [
    "# FC TO MPS\n",
    "\n",
    "The fc has an accuracy of \n",
    "Test loss:  [0.205, 0.26762, 0.34435, 0.45653, 0.50299, 0.48948, 0.56028, 0.54766, 0.59326, 0.6071, 0.59979, 0.62026, 0.60682, 0.63139, 0.62401, 0.62037, 0.62014, 0.60877, 0.62892, 0.62471, 0.62431, 0.63479, 0.62603, 0.62664, 0.62532]"
   ]
  }
 ],
 "metadata": {
  "kernelspec": {
   "display_name": "base",
   "language": "python",
   "name": "python3"
  },
  "language_info": {
   "codemirror_mode": {
    "name": "ipython",
    "version": 3
   },
   "file_extension": ".py",
   "mimetype": "text/x-python",
   "name": "python",
   "nbconvert_exporter": "python",
   "pygments_lexer": "ipython3",
   "version": "3.10.8"
  },
  "orig_nbformat": 4
 },
 "nbformat": 4,
 "nbformat_minor": 2
}

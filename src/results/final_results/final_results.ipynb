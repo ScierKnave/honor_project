{
 "cells": [
  {
   "cell_type": "code",
   "execution_count": 1,
   "metadata": {},
   "outputs": [],
   "source": [
    "import matplotlib.pyplot as plt\n",
    "plt.style.use('dark_background')\n",
    "import numpy as np"
   ]
  },
  {
   "cell_type": "code",
   "execution_count": 2,
   "metadata": {},
   "outputs": [
    {
     "name": "stdout",
     "output_type": "stream",
     "text": [
      "[[0.71064216 0.82005172 0.23216716 0.911615  ]\n",
      " [0.52696333 0.1242924  0.39256846 0.41993459]\n",
      " [0.98499723 0.72094026 0.60700694 0.95434655]\n",
      " [0.71106255 0.54071343 0.46242993 0.14659534]]\n",
      "0.11510020055573406\n",
      "0.6081228689147565\n"
     ]
    }
   ],
   "source": [
    "A = np.random.rand(4,4)\n",
    "print(A)\n",
    "\n",
    "print(A[:,-1].var(axis=0))\n",
    "print(A[:,-1].mean(axis=0))"
   ]
  },
  {
   "attachments": {},
   "cell_type": "markdown",
   "metadata": {},
   "source": [
    "# MPS"
   ]
  },
  {
   "cell_type": "code",
   "execution_count": 7,
   "metadata": {},
   "outputs": [
    {
     "name": "stdout",
     "output_type": "stream",
     "text": [
      "0.897165\n",
      "0.00013383927499999992\n"
     ]
    }
   ],
   "source": [
    "# 10 bond dimensions\n",
    "TRAIN = np.load(\"20x_mps_trainloss_10bd.npy\")\n",
    "TEST = np.load(\"20x_mps_testloss_10bd.npy\")\n",
    "\n",
    "print(10)\n",
    "print(TEST[:,-1].mean(axis=0))\n",
    "print(TEST[:,-1].var(axis=0))\n",
    "print()\n",
    "\n",
    "# 20 bond dimensions\n",
    "TRAIN = np.load(\"20x_mps_trainloss_20bd.npy\")\n",
    "TEST = np.load(\"20x_mps_testloss_20bd.npy\")\n",
    "\n",
    "print(20)\n",
    "print(TEST[:,-1].mean(axis=0))\n",
    "print(TEST[:,-1].var(axis=0))\n",
    "print()\n",
    "\n",
    "# 40 bond dimensions\n",
    "TRAIN = np.load(\"20x_mps_trainloss_40bd.npy\")\n",
    "TEST = np.load(\"20x_mps_testloss_40bd.npy\")\n",
    "\n",
    "print(40)\n",
    "print(TEST[:,-1].mean(axis=0))\n",
    "print(TEST[:,-1].var(axis=0))\n",
    "print()"
   ]
  },
  {
   "attachments": {},
   "cell_type": "markdown",
   "metadata": {},
   "source": [
    "# FC TO MPS\n",
    "\n",
    "The fc has an accuracy of \n",
    "Test loss:  [0.205, 0.26762, 0.34435, 0.45653, 0.50299, 0.48948, 0.56028, 0.54766, 0.59326, 0.6071, 0.59979, 0.62026, 0.60682, 0.63139, 0.62401, 0.62037, 0.62014, 0.60877, 0.62892, 0.62471, 0.62431, 0.63479, 0.62603, 0.62664, 0.62532]"
   ]
  }
 ],
 "metadata": {
  "kernelspec": {
   "display_name": "base",
   "language": "python",
   "name": "python3"
  },
  "language_info": {
   "codemirror_mode": {
    "name": "ipython",
    "version": 3
   },
   "file_extension": ".py",
   "mimetype": "text/x-python",
   "name": "python",
   "nbconvert_exporter": "python",
   "pygments_lexer": "ipython3",
   "version": "3.10.8"
  },
  "orig_nbformat": 4
 },
 "nbformat": 4,
 "nbformat_minor": 2
}

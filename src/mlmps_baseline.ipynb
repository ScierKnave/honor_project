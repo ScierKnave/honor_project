{
  "cells": [
    {
      "cell_type": "code",
      "execution_count": 20,
      "metadata": {
        "colab": {
          "base_uri": "https://localhost:8080/"
        },
        "id": "hJYw8wfzOBhA",
        "outputId": "27f37549-1f8e-47c0-99ba-8cf9a7f6c623"
      },
      "outputs": [
        {
          "output_type": "stream",
          "name": "stdout",
          "text": [
            "Looking in indexes: https://pypi.org/simple, https://us-python.pkg.dev/colab-wheels/public/simple/\n",
            "Collecting git+https://github.com/jemisjoky/TorchMPS.git\n",
            "  Cloning https://github.com/jemisjoky/TorchMPS.git to /tmp/pip-req-build-dvn2ub3y\n",
            "  Running command git clone --filter=blob:none --quiet https://github.com/jemisjoky/TorchMPS.git /tmp/pip-req-build-dvn2ub3y\n",
            "  Resolved https://github.com/jemisjoky/TorchMPS.git to commit 6c0bc1a8e2c15acba8570ca9ffe2b4a0c7135165\n",
            "  Preparing metadata (setup.py) ... \u001b[?25l\u001b[?25hdone\n",
            "Requirement already satisfied: torch>=1.8.1 in /usr/local/lib/python3.9/dist-packages (from torchmps==0.1.0) (1.13.1+cu116)\n",
            "Requirement already satisfied: opt_einsum>=3.3.0 in /usr/local/lib/python3.9/dist-packages (from torchmps==0.1.0) (3.3.0)\n",
            "Requirement already satisfied: numpy>=1.7 in /usr/local/lib/python3.9/dist-packages (from opt_einsum>=3.3.0->torchmps==0.1.0) (1.22.4)\n",
            "Requirement already satisfied: typing-extensions in /usr/local/lib/python3.9/dist-packages (from torch>=1.8.1->torchmps==0.1.0) (4.5.0)\n",
            "Looking in indexes: https://pypi.org/simple, https://us-python.pkg.dev/colab-wheels/public/simple/\n",
            "Requirement already satisfied: torchmetrics in /usr/local/lib/python3.9/dist-packages (0.11.3)\n",
            "Requirement already satisfied: torch>=1.8.1 in /usr/local/lib/python3.9/dist-packages (from torchmetrics) (1.13.1+cu116)\n",
            "Requirement already satisfied: numpy>=1.17.2 in /usr/local/lib/python3.9/dist-packages (from torchmetrics) (1.22.4)\n",
            "Requirement already satisfied: packaging in /usr/local/lib/python3.9/dist-packages (from torchmetrics) (23.0)\n",
            "Requirement already satisfied: typing-extensions in /usr/local/lib/python3.9/dist-packages (from torch>=1.8.1->torchmetrics) (4.5.0)\n"
          ]
        }
      ],
      "source": [
        "%pip install \"git+https://github.com/jemisjoky/TorchMPS.git\"\n",
        "import torch\n",
        "import torch.nn as nn\n",
        "import torchvision\n",
        "import torchvision.transforms as transforms\n",
        "%pip install torchmetrics\n",
        "from torchmetrics.classification import MulticlassAccuracy\n",
        "from torchmps import MPS"
      ]
    },
    {
      "cell_type": "code",
      "execution_count": 21,
      "metadata": {
        "id": "avFrxoXMNK1s"
      },
      "outputs": [],
      "source": [
        "# Hardware hyperparameters\n",
        "chosen_device = torch.device('cuda' \n",
        "if torch.cuda.is_available() else 'cpu')\n",
        "\n",
        "# Data hyperparameters\n",
        "nb_train = 400\n",
        "nb_test = 50\n",
        "chosen_bs = 100\n",
        "input_size = 28*28\n",
        "nb_classes = 10\n",
        "\n",
        "\n",
        "# Student hyperparameters\n",
        "# MPS parameters\n",
        "hidden_size = 70\n",
        "bond_dim = 20\n",
        "adaptive_mode = False\n",
        "periodic_bc = False\n",
        "feature_map = lambda x : torch.tensor([1, x]).to(chosen_device)\n",
        "feature_dim = 2\n",
        "# Training parameters\n",
        "gn_var = 0.3 #added gaussian noise variance\n",
        "gn_mean = 0 #added gaussian noise mean\n",
        "n_epochs_lmps = 20\n",
        "mps_learn_rate = 0.0001\n",
        "mps_reg = 0.0\n",
        "mps_chosen_loss = nn.CrossEntropyLoss().to(chosen_device)"
      ]
    },
    {
      "cell_type": "code",
      "execution_count": 22,
      "metadata": {
        "id": "34pmpVgSOBhB"
      },
      "outputs": [],
      "source": [
        "# Import the mnist dataset\n",
        "train_set = torchvision.datasets.MNIST(root = './datasets', train = True,   \n",
        "    transform = transforms.ToTensor(),  download = True )\n",
        "\n",
        "train_subset = torch.utils.data.SubsetRandomSampler(range(nb_train))\n",
        "\n",
        "train_iterator = torch.utils.data.DataLoader(dataset = train_set, \n",
        "    sampler = train_subset, batch_size=chosen_bs)\n",
        "\n",
        "\n",
        "test_set = torchvision.datasets.MNIST(root = './datasets',\n",
        " train = False, transform = transforms.ToTensor(),  download = True)\n",
        "\n",
        "test_subset = torch.utils.data.SubsetRandomSampler(range(nb_test))\n",
        "\n",
        "test_iterator = torch.utils.data.DataLoader(dataset = test_set, \n",
        "    sampler = test_subset, batch_size = chosen_bs)"
      ]
    },
    {
      "cell_type": "code",
      "execution_count": null,
      "metadata": {
        "colab": {
          "base_uri": "https://localhost:8080/"
        },
        "id": "ZKdeyavpUl2B",
        "outputId": "f727ea60-1829-411d-adbe-7c6719899ea8"
      },
      "outputs": [
        {
          "output_type": "stream",
          "name": "stdout",
          "text": [
            "2.986597776412964\n",
            "2.715536117553711\n",
            "2.3862602710723877\n",
            "2.2160656452178955\n",
            "2.3184027671813965\n",
            "2.235750198364258\n",
            "2.3320345878601074\n",
            "1.916836142539978\n",
            "1.6303497552871704\n",
            "1.6536632776260376\n",
            "1.0061269998550415\n"
          ]
        }
      ],
      "source": [
        "class Student(nn.Module):\n",
        "    def __init__(self):\n",
        "        super(Student, self).__init__()\n",
        "        # Initialize the MPS modules\n",
        "        self.student_mps1 = MPS(\n",
        "            input_dim = input_size,\n",
        "            feature_dim = feature_dim,\n",
        "            output_dim = hidden_size,\n",
        "            bond_dim = bond_dim,\n",
        "            adaptive_mode = adaptive_mode,\n",
        "            periodic_bc = periodic_bc,\n",
        "        )\n",
        "        self.student_mps1.register_feature_map(feature_map)\n",
        "\n",
        "        self.student_mps2 = MPS(\n",
        "            input_dim = hidden_size, #crucial setting\n",
        "            feature_dim = feature_dim,\n",
        "            output_dim = nb_classes,\n",
        "            bond_dim = bond_dim,\n",
        "            adaptive_mode = adaptive_mode,\n",
        "            periodic_bc = periodic_bc,\n",
        "        )\n",
        "        self.student_mps2.register_feature_map(feature_map)\n",
        "        # Make sure that Pytorch finds the parameters of the model\n",
        "        #self.stud_parameters = nn.ParameterList([self.student_mps1.parameters(), \n",
        "                                            #self.student_mps2.parameters()])\n",
        "\n",
        "    def forward(self, x):\n",
        "        y = self.student_mps1(x)\n",
        "        #y = self.student_mps2(y)\n",
        "        return y\n",
        "\n",
        "\n",
        "student = Student().to(chosen_device)\n",
        "\n",
        "# Instantiate the optimizer and softmax\n",
        "student_optimizer = torch.optim.Adam(student.parameters(), lr = mps_learn_rate,\n",
        "                                  weight_decay = mps_reg)\n",
        "\n",
        "\n",
        "softmax = nn.Softmax(dim=1)\n",
        "\n",
        "# Training loop for the student\n",
        "for epoch in range(n_epochs_lmps):\n",
        "    for (x_mb, y_mb) in train_iterator:\n",
        "        # Reshape, add gaussian noise, put on the chosen device\n",
        "        x_mb = x_mb.reshape(-1, 784).to(chosen_device)\n",
        "        y_mb = y_mb.to(chosen_device)\n",
        "\n",
        "\n",
        "        # Foward propagation\n",
        "        y_hat_mb = student(x_mb)\n",
        "        loss = mps_chosen_loss(y_hat_mb, y_mb)\n",
        "\n",
        "        # Backpropagation\n",
        "        loss.backward()\n",
        "        student_optimizer.step()\n",
        "        student_optimizer.zero_grad()\n",
        "\n",
        "    print(loss.item())\n",
        "\n",
        "\n",
        "\n",
        "# Get the validation set classification accuracy\n",
        "student_acc_score = 0\n",
        "student_acc_metric = MulticlassAccuracy(num_classes=nb_classes).to(chosen_device)\n",
        "for (x_mb, y_mb) in test_iterator:\n",
        "    x_mb = x_mb.reshape(-1, 784).to(chosen_device)\n",
        "    y_mb = y_mb.to(chosen_device)\n",
        "    # add the number of datapoints we classified right\n",
        "    student_acc_score += x_mb.size()[0] * student_acc_metric( student(x_mb), y_mb )\n",
        "print(\"Student_acc_score:\")\n",
        "print(student_acc_score / nb_test) #divide by total size\n"
      ]
    }
  ],
  "metadata": {
    "accelerator": "GPU",
    "colab": {
      "provenance": []
    },
    "gpuClass": "standard",
    "kernelspec": {
      "display_name": "base",
      "language": "python",
      "name": "python3"
    },
    "language_info": {
      "codemirror_mode": {
        "name": "ipython",
        "version": 3
      },
      "file_extension": ".py",
      "mimetype": "text/x-python",
      "name": "python",
      "nbconvert_exporter": "python",
      "pygments_lexer": "ipython3",
      "version": "3.10.8"
    },
    "orig_nbformat": 4,
    "vscode": {
      "interpreter": {
        "hash": "67bfac4f4aefe1c16f1836a62d55b6e6baa7aba1ac5ce70e93ee8e90eb4f073a"
      }
    }
  },
  "nbformat": 4,
  "nbformat_minor": 0
}
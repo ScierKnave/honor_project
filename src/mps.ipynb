{
  "cells": [
    {
      "cell_type": "code",
      "execution_count": 2,
      "metadata": {
        "colab": {
          "base_uri": "https://localhost:8080/"
        },
        "id": "hJYw8wfzOBhA",
        "outputId": "1f2ecbe7-e2c9-420d-dc36-acf32648048b"
      },
      "outputs": [
        {
          "name": "stderr",
          "output_type": "stream",
          "text": [
            "  Running command git clone --filter=blob:none --quiet https://github.com/ScierKnave/TorchMPS.git 'C:\\Users\\piche\\AppData\\Local\\Temp\\pip-req-build-3xhjwjob'\n"
          ]
        },
        {
          "name": "stdout",
          "output_type": "stream",
          "text": [
            "Defaulting to user installation because normal site-packages is not writeable\n",
            "Collecting git+https://github.com/ScierKnave/TorchMPS.git\n",
            "  Cloning https://github.com/ScierKnave/TorchMPS.git to c:\\users\\piche\\appdata\\local\\temp\\pip-req-build-3xhjwjob\n",
            "  Resolved https://github.com/ScierKnave/TorchMPS.git to commit f716a08e15d0af50dbfdfc435ab9604e82562ea3\n",
            "  Preparing metadata (setup.py): started\n",
            "  Preparing metadata (setup.py): finished with status 'done'\n",
            "Requirement already satisfied: torch>=1.8.1 in c:\\programdata\\miniconda3\\lib\\site-packages (from torchmps==0.1.0) (1.13.1)\n",
            "Requirement already satisfied: opt_einsum>=3.3.0 in c:\\users\\piche\\appdata\\roaming\\python\\python310\\site-packages (from torchmps==0.1.0) (3.3.0)\n",
            "Requirement already satisfied: numpy>=1.7 in c:\\programdata\\miniconda3\\lib\\site-packages (from opt_einsum>=3.3.0->torchmps==0.1.0) (1.23.5)\n",
            "Requirement already satisfied: typing_extensions in c:\\programdata\\miniconda3\\lib\\site-packages (from torch>=1.8.1->torchmps==0.1.0) (4.4.0)\n",
            "Note: you may need to restart the kernel to use updated packages.\n"
          ]
        },
        {
          "name": "stderr",
          "output_type": "stream",
          "text": [
            "c:\\ProgramData\\miniconda3\\lib\\site-packages\\tqdm\\auto.py:22: TqdmWarning: IProgress not found. Please update jupyter and ipywidgets. See https://ipywidgets.readthedocs.io/en/stable/user_install.html\n",
            "  from .autonotebook import tqdm as notebook_tqdm\n"
          ]
        },
        {
          "name": "stdout",
          "output_type": "stream",
          "text": [
            "Defaulting to user installation because normal site-packages is not writeable\n",
            "Requirement already satisfied: torchmetrics in c:\\users\\piche\\appdata\\roaming\\python\\python310\\site-packages (0.11.1)\n",
            "Requirement already satisfied: torch>=1.8.1 in c:\\programdata\\miniconda3\\lib\\site-packages (from torchmetrics) (1.13.1)\n",
            "Requirement already satisfied: packaging in c:\\programdata\\miniconda3\\lib\\site-packages (from torchmetrics) (22.0)\n",
            "Requirement already satisfied: numpy>=1.17.2 in c:\\programdata\\miniconda3\\lib\\site-packages (from torchmetrics) (1.23.5)\n",
            "Requirement already satisfied: typing_extensions in c:\\programdata\\miniconda3\\lib\\site-packages (from torch>=1.8.1->torchmetrics) (4.4.0)\n",
            "Note: you may need to restart the kernel to use updated packages.\n"
          ]
        }
      ],
      "source": [
        "%pip install \"git+https://github.com/ScierKnave/TorchMPS.git\"\n",
        "import numpy as np\n",
        "import torch\n",
        "import torch.nn as nn\n",
        "import torchvision\n",
        "import torchvision.transforms as transforms\n",
        "%pip install torchmetrics\n",
        "from torchmetrics.classification import MulticlassAccuracy\n",
        "from torchmps import MPS\n",
        "import math"
      ]
    },
    {
      "cell_type": "markdown",
      "metadata": {
        "id": "S4cYNyo4nE3j"
      },
      "source": [
        "# Hyperparameters"
      ]
    },
    {
      "cell_type": "code",
      "execution_count": 3,
      "metadata": {
        "id": "DtL7C860NJlr"
      },
      "outputs": [],
      "source": [
        "# MPS\n",
        "\n",
        "# Hardware hyperparameters\n",
        "chosen_device = torch.device('cuda' \n",
        "if torch.cuda.is_available() else 'cpu')\n",
        "\n",
        "# Data hyperparameters\n",
        "nb_train_HP = 2000\n",
        "nb_test_HP = 500\n",
        "batch_sz_HP = 150\n",
        "batch_sz_HP = min(batch_sz_HP, nb_train_HP)\n",
        "nb_classes_HP = 10\n",
        "\n",
        "# Student hyperparameters\n",
        "# MPS parameters\n",
        "bond_dim_HP = 20\n",
        "# USING CUSTOM FEATURE MAP WITH FORK?: YES\n",
        "\n",
        "# Training parameters\n",
        "nepochs_student_HP = 25 \n",
        "student_lr_HP = 1e-4\n",
        "student_reg_HP = 0\n",
        "student_loss_HP = nn.CrossEntropyLoss()\n"
      ]
    },
    {
      "cell_type": "markdown",
      "metadata": {
        "id": "gvJCqr8QnE3l"
      },
      "source": [
        "# Premilinaries: Importing the data and utils subroutines"
      ]
    },
    {
      "cell_type": "code",
      "execution_count": 4,
      "metadata": {
        "id": "34pmpVgSOBhB"
      },
      "outputs": [],
      "source": [
        "# Import the mnist train dataset\n",
        "train_set = torch.load('datasets/train_mnist.pt')\n",
        "train_iterator = torch.utils.data.DataLoader(\n",
        "    dataset = train_set, \n",
        "    sampler = torch.utils.data.SubsetRandomSampler(range(nb_train_HP)),\n",
        "    batch_size=batch_sz_HP\n",
        "    )\n",
        "\n",
        "# Import the mnist test set\n",
        "test_set = torch.load('datasets/test_mnist.pt')\n",
        "# Create a testing batch iterator\n",
        "test_iterator = torch.utils.data.DataLoader(\n",
        "    dataset = test_set, \n",
        "    sampler = torch.utils.data.SubsetRandomSampler(range(nb_test_HP)),\n",
        "    batch_size = batch_sz_HP\n",
        "    )"
      ]
    },
    {
      "cell_type": "code",
      "execution_count": 5,
      "metadata": {
        "id": "NlVDkr_-nE3l"
      },
      "outputs": [],
      "source": [
        "# Returns the validation set classification accuracy\n",
        "# of the given input model (this is a higher order function)\n",
        "def get_acc(model, iterator):\n",
        "    # Get the validation set classification accuracy\n",
        "    total_good_classifications = 0\n",
        "    acc_metric = MulticlassAccuracy(num_classes=nb_classes_HP).to(chosen_device)\n",
        "    for (x_mb, y_mb) in iterator:\n",
        "        x_mb = x_mb.reshape(-1, 784).to(chosen_device)\n",
        "        y_mb = y_mb.to(chosen_device)\n",
        "        # Add the number of datapoints we classified right to the total\n",
        "        batch_size = x_mb.size()[0]\n",
        "        y_hat = model(x_mb)\n",
        "        batch_good_classifications = batch_size * acc_metric(y_hat, y_mb)\n",
        "        total_good_classifications += batch_good_classifications\n",
        "    return total_good_classifications / nb_test_HP # divide by total size"
      ]
    },
    {
      "cell_type": "markdown",
      "metadata": {
        "id": "acY6Jwc7nE3o"
      },
      "source": [
        "# Training the student model"
      ]
    },
    {
      "cell_type": "code",
      "execution_count": 6,
      "metadata": {
        "colab": {
          "base_uri": "https://localhost:8080/"
        },
        "id": "ZKdeyavpUl2B",
        "outputId": "32411259-8503-4db3-813e-37a3ea6cab55"
      },
      "outputs": [
        {
          "ename": "KeyboardInterrupt",
          "evalue": "",
          "output_type": "error",
          "traceback": [
            "\u001b[1;31m---------------------------------------------------------------------------\u001b[0m",
            "\u001b[1;31mKeyboardInterrupt\u001b[0m                         Traceback (most recent call last)",
            "Cell \u001b[1;32mIn[6], line 30\u001b[0m\n\u001b[0;32m     27\u001b[0m x_mb \u001b[39m=\u001b[39m x_mb\u001b[39m.\u001b[39mreshape(\u001b[39m-\u001b[39m\u001b[39m1\u001b[39m, \u001b[39m784\u001b[39m)\u001b[39m.\u001b[39mto(chosen_device)\n\u001b[0;32m     28\u001b[0m y_mb \u001b[39m=\u001b[39m y_mb\u001b[39m.\u001b[39mto(chosen_device)\n\u001b[1;32m---> 30\u001b[0m student_logits \u001b[39m=\u001b[39m student(x_mb) \n\u001b[0;32m     32\u001b[0m \u001b[39m# Backpropagation\u001b[39;00m\n\u001b[0;32m     33\u001b[0m loss \u001b[39m=\u001b[39m student_loss_HP( student_logits, y_mb)\n",
            "File \u001b[1;32mc:\\ProgramData\\miniconda3\\lib\\site-packages\\torch\\nn\\modules\\module.py:1194\u001b[0m, in \u001b[0;36mModule._call_impl\u001b[1;34m(self, *input, **kwargs)\u001b[0m\n\u001b[0;32m   1190\u001b[0m \u001b[39m# If we don't have any hooks, we want to skip the rest of the logic in\u001b[39;00m\n\u001b[0;32m   1191\u001b[0m \u001b[39m# this function, and just call forward.\u001b[39;00m\n\u001b[0;32m   1192\u001b[0m \u001b[39mif\u001b[39;00m \u001b[39mnot\u001b[39;00m (\u001b[39mself\u001b[39m\u001b[39m.\u001b[39m_backward_hooks \u001b[39mor\u001b[39;00m \u001b[39mself\u001b[39m\u001b[39m.\u001b[39m_forward_hooks \u001b[39mor\u001b[39;00m \u001b[39mself\u001b[39m\u001b[39m.\u001b[39m_forward_pre_hooks \u001b[39mor\u001b[39;00m _global_backward_hooks\n\u001b[0;32m   1193\u001b[0m         \u001b[39mor\u001b[39;00m _global_forward_hooks \u001b[39mor\u001b[39;00m _global_forward_pre_hooks):\n\u001b[1;32m-> 1194\u001b[0m     \u001b[39mreturn\u001b[39;00m forward_call(\u001b[39m*\u001b[39m\u001b[39minput\u001b[39m, \u001b[39m*\u001b[39m\u001b[39m*\u001b[39mkwargs)\n\u001b[0;32m   1195\u001b[0m \u001b[39m# Do not call functions when jit is used\u001b[39;00m\n\u001b[0;32m   1196\u001b[0m full_backward_hooks, non_full_backward_hooks \u001b[39m=\u001b[39m [], []\n",
            "File \u001b[1;32m~\\AppData\\Roaming\\Python\\Python310\\site-packages\\torchmps\\torchmps.py:479\u001b[0m, in \u001b[0;36mMPS.forward\u001b[1;34m(self, input_data)\u001b[0m\n\u001b[0;32m    477\u001b[0m \u001b[39m# Embed our input data before feeding it into our linear region\u001b[39;00m\n\u001b[0;32m    478\u001b[0m input_data \u001b[39m=\u001b[39m \u001b[39mself\u001b[39m\u001b[39m.\u001b[39membed_input(input_data)\n\u001b[1;32m--> 479\u001b[0m output \u001b[39m=\u001b[39m \u001b[39mself\u001b[39;49m\u001b[39m.\u001b[39;49mlinear_region(input_data)\n\u001b[0;32m    481\u001b[0m \u001b[39m# If we got a tuple as output, then use the last two entries to\u001b[39;00m\n\u001b[0;32m    482\u001b[0m \u001b[39m# update our bond dimensions and singular values\u001b[39;00m\n\u001b[0;32m    483\u001b[0m \u001b[39mif\u001b[39;00m \u001b[39misinstance\u001b[39m(output, \u001b[39mtuple\u001b[39m):\n",
            "File \u001b[1;32mc:\\ProgramData\\miniconda3\\lib\\site-packages\\torch\\nn\\modules\\module.py:1194\u001b[0m, in \u001b[0;36mModule._call_impl\u001b[1;34m(self, *input, **kwargs)\u001b[0m\n\u001b[0;32m   1190\u001b[0m \u001b[39m# If we don't have any hooks, we want to skip the rest of the logic in\u001b[39;00m\n\u001b[0;32m   1191\u001b[0m \u001b[39m# this function, and just call forward.\u001b[39;00m\n\u001b[0;32m   1192\u001b[0m \u001b[39mif\u001b[39;00m \u001b[39mnot\u001b[39;00m (\u001b[39mself\u001b[39m\u001b[39m.\u001b[39m_backward_hooks \u001b[39mor\u001b[39;00m \u001b[39mself\u001b[39m\u001b[39m.\u001b[39m_forward_hooks \u001b[39mor\u001b[39;00m \u001b[39mself\u001b[39m\u001b[39m.\u001b[39m_forward_pre_hooks \u001b[39mor\u001b[39;00m _global_backward_hooks\n\u001b[0;32m   1193\u001b[0m         \u001b[39mor\u001b[39;00m _global_forward_hooks \u001b[39mor\u001b[39;00m _global_forward_pre_hooks):\n\u001b[1;32m-> 1194\u001b[0m     \u001b[39mreturn\u001b[39;00m forward_call(\u001b[39m*\u001b[39m\u001b[39minput\u001b[39m, \u001b[39m*\u001b[39m\u001b[39m*\u001b[39mkwargs)\n\u001b[0;32m   1195\u001b[0m \u001b[39m# Do not call functions when jit is used\u001b[39;00m\n\u001b[0;32m   1196\u001b[0m full_backward_hooks, non_full_backward_hooks \u001b[39m=\u001b[39m [], []\n",
            "File \u001b[1;32m~\\AppData\\Roaming\\Python\\Python310\\site-packages\\torchmps\\torchmps.py:640\u001b[0m, in \u001b[0;36mLinearRegion.forward\u001b[1;34m(self, input_data)\u001b[0m\n\u001b[0;32m    637\u001b[0m         mod_input \u001b[39m=\u001b[39m input_data[:, ind : (ind \u001b[39m+\u001b[39m mod_len)]\n\u001b[0;32m    638\u001b[0m     ind \u001b[39m+\u001b[39m\u001b[39m=\u001b[39m mod_len\n\u001b[1;32m--> 640\u001b[0m     contractable_list\u001b[39m.\u001b[39mappend(module(mod_input))\n\u001b[0;32m    642\u001b[0m \u001b[39m# For periodic boundary conditions, reduce contractable_list and\u001b[39;00m\n\u001b[0;32m    643\u001b[0m \u001b[39m# trace over the left and right indices to get our output\u001b[39;00m\n\u001b[0;32m    644\u001b[0m \u001b[39mif\u001b[39;00m periodic_bc:\n",
            "File \u001b[1;32mc:\\ProgramData\\miniconda3\\lib\\site-packages\\torch\\nn\\modules\\module.py:1194\u001b[0m, in \u001b[0;36mModule._call_impl\u001b[1;34m(self, *input, **kwargs)\u001b[0m\n\u001b[0;32m   1190\u001b[0m \u001b[39m# If we don't have any hooks, we want to skip the rest of the logic in\u001b[39;00m\n\u001b[0;32m   1191\u001b[0m \u001b[39m# this function, and just call forward.\u001b[39;00m\n\u001b[0;32m   1192\u001b[0m \u001b[39mif\u001b[39;00m \u001b[39mnot\u001b[39;00m (\u001b[39mself\u001b[39m\u001b[39m.\u001b[39m_backward_hooks \u001b[39mor\u001b[39;00m \u001b[39mself\u001b[39m\u001b[39m.\u001b[39m_forward_hooks \u001b[39mor\u001b[39;00m \u001b[39mself\u001b[39m\u001b[39m.\u001b[39m_forward_pre_hooks \u001b[39mor\u001b[39;00m _global_backward_hooks\n\u001b[0;32m   1193\u001b[0m         \u001b[39mor\u001b[39;00m _global_forward_hooks \u001b[39mor\u001b[39;00m _global_forward_pre_hooks):\n\u001b[1;32m-> 1194\u001b[0m     \u001b[39mreturn\u001b[39;00m forward_call(\u001b[39m*\u001b[39m\u001b[39minput\u001b[39m, \u001b[39m*\u001b[39m\u001b[39m*\u001b[39mkwargs)\n\u001b[0;32m   1195\u001b[0m \u001b[39m# Do not call functions when jit is used\u001b[39;00m\n\u001b[0;32m   1196\u001b[0m full_backward_hooks, non_full_backward_hooks \u001b[39m=\u001b[39m [], []\n",
            "File \u001b[1;32m~\\AppData\\Roaming\\Python\\Python310\\site-packages\\torchmps\\torchmps.py:1055\u001b[0m, in \u001b[0;36mInputRegion.forward\u001b[1;34m(self, input_data)\u001b[0m\n\u001b[0;32m   1052\u001b[0m     bias_mat \u001b[39m=\u001b[39m \u001b[39mself\u001b[39m\u001b[39m.\u001b[39mbias_mat\u001b[39m.\u001b[39munsqueeze(\u001b[39m0\u001b[39m)\n\u001b[0;32m   1053\u001b[0m     mats \u001b[39m=\u001b[39m mats \u001b[39m+\u001b[39m bias_mat\u001b[39m.\u001b[39mexpand_as(mats)\n\u001b[1;32m-> 1055\u001b[0m \u001b[39mreturn\u001b[39;00m MatRegion(mats)\n",
            "File \u001b[1;32m~\\AppData\\Roaming\\Python\\Python310\\site-packages\\torchmps\\contractables.py:245\u001b[0m, in \u001b[0;36mMatRegion.__init__\u001b[1;34m(self, mats)\u001b[0m\n\u001b[0;32m    236\u001b[0m \u001b[39mclass\u001b[39;00m \u001b[39mMatRegion\u001b[39;00m(Contractable):\n\u001b[0;32m    237\u001b[0m \u001b[39m    \u001b[39m\u001b[39m\"\"\"\u001b[39;00m\n\u001b[0;32m    238\u001b[0m \u001b[39m    A contiguous collection of matrices which are multiplied together\u001b[39;00m\n\u001b[0;32m    239\u001b[0m \n\u001b[1;32m   (...)\u001b[0m\n\u001b[0;32m    242\u001b[0m \u001b[39m    size is already known\u001b[39;00m\n\u001b[0;32m    243\u001b[0m \u001b[39m    \"\"\"\u001b[39;00m\n\u001b[1;32m--> 245\u001b[0m     \u001b[39mdef\u001b[39;00m \u001b[39m__init__\u001b[39m(\u001b[39mself\u001b[39m, mats):\n\u001b[0;32m    246\u001b[0m         shape \u001b[39m=\u001b[39m \u001b[39mlist\u001b[39m(mats\u001b[39m.\u001b[39mshape)\n\u001b[0;32m    247\u001b[0m         \u001b[39mif\u001b[39;00m \u001b[39mlen\u001b[39m(shape) \u001b[39mnot\u001b[39;00m \u001b[39min\u001b[39;00m [\u001b[39m3\u001b[39m, \u001b[39m4\u001b[39m] \u001b[39mor\u001b[39;00m shape[\u001b[39m-\u001b[39m\u001b[39m2\u001b[39m] \u001b[39m!=\u001b[39m shape[\u001b[39m-\u001b[39m\u001b[39m1\u001b[39m]:\n",
            "\u001b[1;31mKeyboardInterrupt\u001b[0m: "
          ]
        }
      ],
      "source": [
        "\n",
        "# Initialize the MPS module\n",
        "student = MPS(\n",
        "    input_dim = 28 ** 2,\n",
        "    output_dim = 10,\n",
        "    bond_dim = bond_dim_HP\n",
        ").to(chosen_device) \n",
        "#student.register_feature_map(feature_map_HP)\n",
        "\n",
        "# Instantiate the optimizer and softmax\n",
        "student_optimizer = torch.optim.Adam(\n",
        "    student.parameters(), lr = student_lr_HP, weight_decay = student_reg_HP\n",
        ")\n",
        "\n",
        "# Used on the inputs before the loss function\n",
        "LogSoftmax = nn.LogSoftmax(dim=1)\n",
        "\n",
        "# Create an array to store the val loss\n",
        "# of the student at each epoch\n",
        "stud_test_loss = []\n",
        "stud_train_loss = []\n",
        "\n",
        "softmax = nn.Softmax(dim=1)\n",
        "# Training loop \n",
        "for epoch in range(nepochs_student_HP):\n",
        "    for (x_mb, y_mb) in train_iterator:\n",
        "        # Flatten the MNIST images, which come in matrix form\n",
        "        x_mb = x_mb.reshape(-1, 784).to(chosen_device)\n",
        "        y_mb = y_mb.to(chosen_device)\n",
        "\n",
        "        student_logits = student(x_mb) \n",
        "\n",
        "        # Backpropagation\n",
        "        loss = student_loss_HP( student_logits, y_mb)\n",
        "\n",
        "        student_optimizer.zero_grad()\n",
        "        loss.backward()\n",
        "        student_optimizer.step()\n",
        "\n",
        "    print(loss)\n",
        "\n",
        "    #stud_train_loss.append( round(get_acc(student, train_iterator).item(), 3) )\n",
        "    stud_test_loss.append( round( get_acc(student, test_iterator).item(), 5) )\n",
        "    print(stud_test_loss)\n",
        "    print(stud_train_loss)\n",
        "\n",
        "print(\"Epochs: \", np.arange(1, nepochs_student_HP+1).tolist())\n",
        "print(\"Train loss: \", stud_train_loss)\n",
        "print(\"Test loss: \", stud_test_loss)\n"
      ]
    }
  ],
  "metadata": {
    "accelerator": "GPU",
    "colab": {
      "provenance": []
    },
    "gpuClass": "standard",
    "kernelspec": {
      "display_name": "base",
      "language": "python",
      "name": "python3"
    },
    "language_info": {
      "codemirror_mode": {
        "name": "ipython",
        "version": 3
      },
      "file_extension": ".py",
      "mimetype": "text/x-python",
      "name": "python",
      "nbconvert_exporter": "python",
      "pygments_lexer": "ipython3",
      "version": "3.10.8"
    },
    "orig_nbformat": 4,
    "vscode": {
      "interpreter": {
        "hash": "67bfac4f4aefe1c16f1836a62d55b6e6baa7aba1ac5ce70e93ee8e90eb4f073a"
      }
    }
  },
  "nbformat": 4,
  "nbformat_minor": 0
}

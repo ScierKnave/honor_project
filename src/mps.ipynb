{
  "cells": [
    {
      "cell_type": "code",
      "execution_count": 6,
      "metadata": {
        "colab": {
          "base_uri": "https://localhost:8080/"
        },
        "id": "hJYw8wfzOBhA",
        "outputId": "1f2ecbe7-e2c9-420d-dc36-acf32648048b"
      },
      "outputs": [
        {
          "output_type": "stream",
          "name": "stdout",
          "text": [
            "Looking in indexes: https://pypi.org/simple, https://us-python.pkg.dev/colab-wheels/public/simple/\n",
            "Collecting git+https://github.com/ScierKnave/TorchMPS.git\n",
            "  Cloning https://github.com/ScierKnave/TorchMPS.git to /tmp/pip-req-build-t8mryab_\n",
            "  Running command git clone --filter=blob:none --quiet https://github.com/ScierKnave/TorchMPS.git /tmp/pip-req-build-t8mryab_\n",
            "  Resolved https://github.com/ScierKnave/TorchMPS.git to commit f716a08e15d0af50dbfdfc435ab9604e82562ea3\n",
            "  Preparing metadata (setup.py) ... \u001b[?25l\u001b[?25hdone\n",
            "Requirement already satisfied: torch>=1.8.1 in /usr/local/lib/python3.9/dist-packages (from torchmps==0.1.0) (1.13.1+cu116)\n",
            "Requirement already satisfied: opt_einsum>=3.3.0 in /usr/local/lib/python3.9/dist-packages (from torchmps==0.1.0) (3.3.0)\n",
            "Requirement already satisfied: numpy>=1.7 in /usr/local/lib/python3.9/dist-packages (from opt_einsum>=3.3.0->torchmps==0.1.0) (1.22.4)\n",
            "Requirement already satisfied: typing-extensions in /usr/local/lib/python3.9/dist-packages (from torch>=1.8.1->torchmps==0.1.0) (4.5.0)\n",
            "Looking in indexes: https://pypi.org/simple, https://us-python.pkg.dev/colab-wheels/public/simple/\n",
            "Requirement already satisfied: torchmetrics in /usr/local/lib/python3.9/dist-packages (0.11.4)\n",
            "Requirement already satisfied: numpy>=1.17.2 in /usr/local/lib/python3.9/dist-packages (from torchmetrics) (1.22.4)\n",
            "Requirement already satisfied: packaging in /usr/local/lib/python3.9/dist-packages (from torchmetrics) (23.0)\n",
            "Requirement already satisfied: torch>=1.8.1 in /usr/local/lib/python3.9/dist-packages (from torchmetrics) (1.13.1+cu116)\n",
            "Requirement already satisfied: typing-extensions in /usr/local/lib/python3.9/dist-packages (from torch>=1.8.1->torchmetrics) (4.5.0)\n"
          ]
        }
      ],
      "source": [
        "%pip install \"git+https://github.com/ScierKnave/TorchMPS.git\"\n",
        "import numpy as np\n",
        "import torch\n",
        "import torch.nn as nn\n",
        "import torchvision\n",
        "import torchvision.transforms as transforms\n",
        "%pip install torchmetrics\n",
        "from torchmetrics.classification import MulticlassAccuracy\n",
        "from torchmps import MPS\n",
        "import math"
      ]
    },
    {
      "cell_type": "markdown",
      "metadata": {
        "id": "S4cYNyo4nE3j"
      },
      "source": [
        "# Hyperparameters"
      ]
    },
    {
      "cell_type": "code",
      "execution_count": 7,
      "metadata": {
        "id": "DtL7C860NJlr"
      },
      "outputs": [],
      "source": [
        "# MPS\n",
        "\n",
        "# Hardware hyperparameters\n",
        "chosen_device = torch.device('cuda' \n",
        "if torch.cuda.is_available() else 'cpu')\n",
        "\n",
        "# Data hyperparameters\n",
        "nb_train_HP = 2000\n",
        "nb_test_HP = 500\n",
        "batch_sz_HP = 150\n",
        "batch_sz_HP = min(batch_sz_HP, nb_train_HP)\n",
        "nb_classes_HP = 10\n",
        "\n",
        "# Student hyperparameters\n",
        "# MPS parameters\n",
        "bond_dim_HP = 20\n",
        "# USING CUSTOM FEATURE MAP WITH FORK?: YES\n",
        "\n",
        "# Training parameters\n",
        "nepochs_student_HP = 25 \n",
        "student_lr_HP = 1e-4\n",
        "student_reg_HP = 0\n",
        "student_loss_HP = nn.CrossEntropyLoss()\n"
      ]
    },
    {
      "cell_type": "markdown",
      "metadata": {
        "id": "gvJCqr8QnE3l"
      },
      "source": [
        "# Premilinaries: Importing the data and utils subroutines"
      ]
    },
    {
      "cell_type": "code",
      "execution_count": 8,
      "metadata": {
        "id": "34pmpVgSOBhB"
      },
      "outputs": [],
      "source": [
        "# Import the mnist train dataset\n",
        "train_set = torchvision.datasets.MNIST(\n",
        "    root = './datasets', train = True,   \n",
        "    transform = transforms.ToTensor(),  download = True )\n",
        "\n",
        "# Create a training batch iterator\n",
        "train_subset = torch.utils.data.SubsetRandomSampler(range(nb_train_HP))\n",
        "train_iterator = torch.utils.data.DataLoader(\n",
        "    dataset = train_set, \n",
        "    sampler = train_subset, batch_size=batch_sz_HP\n",
        "    )\n",
        "\n",
        "# Import the mnist test set\n",
        "test_set = torchvision.datasets.MNIST(\n",
        "    root = './datasets',\n",
        "    train = False, transform = transforms.ToTensor(),  download = True\n",
        "    )\n",
        "# Create a testing batch iterator\n",
        "test_subset = torch.utils.data.SubsetRandomSampler(range(nb_test_HP))\n",
        "test_iterator = torch.utils.data.DataLoader(\n",
        "    dataset = test_set, \n",
        "    sampler = test_subset, batch_size = batch_sz_HP\n",
        "    )"
      ]
    },
    {
      "cell_type": "code",
      "execution_count": 9,
      "metadata": {
        "id": "NlVDkr_-nE3l"
      },
      "outputs": [],
      "source": [
        "# Returns the validation set classification accuracy\n",
        "# of the given input model (this is a higher order function)\n",
        "def get_acc(model, iterator):\n",
        "    # Get the validation set classification accuracy\n",
        "    total_good_classifications = 0\n",
        "    acc_metric = MulticlassAccuracy(num_classes=nb_classes_HP).to(chosen_device)\n",
        "    for (x_mb, y_mb) in iterator:\n",
        "        x_mb = x_mb.reshape(-1, 784).to(chosen_device)\n",
        "        y_mb = y_mb.to(chosen_device)\n",
        "        # Add the number of datapoints we classified right to the total\n",
        "        batch_size = x_mb.size()[0]\n",
        "        y_hat = model(x_mb)\n",
        "        batch_good_classifications = batch_size * acc_metric(y_hat, y_mb)\n",
        "        total_good_classifications += batch_good_classifications\n",
        "    return total_good_classifications / nb_test_HP # divide by total size"
      ]
    },
    {
      "cell_type": "markdown",
      "metadata": {
        "id": "acY6Jwc7nE3o"
      },
      "source": [
        "# Training the student model"
      ]
    },
    {
      "cell_type": "code",
      "execution_count": 10,
      "metadata": {
        "colab": {
          "base_uri": "https://localhost:8080/"
        },
        "id": "ZKdeyavpUl2B",
        "outputId": "32411259-8503-4db3-813e-37a3ea6cab55"
      },
      "outputs": [
        {
          "output_type": "stream",
          "name": "stdout",
          "text": [
            "tensor(2.2544, device='cuda:0', grad_fn=<NllLossBackward0>)\n",
            "[0.1]\n",
            "[]\n",
            "tensor(1.8736, device='cuda:0', grad_fn=<NllLossBackward0>)\n",
            "[0.1, 0.31743]\n",
            "[]\n",
            "tensor(1.0404, device='cuda:0', grad_fn=<NllLossBackward0>)\n",
            "[0.1, 0.31743, 0.53932]\n",
            "[]\n",
            "tensor(0.6320, device='cuda:0', grad_fn=<NllLossBackward0>)\n",
            "[0.1, 0.31743, 0.53932, 0.58134]\n",
            "[]\n",
            "tensor(0.7699, device='cuda:0', grad_fn=<NllLossBackward0>)\n",
            "[0.1, 0.31743, 0.53932, 0.58134, 0.68256]\n",
            "[]\n",
            "tensor(0.8187, device='cuda:0', grad_fn=<NllLossBackward0>)\n",
            "[0.1, 0.31743, 0.53932, 0.58134, 0.68256, 0.78223]\n",
            "[]\n",
            "tensor(0.5306, device='cuda:0', grad_fn=<NllLossBackward0>)\n",
            "[0.1, 0.31743, 0.53932, 0.58134, 0.68256, 0.78223, 0.81431]\n",
            "[]\n",
            "tensor(0.4838, device='cuda:0', grad_fn=<NllLossBackward0>)\n",
            "[0.1, 0.31743, 0.53932, 0.58134, 0.68256, 0.78223, 0.81431, 0.82391]\n",
            "[]\n",
            "tensor(0.3452, device='cuda:0', grad_fn=<NllLossBackward0>)\n",
            "[0.1, 0.31743, 0.53932, 0.58134, 0.68256, 0.78223, 0.81431, 0.82391, 0.82482]\n",
            "[]\n",
            "tensor(0.4764, device='cuda:0', grad_fn=<NllLossBackward0>)\n",
            "[0.1, 0.31743, 0.53932, 0.58134, 0.68256, 0.78223, 0.81431, 0.82391, 0.82482, 0.82728]\n",
            "[]\n",
            "tensor(0.2528, device='cuda:0', grad_fn=<NllLossBackward0>)\n",
            "[0.1, 0.31743, 0.53932, 0.58134, 0.68256, 0.78223, 0.81431, 0.82391, 0.82482, 0.82728, 0.85384]\n",
            "[]\n",
            "tensor(0.2400, device='cuda:0', grad_fn=<NllLossBackward0>)\n",
            "[0.1, 0.31743, 0.53932, 0.58134, 0.68256, 0.78223, 0.81431, 0.82391, 0.82482, 0.82728, 0.85384, 0.85237]\n",
            "[]\n",
            "tensor(0.2252, device='cuda:0', grad_fn=<NllLossBackward0>)\n",
            "[0.1, 0.31743, 0.53932, 0.58134, 0.68256, 0.78223, 0.81431, 0.82391, 0.82482, 0.82728, 0.85384, 0.85237, 0.80818]\n",
            "[]\n",
            "tensor(0.3363, device='cuda:0', grad_fn=<NllLossBackward0>)\n",
            "[0.1, 0.31743, 0.53932, 0.58134, 0.68256, 0.78223, 0.81431, 0.82391, 0.82482, 0.82728, 0.85384, 0.85237, 0.80818, 0.85301]\n",
            "[]\n",
            "tensor(0.2247, device='cuda:0', grad_fn=<NllLossBackward0>)\n",
            "[0.1, 0.31743, 0.53932, 0.58134, 0.68256, 0.78223, 0.81431, 0.82391, 0.82482, 0.82728, 0.85384, 0.85237, 0.80818, 0.85301, 0.89135]\n",
            "[]\n",
            "tensor(0.0902, device='cuda:0', grad_fn=<NllLossBackward0>)\n",
            "[0.1, 0.31743, 0.53932, 0.58134, 0.68256, 0.78223, 0.81431, 0.82391, 0.82482, 0.82728, 0.85384, 0.85237, 0.80818, 0.85301, 0.89135, 0.87056]\n",
            "[]\n",
            "tensor(0.2843, device='cuda:0', grad_fn=<NllLossBackward0>)\n",
            "[0.1, 0.31743, 0.53932, 0.58134, 0.68256, 0.78223, 0.81431, 0.82391, 0.82482, 0.82728, 0.85384, 0.85237, 0.80818, 0.85301, 0.89135, 0.87056, 0.85376]\n",
            "[]\n",
            "tensor(0.2146, device='cuda:0', grad_fn=<NllLossBackward0>)\n",
            "[0.1, 0.31743, 0.53932, 0.58134, 0.68256, 0.78223, 0.81431, 0.82391, 0.82482, 0.82728, 0.85384, 0.85237, 0.80818, 0.85301, 0.89135, 0.87056, 0.85376, 0.89757]\n",
            "[]\n",
            "tensor(0.2482, device='cuda:0', grad_fn=<NllLossBackward0>)\n",
            "[0.1, 0.31743, 0.53932, 0.58134, 0.68256, 0.78223, 0.81431, 0.82391, 0.82482, 0.82728, 0.85384, 0.85237, 0.80818, 0.85301, 0.89135, 0.87056, 0.85376, 0.89757, 0.87455]\n",
            "[]\n",
            "tensor(0.3967, device='cuda:0', grad_fn=<NllLossBackward0>)\n",
            "[0.1, 0.31743, 0.53932, 0.58134, 0.68256, 0.78223, 0.81431, 0.82391, 0.82482, 0.82728, 0.85384, 0.85237, 0.80818, 0.85301, 0.89135, 0.87056, 0.85376, 0.89757, 0.87455, 0.88028]\n",
            "[]\n",
            "tensor(0.0972, device='cuda:0', grad_fn=<NllLossBackward0>)\n",
            "[0.1, 0.31743, 0.53932, 0.58134, 0.68256, 0.78223, 0.81431, 0.82391, 0.82482, 0.82728, 0.85384, 0.85237, 0.80818, 0.85301, 0.89135, 0.87056, 0.85376, 0.89757, 0.87455, 0.88028, 0.87974]\n",
            "[]\n",
            "tensor(0.0207, device='cuda:0', grad_fn=<NllLossBackward0>)\n",
            "[0.1, 0.31743, 0.53932, 0.58134, 0.68256, 0.78223, 0.81431, 0.82391, 0.82482, 0.82728, 0.85384, 0.85237, 0.80818, 0.85301, 0.89135, 0.87056, 0.85376, 0.89757, 0.87455, 0.88028, 0.87974, 0.86696]\n",
            "[]\n",
            "tensor(0.0537, device='cuda:0', grad_fn=<NllLossBackward0>)\n",
            "[0.1, 0.31743, 0.53932, 0.58134, 0.68256, 0.78223, 0.81431, 0.82391, 0.82482, 0.82728, 0.85384, 0.85237, 0.80818, 0.85301, 0.89135, 0.87056, 0.85376, 0.89757, 0.87455, 0.88028, 0.87974, 0.86696, 0.86711]\n",
            "[]\n",
            "tensor(0.0683, device='cuda:0', grad_fn=<NllLossBackward0>)\n",
            "[0.1, 0.31743, 0.53932, 0.58134, 0.68256, 0.78223, 0.81431, 0.82391, 0.82482, 0.82728, 0.85384, 0.85237, 0.80818, 0.85301, 0.89135, 0.87056, 0.85376, 0.89757, 0.87455, 0.88028, 0.87974, 0.86696, 0.86711, 0.85899]\n",
            "[]\n",
            "tensor(0.1176, device='cuda:0', grad_fn=<NllLossBackward0>)\n",
            "[0.1, 0.31743, 0.53932, 0.58134, 0.68256, 0.78223, 0.81431, 0.82391, 0.82482, 0.82728, 0.85384, 0.85237, 0.80818, 0.85301, 0.89135, 0.87056, 0.85376, 0.89757, 0.87455, 0.88028, 0.87974, 0.86696, 0.86711, 0.85899, 0.88041]\n",
            "[]\n",
            "Epochs:  [1, 2, 3, 4, 5, 6, 7, 8, 9, 10, 11, 12, 13, 14, 15, 16, 17, 18, 19, 20, 21, 22, 23, 24, 25]\n",
            "Train loss:  []\n",
            "Test loss:  [0.1, 0.31743, 0.53932, 0.58134, 0.68256, 0.78223, 0.81431, 0.82391, 0.82482, 0.82728, 0.85384, 0.85237, 0.80818, 0.85301, 0.89135, 0.87056, 0.85376, 0.89757, 0.87455, 0.88028, 0.87974, 0.86696, 0.86711, 0.85899, 0.88041]\n"
          ]
        }
      ],
      "source": [
        "\n",
        "# Initialize the MPS module\n",
        "student = MPS(\n",
        "    input_dim = 28 ** 2,\n",
        "    output_dim = 10,\n",
        "    bond_dim = bond_dim_HP\n",
        ").to(chosen_device) \n",
        "#student.register_feature_map(feature_map_HP)\n",
        "\n",
        "# Instantiate the optimizer and softmax\n",
        "student_optimizer = torch.optim.Adam(\n",
        "    student.parameters(), lr = student_lr_HP, weight_decay = student_reg_HP\n",
        ")\n",
        "\n",
        "# Used on the inputs before the loss function\n",
        "LogSoftmax = nn.LogSoftmax(dim=1)\n",
        "\n",
        "# Create an array to store the val loss\n",
        "# of the student at each epoch\n",
        "stud_test_loss = []\n",
        "stud_train_loss = []\n",
        "\n",
        "softmax = nn.Softmax(dim=1)\n",
        "# Training loop \n",
        "for epoch in range(nepochs_student_HP):\n",
        "    for (x_mb, y_mb) in train_iterator:\n",
        "        # Flatten the MNIST images, which come in matrix form\n",
        "        x_mb = x_mb.reshape(-1, 784).to(chosen_device)\n",
        "        y_mb = y_mb.to(chosen_device)\n",
        "\n",
        "        student_logits = student(x_mb) \n",
        "\n",
        "        # Backpropagation\n",
        "        loss = student_loss_HP( student_logits, y_mb)\n",
        "\n",
        "        student_optimizer.zero_grad()\n",
        "        loss.backward()\n",
        "        student_optimizer.step()\n",
        "\n",
        "    print(loss)\n",
        "\n",
        "    #stud_train_loss.append( round(get_acc(student, train_iterator).item(), 3) )\n",
        "    stud_test_loss.append( round( get_acc(student, test_iterator).item(), 5) )\n",
        "    print(stud_test_loss)\n",
        "    print(stud_train_loss)\n",
        "\n",
        "print(\"Epochs: \", np.arange(1, nepochs_student_HP+1).tolist())\n",
        "print(\"Train loss: \", stud_train_loss)\n",
        "print(\"Test loss: \", stud_test_loss)\n"
      ]
    }
  ],
  "metadata": {
    "accelerator": "GPU",
    "colab": {
      "provenance": []
    },
    "gpuClass": "standard",
    "kernelspec": {
      "display_name": "base",
      "language": "python",
      "name": "python3"
    },
    "language_info": {
      "codemirror_mode": {
        "name": "ipython",
        "version": 3
      },
      "file_extension": ".py",
      "mimetype": "text/x-python",
      "name": "python",
      "nbconvert_exporter": "python",
      "pygments_lexer": "ipython3",
      "version": "3.10.8"
    },
    "orig_nbformat": 4,
    "vscode": {
      "interpreter": {
        "hash": "67bfac4f4aefe1c16f1836a62d55b6e6baa7aba1ac5ce70e93ee8e90eb4f073a"
      }
    }
  },
  "nbformat": 4,
  "nbformat_minor": 0
}
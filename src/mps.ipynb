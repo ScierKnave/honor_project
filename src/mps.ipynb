{
  "cells": [
    {
      "cell_type": "code",
      "execution_count": 1,
      "metadata": {
        "colab": {
          "base_uri": "https://localhost:8080/"
        },
        "id": "hJYw8wfzOBhA",
        "outputId": "77eca381-dbc7-44a8-c017-e4aa4c59bfa9"
      },
      "outputs": [
        {
          "output_type": "stream",
          "name": "stdout",
          "text": [
            "Looking in indexes: https://pypi.org/simple, https://us-python.pkg.dev/colab-wheels/public/simple/\n",
            "Collecting git+https://github.com/ScierKnave/TorchMPS.git\n",
            "  Cloning https://github.com/ScierKnave/TorchMPS.git to /tmp/pip-req-build-1a5fb3jx\n",
            "  Running command git clone --filter=blob:none --quiet https://github.com/ScierKnave/TorchMPS.git /tmp/pip-req-build-1a5fb3jx\n",
            "  Resolved https://github.com/ScierKnave/TorchMPS.git to commit f716a08e15d0af50dbfdfc435ab9604e82562ea3\n",
            "  Preparing metadata (setup.py) ... \u001b[?25l\u001b[?25hdone\n",
            "Requirement already satisfied: torch>=1.8.1 in /usr/local/lib/python3.9/dist-packages (from torchmps==0.1.0) (2.0.0+cu118)\n",
            "Requirement already satisfied: opt_einsum>=3.3.0 in /usr/local/lib/python3.9/dist-packages (from torchmps==0.1.0) (3.3.0)\n",
            "Requirement already satisfied: numpy>=1.7 in /usr/local/lib/python3.9/dist-packages (from opt_einsum>=3.3.0->torchmps==0.1.0) (1.22.4)\n",
            "Requirement already satisfied: networkx in /usr/local/lib/python3.9/dist-packages (from torch>=1.8.1->torchmps==0.1.0) (3.0)\n",
            "Requirement already satisfied: jinja2 in /usr/local/lib/python3.9/dist-packages (from torch>=1.8.1->torchmps==0.1.0) (3.1.2)\n",
            "Requirement already satisfied: filelock in /usr/local/lib/python3.9/dist-packages (from torch>=1.8.1->torchmps==0.1.0) (3.10.7)\n",
            "Requirement already satisfied: triton==2.0.0 in /usr/local/lib/python3.9/dist-packages (from torch>=1.8.1->torchmps==0.1.0) (2.0.0)\n",
            "Requirement already satisfied: sympy in /usr/local/lib/python3.9/dist-packages (from torch>=1.8.1->torchmps==0.1.0) (1.11.1)\n",
            "Requirement already satisfied: typing-extensions in /usr/local/lib/python3.9/dist-packages (from torch>=1.8.1->torchmps==0.1.0) (4.5.0)\n",
            "Requirement already satisfied: cmake in /usr/local/lib/python3.9/dist-packages (from triton==2.0.0->torch>=1.8.1->torchmps==0.1.0) (3.25.2)\n",
            "Requirement already satisfied: lit in /usr/local/lib/python3.9/dist-packages (from triton==2.0.0->torch>=1.8.1->torchmps==0.1.0) (16.0.0)\n",
            "Requirement already satisfied: MarkupSafe>=2.0 in /usr/local/lib/python3.9/dist-packages (from jinja2->torch>=1.8.1->torchmps==0.1.0) (2.1.2)\n",
            "Requirement already satisfied: mpmath>=0.19 in /usr/local/lib/python3.9/dist-packages (from sympy->torch>=1.8.1->torchmps==0.1.0) (1.3.0)\n",
            "Building wheels for collected packages: torchmps\n",
            "  Building wheel for torchmps (setup.py) ... \u001b[?25l\u001b[?25hdone\n",
            "  Created wheel for torchmps: filename=torchmps-0.1.0-py3-none-any.whl size=59681 sha256=0fbe2bab859c92f83bdde7d4140722d4b8c17dea982d9819a95fa775b91819e5\n",
            "  Stored in directory: /tmp/pip-ephem-wheel-cache-6cip38a3/wheels/7c/97/ed/e7cfb0c73fec613f09c365db5a9b684875fdb85e8944240efc\n",
            "Successfully built torchmps\n",
            "Installing collected packages: torchmps\n",
            "Successfully installed torchmps-0.1.0\n",
            "Cloning into 'honor_project'...\n",
            "remote: Enumerating objects: 883, done.\u001b[K\n",
            "remote: Counting objects: 100% (172/172), done.\u001b[K\n",
            "remote: Compressing objects: 100% (142/142), done.\u001b[K\n",
            "remote: Total 883 (delta 111), reused 58 (delta 30), pack-reused 711\u001b[K\n",
            "Receiving objects: 100% (883/883), 35.72 MiB | 15.88 MiB/s, done.\n",
            "Resolving deltas: 100% (418/418), done.\n",
            "Looking in indexes: https://pypi.org/simple, https://us-python.pkg.dev/colab-wheels/public/simple/\n",
            "Collecting torchmetrics\n",
            "  Downloading torchmetrics-0.11.4-py3-none-any.whl (519 kB)\n",
            "\u001b[2K     \u001b[90m━━━━━━━━━━━━━━━━━━━━━━━━━━━━━━━━━━━━━━\u001b[0m \u001b[32m519.2/519.2 KB\u001b[0m \u001b[31m33.6 MB/s\u001b[0m eta \u001b[36m0:00:00\u001b[0m\n",
            "\u001b[?25hRequirement already satisfied: packaging in /usr/local/lib/python3.9/dist-packages (from torchmetrics) (23.0)\n",
            "Requirement already satisfied: torch>=1.8.1 in /usr/local/lib/python3.9/dist-packages (from torchmetrics) (2.0.0+cu118)\n",
            "Requirement already satisfied: numpy>=1.17.2 in /usr/local/lib/python3.9/dist-packages (from torchmetrics) (1.22.4)\n",
            "Requirement already satisfied: filelock in /usr/local/lib/python3.9/dist-packages (from torch>=1.8.1->torchmetrics) (3.10.7)\n",
            "Requirement already satisfied: triton==2.0.0 in /usr/local/lib/python3.9/dist-packages (from torch>=1.8.1->torchmetrics) (2.0.0)\n",
            "Requirement already satisfied: networkx in /usr/local/lib/python3.9/dist-packages (from torch>=1.8.1->torchmetrics) (3.0)\n",
            "Requirement already satisfied: jinja2 in /usr/local/lib/python3.9/dist-packages (from torch>=1.8.1->torchmetrics) (3.1.2)\n",
            "Requirement already satisfied: typing-extensions in /usr/local/lib/python3.9/dist-packages (from torch>=1.8.1->torchmetrics) (4.5.0)\n",
            "Requirement already satisfied: sympy in /usr/local/lib/python3.9/dist-packages (from torch>=1.8.1->torchmetrics) (1.11.1)\n",
            "Requirement already satisfied: cmake in /usr/local/lib/python3.9/dist-packages (from triton==2.0.0->torch>=1.8.1->torchmetrics) (3.25.2)\n",
            "Requirement already satisfied: lit in /usr/local/lib/python3.9/dist-packages (from triton==2.0.0->torch>=1.8.1->torchmetrics) (16.0.0)\n",
            "Requirement already satisfied: MarkupSafe>=2.0 in /usr/local/lib/python3.9/dist-packages (from jinja2->torch>=1.8.1->torchmetrics) (2.1.2)\n",
            "Requirement already satisfied: mpmath>=0.19 in /usr/local/lib/python3.9/dist-packages (from sympy->torch>=1.8.1->torchmetrics) (1.3.0)\n",
            "Installing collected packages: torchmetrics\n",
            "Successfully installed torchmetrics-0.11.4\n"
          ]
        }
      ],
      "source": [
        "%pip install \"git+https://github.com/ScierKnave/TorchMPS.git\"\n",
        "!git clone \"https://github.com/ScierKnave/honor_project.git\"\n",
        "import requests\n",
        "import numpy as np\n",
        "import torch\n",
        "import torch.nn as nn\n",
        "import torchvision\n",
        "import torchvision.transforms as transforms\n",
        "%pip install torchmetrics\n",
        "from torchmetrics.classification import MulticlassAccuracy\n",
        "from torchmps import MPS\n",
        "import math"
      ]
    },
    {
      "cell_type": "markdown",
      "metadata": {
        "id": "S4cYNyo4nE3j"
      },
      "source": [
        "# Hyperparameters"
      ]
    },
    {
      "cell_type": "code",
      "execution_count": 2,
      "metadata": {
        "id": "DtL7C860NJlr"
      },
      "outputs": [],
      "source": [
        "# Hardware hyperparameters\n",
        "chosen_device = torch.device('cuda' \n",
        "if torch.cuda.is_available() else 'cpu')\n",
        "\n",
        "# Data hyperparameters\n",
        "nb_train_HP = 2000\n",
        "nb_test_HP = 500\n",
        "batch_sz_HP = 150\n",
        "batch_sz_HP = min(batch_sz_HP, nb_train_HP)\n",
        "nb_classes_HP = 10\n",
        "\n",
        "# Student hyperparameters\n",
        "# MPS parameters\n",
        "bond_dim_HP = 10\n",
        "# USING CUSTOM FEATURE MAP WITH FORK?: YES\n",
        "\n",
        "# Training parameters\n",
        "nepochs_student_HP = 30 \n",
        "student_lr_HP = 1e-4\n",
        "student_reg_HP = 0\n",
        "student_loss_HP = nn.CrossEntropyLoss()\n"
      ]
    },
    {
      "cell_type": "markdown",
      "metadata": {
        "id": "gvJCqr8QnE3l"
      },
      "source": [
        "# Premilinaries: Importing the data and utils subroutines"
      ]
    },
    {
      "cell_type": "code",
      "execution_count": 3,
      "metadata": {
        "id": "34pmpVgSOBhB"
      },
      "outputs": [],
      "source": [
        "\n",
        "# Import the *common* mnist train set and create a batch iterator for it.\n",
        "train_set = torch.load('/content/honor_project/src/datasets/train_mnist.pt')\n",
        "train_iterator = torch.utils.data.DataLoader(\n",
        "    dataset = train_set, \n",
        "    sampler = torch.utils.data.SubsetRandomSampler(range(nb_train_HP)),\n",
        "    batch_size=batch_sz_HP\n",
        "    )\n",
        "\n",
        "# Import the mnist *common* test set and create a batch iterator for it.\n",
        "test_set = torch.load('/content/honor_project/src/datasets/test_mnist.pt')\n",
        "test_iterator = torch.utils.data.DataLoader(\n",
        "    dataset = test_set, \n",
        "    sampler = torch.utils.data.SubsetRandomSampler(range(nb_test_HP)),\n",
        "    batch_size = batch_sz_HP\n",
        "    )"
      ]
    },
    {
      "cell_type": "code",
      "execution_count": 4,
      "metadata": {
        "id": "NlVDkr_-nE3l"
      },
      "outputs": [],
      "source": [
        "# Returns the validation set classification accuracy\n",
        "# of the given input model (this is a higher order function)\n",
        "def get_acc(model, iterator, dataset_size):\n",
        "    # Get the validation set classification accuracy\n",
        "    total_good_classifications = 0\n",
        "    acc_metric = MulticlassAccuracy(num_classes=nb_classes_HP).to(chosen_device)\n",
        "    for (x_mb, y_mb) in iterator:\n",
        "        x_mb = x_mb.reshape(-1, 784).to(chosen_device)\n",
        "        y_mb = y_mb.to(chosen_device)\n",
        "        # Add the number of datapoints we classified right to the total\n",
        "        batch_size = x_mb.size()[0]\n",
        "        y_hat = model(x_mb)\n",
        "        batch_good_classifications = batch_size * acc_metric(y_hat, y_mb)\n",
        "        total_good_classifications += batch_good_classifications\n",
        "    return total_good_classifications / dataset_size # divide by total size"
      ]
    },
    {
      "cell_type": "markdown",
      "metadata": {
        "id": "acY6Jwc7nE3o"
      },
      "source": [
        "# Training the student model"
      ]
    },
    {
      "cell_type": "code",
      "execution_count": 5,
      "metadata": {
        "colab": {
          "base_uri": "https://localhost:8080/"
        },
        "id": "ZKdeyavpUl2B",
        "outputId": "206fce4e-023b-4af4-acdc-6e9e1ffb5c28"
      },
      "outputs": [
        {
          "output_type": "stream",
          "name": "stdout",
          "text": [
            "\n",
            " Training and testing of model  1  in progress...\n",
            "Train loss:  [0.1    0.1209 0.3851 0.5417 0.6169 0.7421 0.8319 0.8413 0.8728 0.8789\n",
            " 0.904  0.9265 0.928  0.9397 0.9546 0.9413 0.9538 0.9456 0.9633 0.9725\n",
            " 0.9656 0.9605 0.9709 0.9786 0.978  0.9763 0.9868 0.9908 0.993  0.9961]\n",
            "Test loss:  [0.1    0.126  0.3874 0.51   0.6091 0.7569 0.8409 0.8523 0.8507 0.8339\n",
            " 0.8607 0.9004 0.8839 0.8719 0.9026 0.8725 0.9003 0.8761 0.8993 0.9013\n",
            " 0.9099 0.8882 0.8941 0.914  0.9198 0.9103 0.9141 0.9275 0.9085 0.9088]\n",
            "\n",
            " Training and testing of model  2  in progress...\n",
            "Train loss:  [0.1    0.1917 0.2096 0.1574 0.2688 0.4394 0.5415 0.675  0.7603 0.8243\n",
            " 0.8682 0.8956 0.8661 0.9122 0.9285 0.9299 0.9354 0.9354 0.9549 0.9585\n",
            " 0.9636 0.9618 0.9682 0.9769 0.9734 0.9803 0.9849 0.9736 0.9831 0.9932]\n",
            "Test loss:  [0.1    0.2007 0.2041 0.171  0.2592 0.4283 0.5607 0.6876 0.7689 0.8186\n",
            " 0.8818 0.8852 0.8579 0.8747 0.888  0.8988 0.8565 0.8993 0.8837 0.9041\n",
            " 0.9076 0.9112 0.9179 0.9063 0.9026 0.9214 0.9164 0.9122 0.9164 0.9142]\n",
            "\n",
            " Training and testing of model  3  in progress...\n",
            "Train loss:  [0.1    0.3886 0.6493 0.6818 0.8061 0.8361 0.86   0.8945 0.9101 0.9066\n",
            " 0.9212 0.9379 0.9356 0.9362 0.9457 0.9625 0.954  0.954  0.9547 0.9669\n",
            " 0.9718 0.982  0.9844 0.9869 0.9832 0.9297 0.9836 0.9785 0.9822 0.9915]\n",
            "Test loss:  [0.1    0.3737 0.6269 0.6943 0.7889 0.8307 0.8417 0.8695 0.8708 0.8522\n",
            " 0.9004 0.8742 0.8926 0.8803 0.8757 0.9021 0.8858 0.8982 0.8956 0.9047\n",
            " 0.9032 0.9134 0.9085 0.9099 0.9067 0.8847 0.9005 0.906  0.9053 0.9109]\n",
            "\n",
            " Training and testing of model  4  in progress...\n",
            "Train loss:  [0.171  0.1809 0.3102 0.5221 0.693  0.7922 0.8511 0.859  0.8564 0.8957\n",
            " 0.8936 0.9006 0.9044 0.9389 0.9402 0.9572 0.9575 0.9627 0.9588 0.9614\n",
            " 0.9665 0.9639 0.9536 0.9852 0.9867 0.9762 0.9397 0.9843 0.9706 0.9854]\n",
            "Test loss:  [0.1828 0.1854 0.2925 0.5321 0.7078 0.7878 0.8658 0.846  0.8295 0.8612\n",
            " 0.8244 0.8819 0.8913 0.8943 0.8851 0.9126 0.9033 0.9003 0.9155 0.8756\n",
            " 0.911  0.9194 0.871  0.9147 0.9282 0.9123 0.844  0.9127 0.8943 0.9169]\n",
            "\n",
            " Training and testing of model  5  in progress...\n",
            "Train loss:  [0.1612 0.1    0.1    0.2366 0.4018 0.6606 0.7544 0.8148 0.873  0.8921\n",
            " 0.9083 0.9232 0.9325 0.9389 0.9456 0.9429 0.9496 0.965  0.9683 0.97\n",
            " 0.9773 0.9743 0.9702 0.9572 0.9804 0.9819 0.9592 0.9902 0.9794 0.9918]\n",
            "Test loss:  [0.1567 0.1    0.1    0.2343 0.4253 0.6644 0.776  0.8073 0.8532 0.861\n",
            " 0.863  0.8871 0.8985 0.8899 0.8925 0.8846 0.8895 0.8956 0.9115 0.9051\n",
            " 0.8927 0.9055 0.8956 0.9016 0.9142 0.9211 0.9049 0.9011 0.9038 0.9227]\n"
          ]
        }
      ],
      "source": [
        "def train_a_student():\n",
        "  '''\n",
        "  Trains a student model.\n",
        "  '''\n",
        "\n",
        "  # Initialize the MPS module\n",
        "  student = MPS(\n",
        "      input_dim = 28 ** 2,\n",
        "      output_dim = 10,\n",
        "      bond_dim = bond_dim_HP\n",
        "  ).to(chosen_device) \n",
        "  #student.register_feature_map(feature_map_HP)\n",
        "\n",
        "  # Instantiate the optimizer and softmax\n",
        "  student_optimizer = torch.optim.Adam(\n",
        "      student.parameters(), lr = student_lr_HP, weight_decay = student_reg_HP\n",
        "  )\n",
        "\n",
        "  # Used on the inputs before the loss function\n",
        "  LogSoftmax = nn.LogSoftmax(dim=1)\n",
        "\n",
        "  # Create an array to store the val loss\n",
        "  # of the student at each epoch\n",
        "  stud_test_loss = np.array([])\n",
        "  stud_train_loss = np.array([])\n",
        "\n",
        "  softmax = nn.Softmax(dim=1)\n",
        "\n",
        "  stud_train_loss = np.array([])\n",
        "  stud_test_loss = np.array([])\n",
        "\n",
        "  for epoch in range(nepochs_student_HP):\n",
        "      '''\n",
        "      Training loop through the epochs.\n",
        "      '''\n",
        "      for (x_mb, y_mb) in train_iterator:\n",
        "          # Flatten the MNIST images, which come in matrix form\n",
        "          x_mb = x_mb.reshape(-1, 784).to(chosen_device)\n",
        "          y_mb = y_mb.to(chosen_device)\n",
        "\n",
        "          student_logits = student(x_mb) \n",
        "\n",
        "          # Backpropagation\n",
        "          loss = student_loss_HP( student_logits, y_mb)\n",
        "\n",
        "          student_optimizer.zero_grad()\n",
        "          loss.backward()\n",
        "          student_optimizer.step()\n",
        "\n",
        "      # Get accuracy over all test and training data for current epoch\n",
        "      train_current_accuracy = round( get_acc(student, train_iterator, nb_train_HP).item(), 4)\n",
        "      test_current_accuracy = round( get_acc(student, test_iterator, nb_test_HP).item(), 4)\n",
        "      stud_train_loss = np.append(stud_train_loss, train_current_accuracy)\n",
        "      stud_test_loss = np.append(stud_test_loss, test_current_accuracy)\n",
        "  return(stud_train_loss, stud_test_loss)\n",
        "\n",
        "\n",
        "# Repeat the training process in order to get the variance\n",
        "global_stud_test_loss = np.array([])\n",
        "global_stud_train_loss = np.array([])\n",
        "for i in range(20):\n",
        "  print(\"\\n Training and testing of model \", i+1, \" in progress...\")\n",
        "  (stud_train_loss, stud_test_loss) = train_a_student()\n",
        "  print(\"Train loss: \", stud_train_loss)\n",
        "  print(\"Test loss: \", stud_test_loss)\n",
        "  if (i == 0):\n",
        "    global_stud_train_loss = stud_train_loss\n",
        "    global_stud_test_loss = stud_test_loss\n",
        "  else:\n",
        "    global_stud_train_loss = np.vstack((global_stud_train_loss, stud_train_loss))\n",
        "    global_stud_test_loss = np.vstack((global_stud_test_loss, stud_test_loss))\n",
        "\n"
      ]
    },
    {
      "cell_type": "code",
      "source": [
        "# Print the final results and save them for the report.\n",
        "print(\"Final results\")\n",
        "print(\"Train loss: \", global_stud_train_loss)\n",
        "print(\"Test loss: \", global_stud_test_loss)\n",
        "\n",
        "np.save('20x_mps_trainloss_10bd', stud_train_loss)\n",
        "np.save('20x_mps_testloss_10bd', stud_test_loss)\n"
      ],
      "metadata": {
        "colab": {
          "base_uri": "https://localhost:8080/"
        },
        "id": "3tgy3iEDpKbY",
        "outputId": "09f1e6ab-4e2a-4875-b591-2f8b00542be9"
      },
      "execution_count": 6,
      "outputs": [
        {
          "output_type": "stream",
          "name": "stdout",
          "text": [
            "Final results\n",
            "Train loss:  [[0.1    0.1209 0.3851 0.5417 0.6169 0.7421 0.8319 0.8413 0.8728 0.8789\n",
            "  0.904  0.9265 0.928  0.9397 0.9546 0.9413 0.9538 0.9456 0.9633 0.9725\n",
            "  0.9656 0.9605 0.9709 0.9786 0.978  0.9763 0.9868 0.9908 0.993  0.9961]\n",
            " [0.1    0.1917 0.2096 0.1574 0.2688 0.4394 0.5415 0.675  0.7603 0.8243\n",
            "  0.8682 0.8956 0.8661 0.9122 0.9285 0.9299 0.9354 0.9354 0.9549 0.9585\n",
            "  0.9636 0.9618 0.9682 0.9769 0.9734 0.9803 0.9849 0.9736 0.9831 0.9932]\n",
            " [0.1    0.3886 0.6493 0.6818 0.8061 0.8361 0.86   0.8945 0.9101 0.9066\n",
            "  0.9212 0.9379 0.9356 0.9362 0.9457 0.9625 0.954  0.954  0.9547 0.9669\n",
            "  0.9718 0.982  0.9844 0.9869 0.9832 0.9297 0.9836 0.9785 0.9822 0.9915]\n",
            " [0.171  0.1809 0.3102 0.5221 0.693  0.7922 0.8511 0.859  0.8564 0.8957\n",
            "  0.8936 0.9006 0.9044 0.9389 0.9402 0.9572 0.9575 0.9627 0.9588 0.9614\n",
            "  0.9665 0.9639 0.9536 0.9852 0.9867 0.9762 0.9397 0.9843 0.9706 0.9854]\n",
            " [0.1612 0.1    0.1    0.2366 0.4018 0.6606 0.7544 0.8148 0.873  0.8921\n",
            "  0.9083 0.9232 0.9325 0.9389 0.9456 0.9429 0.9496 0.965  0.9683 0.97\n",
            "  0.9773 0.9743 0.9702 0.9572 0.9804 0.9819 0.9592 0.9902 0.9794 0.9918]]\n",
            "Test loss:  [[0.1    0.126  0.3874 0.51   0.6091 0.7569 0.8409 0.8523 0.8507 0.8339\n",
            "  0.8607 0.9004 0.8839 0.8719 0.9026 0.8725 0.9003 0.8761 0.8993 0.9013\n",
            "  0.9099 0.8882 0.8941 0.914  0.9198 0.9103 0.9141 0.9275 0.9085 0.9088]\n",
            " [0.1    0.2007 0.2041 0.171  0.2592 0.4283 0.5607 0.6876 0.7689 0.8186\n",
            "  0.8818 0.8852 0.8579 0.8747 0.888  0.8988 0.8565 0.8993 0.8837 0.9041\n",
            "  0.9076 0.9112 0.9179 0.9063 0.9026 0.9214 0.9164 0.9122 0.9164 0.9142]\n",
            " [0.1    0.3737 0.6269 0.6943 0.7889 0.8307 0.8417 0.8695 0.8708 0.8522\n",
            "  0.9004 0.8742 0.8926 0.8803 0.8757 0.9021 0.8858 0.8982 0.8956 0.9047\n",
            "  0.9032 0.9134 0.9085 0.9099 0.9067 0.8847 0.9005 0.906  0.9053 0.9109]\n",
            " [0.1828 0.1854 0.2925 0.5321 0.7078 0.7878 0.8658 0.846  0.8295 0.8612\n",
            "  0.8244 0.8819 0.8913 0.8943 0.8851 0.9126 0.9033 0.9003 0.9155 0.8756\n",
            "  0.911  0.9194 0.871  0.9147 0.9282 0.9123 0.844  0.9127 0.8943 0.9169]\n",
            " [0.1567 0.1    0.1    0.2343 0.4253 0.6644 0.776  0.8073 0.8532 0.861\n",
            "  0.863  0.8871 0.8985 0.8899 0.8925 0.8846 0.8895 0.8956 0.9115 0.9051\n",
            "  0.8927 0.9055 0.8956 0.9016 0.9142 0.9211 0.9049 0.9011 0.9038 0.9227]]\n"
          ]
        }
      ]
    }
  ],
  "metadata": {
    "accelerator": "GPU",
    "colab": {
      "provenance": []
    },
    "gpuClass": "standard",
    "kernelspec": {
      "display_name": "base",
      "language": "python",
      "name": "python3"
    },
    "language_info": {
      "codemirror_mode": {
        "name": "ipython",
        "version": 3
      },
      "file_extension": ".py",
      "mimetype": "text/x-python",
      "name": "python",
      "nbconvert_exporter": "python",
      "pygments_lexer": "ipython3",
      "version": "3.10.8"
    },
    "orig_nbformat": 4,
    "vscode": {
      "interpreter": {
        "hash": "67bfac4f4aefe1c16f1836a62d55b6e6baa7aba1ac5ce70e93ee8e90eb4f073a"
      }
    }
  },
  "nbformat": 4,
  "nbformat_minor": 0
}
{
  "cells": [
    {
      "cell_type": "code",
      "execution_count": 72,
      "metadata": {
        "colab": {
          "base_uri": "https://localhost:8080/"
        },
        "id": "hJYw8wfzOBhA",
        "outputId": "4ab3909c-2f9c-4bf4-f9b2-09bd47ba4af0"
      },
      "outputs": [
        {
          "output_type": "stream",
          "name": "stdout",
          "text": [
            "Looking in indexes: https://pypi.org/simple, https://us-python.pkg.dev/colab-wheels/public/simple/\n",
            "Collecting git+https://github.com/ScierKnave/TorchMPS.git\n",
            "  Cloning https://github.com/ScierKnave/TorchMPS.git to /tmp/pip-req-build-zhn8pj2k\n",
            "  Running command git clone --filter=blob:none --quiet https://github.com/ScierKnave/TorchMPS.git /tmp/pip-req-build-zhn8pj2k\n",
            "  Resolved https://github.com/ScierKnave/TorchMPS.git to commit f716a08e15d0af50dbfdfc435ab9604e82562ea3\n",
            "  Preparing metadata (setup.py) ... \u001b[?25l\u001b[?25hdone\n",
            "Requirement already satisfied: torch>=1.8.1 in /usr/local/lib/python3.9/dist-packages (from torchmps==0.1.0) (2.0.0+cu118)\n",
            "Requirement already satisfied: opt_einsum>=3.3.0 in /usr/local/lib/python3.9/dist-packages (from torchmps==0.1.0) (3.3.0)\n",
            "Requirement already satisfied: numpy>=1.7 in /usr/local/lib/python3.9/dist-packages (from opt_einsum>=3.3.0->torchmps==0.1.0) (1.22.4)\n",
            "Requirement already satisfied: networkx in /usr/local/lib/python3.9/dist-packages (from torch>=1.8.1->torchmps==0.1.0) (3.1)\n",
            "Requirement already satisfied: triton==2.0.0 in /usr/local/lib/python3.9/dist-packages (from torch>=1.8.1->torchmps==0.1.0) (2.0.0)\n",
            "Requirement already satisfied: jinja2 in /usr/local/lib/python3.9/dist-packages (from torch>=1.8.1->torchmps==0.1.0) (3.1.2)\n",
            "Requirement already satisfied: sympy in /usr/local/lib/python3.9/dist-packages (from torch>=1.8.1->torchmps==0.1.0) (1.11.1)\n",
            "Requirement already satisfied: typing-extensions in /usr/local/lib/python3.9/dist-packages (from torch>=1.8.1->torchmps==0.1.0) (4.5.0)\n",
            "Requirement already satisfied: filelock in /usr/local/lib/python3.9/dist-packages (from torch>=1.8.1->torchmps==0.1.0) (3.11.0)\n",
            "Requirement already satisfied: lit in /usr/local/lib/python3.9/dist-packages (from triton==2.0.0->torch>=1.8.1->torchmps==0.1.0) (16.0.1)\n",
            "Requirement already satisfied: cmake in /usr/local/lib/python3.9/dist-packages (from triton==2.0.0->torch>=1.8.1->torchmps==0.1.0) (3.25.2)\n",
            "Requirement already satisfied: MarkupSafe>=2.0 in /usr/local/lib/python3.9/dist-packages (from jinja2->torch>=1.8.1->torchmps==0.1.0) (2.1.2)\n",
            "Requirement already satisfied: mpmath>=0.19 in /usr/local/lib/python3.9/dist-packages (from sympy->torch>=1.8.1->torchmps==0.1.0) (1.3.0)\n",
            "Looking in indexes: https://pypi.org/simple, https://us-python.pkg.dev/colab-wheels/public/simple/\n",
            "Requirement already satisfied: torchmetrics in /usr/local/lib/python3.9/dist-packages (0.11.4)\n",
            "Requirement already satisfied: torch>=1.8.1 in /usr/local/lib/python3.9/dist-packages (from torchmetrics) (2.0.0+cu118)\n",
            "Requirement already satisfied: packaging in /usr/local/lib/python3.9/dist-packages (from torchmetrics) (23.0)\n",
            "Requirement already satisfied: numpy>=1.17.2 in /usr/local/lib/python3.9/dist-packages (from torchmetrics) (1.22.4)\n",
            "Requirement already satisfied: filelock in /usr/local/lib/python3.9/dist-packages (from torch>=1.8.1->torchmetrics) (3.11.0)\n",
            "Requirement already satisfied: sympy in /usr/local/lib/python3.9/dist-packages (from torch>=1.8.1->torchmetrics) (1.11.1)\n",
            "Requirement already satisfied: typing-extensions in /usr/local/lib/python3.9/dist-packages (from torch>=1.8.1->torchmetrics) (4.5.0)\n",
            "Requirement already satisfied: triton==2.0.0 in /usr/local/lib/python3.9/dist-packages (from torch>=1.8.1->torchmetrics) (2.0.0)\n",
            "Requirement already satisfied: networkx in /usr/local/lib/python3.9/dist-packages (from torch>=1.8.1->torchmetrics) (3.1)\n",
            "Requirement already satisfied: jinja2 in /usr/local/lib/python3.9/dist-packages (from torch>=1.8.1->torchmetrics) (3.1.2)\n",
            "Requirement already satisfied: cmake in /usr/local/lib/python3.9/dist-packages (from triton==2.0.0->torch>=1.8.1->torchmetrics) (3.25.2)\n",
            "Requirement already satisfied: lit in /usr/local/lib/python3.9/dist-packages (from triton==2.0.0->torch>=1.8.1->torchmetrics) (16.0.1)\n",
            "Requirement already satisfied: MarkupSafe>=2.0 in /usr/local/lib/python3.9/dist-packages (from jinja2->torch>=1.8.1->torchmetrics) (2.1.2)\n",
            "Requirement already satisfied: mpmath>=0.19 in /usr/local/lib/python3.9/dist-packages (from sympy->torch>=1.8.1->torchmetrics) (1.3.0)\n"
          ]
        }
      ],
      "source": [
        "%pip install \"git+https://github.com/ScierKnave/TorchMPS.git\"\n",
        "import numpy as np\n",
        "import torch\n",
        "import torch.nn as nn\n",
        "import torchvision\n",
        "import torchvision.transforms as transforms\n",
        "%pip install torchmetrics\n",
        "from torchmetrics.classification import MulticlassAccuracy\n",
        "from torchmps import MPS\n",
        "import math"
      ]
    },
    {
      "cell_type": "markdown",
      "metadata": {
        "id": "S4cYNyo4nE3j"
      },
      "source": [
        "# Hyperparameters"
      ]
    },
    {
      "cell_type": "code",
      "execution_count": 73,
      "metadata": {
        "id": "DtL7C860NJlr"
      },
      "outputs": [],
      "source": [
        "# FC to 2-MPS\n",
        "\n",
        "# Hardware hyperparameters\n",
        "chosen_device = torch.device('cuda' \n",
        "if torch.cuda.is_available() else 'cpu')\n",
        "\n",
        "# Data hyperparameters\n",
        "nb_train_HP = 2000\n",
        "nb_test_HP = 500\n",
        "batch_sz_HP = 150\n",
        "batch_sz_HP = min(batch_sz_HP, nb_train_HP)\n",
        "nb_classes_HP = 10\n",
        "\n",
        "# Teacher hyperparameters\n",
        "nepochs_teacher_HP = 40\n",
        "teacher_loss_HP = nn.CrossEntropyLoss()\n",
        "teacher_lr_HP = 1e-4\n",
        "teacher_reg_HP = 0.1\n",
        "teacher_hidden_size_HP = 18432\n",
        "# Student hyperparameters\n",
        "# MPS parameters\n",
        "bond_dim_HP = 10\n",
        "adaptive_mode_HP = False\n",
        "periodic_bc_HP = False\n",
        "\n",
        "# Training parameters\n",
        "nepochs_student_HP = 25 \n",
        "student_lr_HP = 1e-4\n",
        "student_reg_HP = 0.01\n",
        "student_loss_HP = nn.KLDivLoss(reduction = \"batchmean\", log_target = True)\n",
        "\n",
        "# Gaussian parameters\n",
        "gauss_epochs_HP = 0 # number of epochs with added gaussian noise\n",
        "gn_var_HP = 0.3 #added gaussian noise variance\n",
        "gn_mean_HP = 0 #added gaussian noise mean\n",
        "#nepochs_student_HP = 25 + gauss_epochs_HP\n"
      ]
    },
    {
      "cell_type": "markdown",
      "metadata": {
        "id": "gvJCqr8QnE3l"
      },
      "source": [
        "# Premilinaries: Importing the data and utils subroutines"
      ]
    },
    {
      "cell_type": "code",
      "execution_count": 74,
      "metadata": {
        "id": "34pmpVgSOBhB"
      },
      "outputs": [],
      "source": [
        "# Import the mnist train dataset\n",
        "train_set = torchvision.datasets.MNIST(\n",
        "    root = './datasets', train = True,   \n",
        "    transform = transforms.ToTensor(),  download = True )\n",
        "\n",
        "# Create a training batch iterator\n",
        "train_subset = torch.utils.data.SubsetRandomSampler(range(nb_train_HP))\n",
        "train_iterator = torch.utils.data.DataLoader(\n",
        "    dataset = train_set, \n",
        "    sampler = train_subset, batch_size=batch_sz_HP\n",
        "    )\n",
        "\n",
        "# Import the mnist test set\n",
        "test_set = torchvision.datasets.MNIST(\n",
        "    root = './datasets',\n",
        "    train = False, transform = transforms.ToTensor(),  download = True\n",
        "    )\n",
        "# Create a testing batch iterator\n",
        "test_subset = torch.utils.data.SubsetRandomSampler(range(nb_test_HP))\n",
        "test_iterator = torch.utils.data.DataLoader(\n",
        "    dataset = test_set, \n",
        "    sampler = test_subset, batch_size = batch_sz_HP\n",
        "    )"
      ]
    },
    {
      "cell_type": "code",
      "execution_count": 75,
      "metadata": {
        "id": "NlVDkr_-nE3l"
      },
      "outputs": [],
      "source": [
        "# Returns the validation set classification accuracy\n",
        "# of the given input model (this is a higher order function)\n",
        "def get_acc(model, iterator):\n",
        "    # Get the validation set classification accuracy\n",
        "    total_good_classifications = 0\n",
        "    acc_metric = MulticlassAccuracy(num_classes=nb_classes_HP).to(chosen_device)\n",
        "    for (x_mb, y_mb) in iterator:\n",
        "        x_mb = x_mb.to(chosen_device)\n",
        "        y_mb = y_mb.to(chosen_device)\n",
        "        # Add the number of datapoints we classified right to the total\n",
        "        batch_size = x_mb.size()[0]\n",
        "        y_hat = model(x_mb)\n",
        "        batch_good_classifications = batch_size * acc_metric(y_hat, y_mb)\n",
        "        total_good_classifications += batch_good_classifications\n",
        "    return total_good_classifications / nb_test_HP # divide by total size"
      ]
    },
    {
      "cell_type": "code",
      "execution_count": 76,
      "metadata": {
        "colab": {
          "base_uri": "https://localhost:8080/"
        },
        "id": "F-h7WlXnnmJV",
        "outputId": "d51e50db-3e62-460b-f50f-0354d26d7ac3"
      },
      "outputs": [
        {
          "output_type": "stream",
          "name": "stdout",
          "text": [
            "Teacher results:\n",
            "Epochs:  [1, 2, 3, 4, 5, 6, 7, 8, 9, 10, 11, 12, 13, 14, 15, 16, 17, 18, 19, 20, 21, 22, 23, 24, 25, 26, 27, 28, 29, 30, 31, 32, 33, 34, 35, 36, 37, 38, 39, 40]\n",
            "Train loss:  []\n",
            "Test loss:  [0.70517, 0.84256, 0.88623, 0.90287, 0.92864, 0.94642, 0.95169, 0.94947, 0.96408, 0.95141, 0.96894, 0.96202, 0.97315, 0.96537, 0.97036, 0.97069, 0.96812, 0.96699, 0.96767, 0.96589, 0.97197, 0.96946, 0.96875, 0.96889, 0.96826, 0.97941, 0.9645, 0.97137, 0.97188, 0.97057, 0.97159, 0.96885, 0.97211, 0.9691, 0.97243, 0.97081, 0.97197, 0.96658, 0.97066, 0.96931]\n"
          ]
        }
      ],
      "source": [
        "# Create the fcnn class\n",
        "import torch.nn as nn\n",
        "class FCNN(nn.Module):\n",
        "    def __init__(self):\n",
        "        super(FCNN, self).__init__()\n",
        "        self.conv1 = nn.Sequential(\n",
        "            nn.Conv2d(1, 128, 5),\n",
        "            nn.ReLU(),\n",
        "            nn.MaxPool2d(2)\n",
        "        )\n",
        "        self.conv2 = nn.Sequential(\n",
        "            nn.Conv2d(128, 64, 3),\n",
        "            nn.ReLU(),\n",
        "            nn.MaxPool2d(2)\n",
        "        )\n",
        "        self.lin1= nn.Linear(1600, 10)\n",
        "    def middleforward(self, x):\n",
        "      x = self.conv1(x)\n",
        "      x = torch.flatten(x, start_dim=1)\n",
        "      return x\n",
        "    def forward(self, x):\n",
        "      x = self.conv1(x)\n",
        "      x = self.conv2(x)\n",
        "      x = torch.flatten(x, start_dim=1)\n",
        "      x = self.lin1(x)\n",
        "      return x\n",
        "\n",
        "#Instantiate and put the model on the chosen device\n",
        "teacher = FCNN().to(chosen_device)\n",
        "\n",
        "#Instantiate the optimizer\n",
        "teacher_optimizer = torch.optim.Adam(teacher.parameters())\n",
        "\n",
        "# Create an array to store the val loss\n",
        "# of the student at each epoch\n",
        "teacher_test_loss = []\n",
        "teacher_train_loss = []\n",
        "\n",
        "# Training loop \n",
        "for epoch in range(nepochs_teacher_HP):\n",
        "    for (x_mb, y_mb) in train_iterator:\n",
        "        # Flatten the MNIST images, which come in matrix form\n",
        "        x_mb = x_mb.to(chosen_device)\n",
        "        y_mb = y_mb.to(chosen_device)\n",
        "\n",
        "        teacher_output = teacher(x_mb) \n",
        "\n",
        "        # Backpropagation\n",
        "        loss = teacher_loss_HP(teacher_output, y_mb)\n",
        "        loss.backward()\n",
        "        teacher_optimizer.step()\n",
        "        teacher_optimizer.zero_grad()\n",
        "\n",
        "    #teacher_train_loss.append( round(get_acc(teacher, train_iterator).item(), 3) )\n",
        "    teacher_test_loss.append( round(get_acc(teacher, test_iterator).item(), 5) )\n",
        "\n",
        "print(\"Teacher results:\")\n",
        "print(\"Epochs: \", np.arange(1, nepochs_teacher_HP+1).tolist())\n",
        "print(\"Train loss: \", teacher_train_loss)\n",
        "print(\"Test loss: \", teacher_test_loss)\n"
      ]
    },
    {
      "cell_type": "markdown",
      "metadata": {
        "id": "acY6Jwc7nE3o"
      },
      "source": [
        "# Training the student model"
      ]
    },
    {
      "cell_type": "code",
      "execution_count": null,
      "metadata": {
        "id": "ZKdeyavpUl2B",
        "colab": {
          "base_uri": "https://localhost:8080/"
        },
        "outputId": "81a5e00c-88fe-48dc-ab8f-1e2999cc6759"
      },
      "outputs": [
        {
          "output_type": "stream",
          "name": "stdout",
          "text": [
            "[0.102]\n",
            "[]\n",
            "[0.102, 0.1]\n",
            "[]\n",
            "[0.102, 0.1, 0.10753]\n",
            "[]\n",
            "[0.102, 0.1, 0.10753, 0.1051]\n",
            "[]\n",
            "[0.102, 0.1, 0.10753, 0.1051, 0.1128]\n",
            "[]\n",
            "[0.102, 0.1, 0.10753, 0.1051, 0.1128, 0.1115]\n",
            "[]\n",
            "[0.102, 0.1, 0.10753, 0.1051, 0.1128, 0.1115, 0.11146]\n",
            "[]\n",
            "[0.102, 0.1, 0.10753, 0.1051, 0.1128, 0.1115, 0.11146, 0.10684]\n",
            "[]\n",
            "[0.102, 0.1, 0.10753, 0.1051, 0.1128, 0.1115, 0.11146, 0.10684, 0.10659]\n",
            "[]\n",
            "[0.102, 0.1, 0.10753, 0.1051, 0.1128, 0.1115, 0.11146, 0.10684, 0.10659, 0.10845]\n",
            "[]\n",
            "[0.102, 0.1, 0.10753, 0.1051, 0.1128, 0.1115, 0.11146, 0.10684, 0.10659, 0.10845, 0.10831]\n",
            "[]\n",
            "[0.102, 0.1, 0.10753, 0.1051, 0.1128, 0.1115, 0.11146, 0.10684, 0.10659, 0.10845, 0.10831, 0.10766]\n",
            "[]\n",
            "[0.102, 0.1, 0.10753, 0.1051, 0.1128, 0.1115, 0.11146, 0.10684, 0.10659, 0.10845, 0.10831, 0.10766, 0.10948]\n",
            "[]\n",
            "[0.102, 0.1, 0.10753, 0.1051, 0.1128, 0.1115, 0.11146, 0.10684, 0.10659, 0.10845, 0.10831, 0.10766, 0.10948, 0.1075]\n",
            "[]\n",
            "[0.102, 0.1, 0.10753, 0.1051, 0.1128, 0.1115, 0.11146, 0.10684, 0.10659, 0.10845, 0.10831, 0.10766, 0.10948, 0.1075, 0.10802]\n",
            "[]\n",
            "[0.102, 0.1, 0.10753, 0.1051, 0.1128, 0.1115, 0.11146, 0.10684, 0.10659, 0.10845, 0.10831, 0.10766, 0.10948, 0.1075, 0.10802, 0.1076]\n",
            "[]\n",
            "[0.102, 0.1, 0.10753, 0.1051, 0.1128, 0.1115, 0.11146, 0.10684, 0.10659, 0.10845, 0.10831, 0.10766, 0.10948, 0.1075, 0.10802, 0.1076, 0.10795]\n",
            "[]\n",
            "[0.102, 0.1, 0.10753, 0.1051, 0.1128, 0.1115, 0.11146, 0.10684, 0.10659, 0.10845, 0.10831, 0.10766, 0.10948, 0.1075, 0.10802, 0.1076, 0.10795, 0.10687]\n",
            "[]\n",
            "[0.102, 0.1, 0.10753, 0.1051, 0.1128, 0.1115, 0.11146, 0.10684, 0.10659, 0.10845, 0.10831, 0.10766, 0.10948, 0.1075, 0.10802, 0.1076, 0.10795, 0.10687, 0.10731]\n",
            "[]\n"
          ]
        }
      ],
      "source": [
        "class Student(nn.Module):\n",
        "    ''' \n",
        "    Our student model is a composition of two MPS.\n",
        "    '''\n",
        "    def __init__(self):\n",
        "        super(Student, self).__init__()\n",
        "        # Initialize the MPS modules\n",
        "        self.mps1 = MPS(\n",
        "            input_dim = 28 ** 2,\n",
        "            feature_dim = 2,\n",
        "            output_dim = teacher_hidden_size_HP,\n",
        "            bond_dim = bond_dim_HP,\n",
        "            init_std = 0.01\n",
        "          )\n",
        "\n",
        "        self.mps2 = MPS(\n",
        "          input_dim = teacher_hidden_size_HP, \n",
        "          feature_dim = 2,\n",
        "          output_dim = nb_classes_HP,\n",
        "          bond_dim = bond_dim_HP,\n",
        "          init_std = 0.01\n",
        "        )\n",
        "        \n",
        "    def forward(self, x):\n",
        "        x = x.reshape(-1, 784)\n",
        "        y = self.mps1(x)\n",
        "        y = self.mps2(y)\n",
        "        return y\n",
        "\n",
        "student = Student().to(chosen_device)\n",
        "\n",
        "\n",
        "# Create the optimizers for the training\n",
        "mps1_optimizer = torch.optim.Adam(\n",
        "    student.mps1.parameters(), lr = student_lr_HP, weight_decay = student_reg_HP\n",
        ")\n",
        "\n",
        "mps2_optimizer = torch.optim.Adam(\n",
        "    student.mps2.parameters(), lr = student_lr_HP, weight_decay = student_reg_HP\n",
        ")\n",
        "\n",
        "student_optimizer = torch.optim.Adam(\n",
        "    student.parameters(), lr = student_lr_HP, weight_decay = student_reg_HP\n",
        ")\n",
        "\n",
        "# Used on the inputs before the loss function\n",
        "LogSoftmax = nn.LogSoftmax(dim=1)\n",
        "\n",
        "# Create an array to store the val loss\n",
        "# of the student at each epoch\n",
        "stud_test_loss = []\n",
        "stud_train_loss = []\n",
        "\n",
        "\n",
        "\n",
        "mse_loss = nn.MSELoss()\n",
        "\n",
        "# Mps2 training loop \n",
        "for epoch in range(nepochs_student_HP * 4):\n",
        "    for (x_mb, y_mb) in train_iterator:\n",
        "        # Flatten the MNIST images, which come in matrix form\n",
        "        x_mb = x_mb.to(chosen_device)\n",
        "        y_mb = y_mb.to(chosen_device)\n",
        "\n",
        "        # Train mps1\n",
        "        if (epoch < nepochs_student_HP*2):\n",
        "          teacher_middle_output = teacher.middleforward(x_mb) \n",
        "          mps1_logits = student.mps1(x_mb.reshape(-1, 784)) \n",
        "          # Backpropagation\n",
        "          loss = mse_loss(mps1_logits, teacher_middle_output)\n",
        "          loss.backward()\n",
        "          mps1_optimizer.step()\n",
        "          mps1_optimizer.zero_grad()\n",
        "\n",
        "        # Train mps2\n",
        "        else:\n",
        "          student_output = LogSoftmax( student(x_mb.reshape(-1, 784)) )\n",
        "          teacher_output = LogSoftmax( teacher(x_mb.reshape(-1, 784)) )\n",
        "          # Backpropagation\n",
        "          loss = student_loss_HP(student_output, teacher_output)\n",
        "          loss.backward()\n",
        "          mps2_optimizer.step()\n",
        "          mps2_optimizer.zero_grad()\n",
        "\n",
        "\n",
        "    #stud_train_loss.append( round(get_acc(student, train_iterator).item(), 3) )\n",
        "    stud_test_loss.append( round(get_acc(student, test_iterator).item(), 5) )\n",
        "    print(stud_test_loss)\n",
        "    print(stud_train_loss)\n",
        "\n",
        "print(\"Student results:\")\n",
        "print(\"Epochs: \", np.arange(1, nepochs_student_HP+1).tolist())\n",
        "print(\"Train loss: \", stud_train_loss)\n",
        "print(\"Test loss: \", stud_test_loss)\n"
      ]
    }
  ],
  "metadata": {
    "accelerator": "GPU",
    "colab": {
      "provenance": []
    },
    "gpuClass": "standard",
    "kernelspec": {
      "display_name": "base",
      "language": "python",
      "name": "python3"
    },
    "language_info": {
      "codemirror_mode": {
        "name": "ipython",
        "version": 3
      },
      "file_extension": ".py",
      "mimetype": "text/x-python",
      "name": "python",
      "nbconvert_exporter": "python",
      "pygments_lexer": "ipython3",
      "version": "3.10.8"
    },
    "orig_nbformat": 4,
    "vscode": {
      "interpreter": {
        "hash": "67bfac4f4aefe1c16f1836a62d55b6e6baa7aba1ac5ce70e93ee8e90eb4f073a"
      }
    }
  },
  "nbformat": 4,
  "nbformat_minor": 0
}
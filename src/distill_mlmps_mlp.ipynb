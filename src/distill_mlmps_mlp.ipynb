{
  "cells": [
    {
      "cell_type": "code",
      "execution_count": 20,
      "metadata": {
        "colab": {
          "base_uri": "https://localhost:8080/"
        },
        "id": "hJYw8wfzOBhA",
        "outputId": "6b762f16-5662-4de0-98cb-c3899372cc20"
      },
      "outputs": [
        {
          "name": "stdout",
          "output_type": "stream",
          "text": [
            "Defaulting to user installation because normal site-packages is not writeable\n",
            "Collecting git+https://github.com/jemisjoky/TorchMPS.git\n",
            "  Cloning https://github.com/jemisjoky/TorchMPS.git to c:\\users\\piche\\appdata\\local\\temp\\pip-req-build-ezu5di9n\n",
            "  Resolved https://github.com/jemisjoky/TorchMPS.git to commit 6c0bc1a8e2c15acba8570ca9ffe2b4a0c7135165\n",
            "  Preparing metadata (setup.py): started\n",
            "  Preparing metadata (setup.py): finished with status 'done'\n",
            "Requirement already satisfied: torch>=1.8.1 in c:\\programdata\\miniconda3\\lib\\site-packages (from torchmps==0.1.0) (1.13.1)\n",
            "Requirement already satisfied: opt_einsum>=3.3.0 in c:\\users\\piche\\appdata\\roaming\\python\\python310\\site-packages (from torchmps==0.1.0) (3.3.0)\n",
            "Requirement already satisfied: numpy>=1.7 in c:\\programdata\\miniconda3\\lib\\site-packages (from opt_einsum>=3.3.0->torchmps==0.1.0) (1.23.5)\n",
            "Requirement already satisfied: typing_extensions in c:\\programdata\\miniconda3\\lib\\site-packages (from torch>=1.8.1->torchmps==0.1.0) (4.4.0)\n",
            "Note: you may need to restart the kernel to use updated packages.\n"
          ]
        },
        {
          "name": "stderr",
          "output_type": "stream",
          "text": [
            "  Running command git clone --filter=blob:none --quiet https://github.com/jemisjoky/TorchMPS.git 'C:\\Users\\piche\\AppData\\Local\\Temp\\pip-req-build-ezu5di9n'\n"
          ]
        },
        {
          "name": "stdout",
          "output_type": "stream",
          "text": [
            "Defaulting to user installation because normal site-packages is not writeable\n",
            "Requirement already satisfied: torchmetrics in c:\\users\\piche\\appdata\\roaming\\python\\python310\\site-packages (0.11.1)\n",
            "Requirement already satisfied: numpy>=1.17.2 in c:\\programdata\\miniconda3\\lib\\site-packages (from torchmetrics) (1.23.5)\n",
            "Requirement already satisfied: packaging in c:\\programdata\\miniconda3\\lib\\site-packages (from torchmetrics) (22.0)\n",
            "Requirement already satisfied: torch>=1.8.1 in c:\\programdata\\miniconda3\\lib\\site-packages (from torchmetrics) (1.13.1)\n",
            "Requirement already satisfied: typing_extensions in c:\\programdata\\miniconda3\\lib\\site-packages (from torch>=1.8.1->torchmetrics) (4.4.0)\n",
            "Note: you may need to restart the kernel to use updated packages.\n"
          ]
        }
      ],
      "source": [
        "%pip install \"git+https://github.com/jemisjoky/TorchMPS.git\"\n",
        "import torch\n",
        "import torch.nn as nn\n",
        "import torchvision\n",
        "import torchvision.transforms as transforms\n",
        "%pip install torchmetrics\n",
        "from torchmetrics.classification import MulticlassAccuracy\n",
        "from torchmps import MPS"
      ]
    },
    {
      "cell_type": "code",
      "execution_count": 21,
      "metadata": {},
      "outputs": [],
      "source": [
        "# Hardware hyperparameters\n",
        "chosen_device = torch.device('cuda' \n",
        "if torch.cuda.is_available() else 'cpu')\n",
        "\n",
        "# Data hyperparameters\n",
        "nb_train = 1\n",
        "nb_test = 1\n",
        "chosen_bs = 1\n",
        "input_size = 28*28\n",
        "nb_classes = 10\n",
        "\n",
        "# Teacher hyperparameters\n",
        "chosen_device = torch.device('cuda' if torch.cuda.is_available() else 'cpu')\n",
        "n_epochs_fcnn = 15\n",
        "hidden_size = 70\n",
        "chosen_loss = nn.CrossEntropyLoss()\n",
        "#Optimizer parameters\n",
        "chosen_lr = 0.001\n",
        "chosen_momentum = 0.9\n",
        "\n",
        "# Student hyperparameters\n",
        "# MPS parameters\n",
        "bond_dim = 20\n",
        "adaptive_mode = False\n",
        "periodic_bc = False\n",
        "feature_map = lambda x : torch.tensor([1, x]).to(chosen_device)\n",
        "feature_dim = 2\n",
        "# Training parameters\n",
        "gn_var = 0.3 #added gaussian noise variance\n",
        "gn_mean = 0 #added gaussian noise mean\n",
        "n_epochs_lmps = 1\n",
        "mps_learn_rate = 0.0001\n",
        "mps_reg = 0.0\n",
        "mps_chosen_loss = nn.CrossEntropyLoss().to(chosen_device)"
      ]
    },
    {
      "cell_type": "code",
      "execution_count": 22,
      "metadata": {
        "id": "34pmpVgSOBhB"
      },
      "outputs": [],
      "source": [
        "# Import the mnist dataset\n",
        "train_set = torchvision.datasets.MNIST(root = './datasets', train = True,   \n",
        "    transform = transforms.ToTensor(),  download = True )\n",
        "\n",
        "train_subset = torch.utils.data.SubsetRandomSampler(range(nb_train))\n",
        "\n",
        "train_iterator = torch.utils.data.DataLoader(dataset = train_set, \n",
        "    sampler = train_subset, batch_size=chosen_bs)\n",
        "\n",
        "\n",
        "test_set = torchvision.datasets.MNIST(root = './datasets',\n",
        " train = False, transform = transforms.ToTensor(),  download = True)\n",
        "\n",
        "test_subset = torch.utils.data.SubsetRandomSampler(range(nb_test))\n",
        "\n",
        "test_iterator = torch.utils.data.DataLoader(dataset = test_set, \n",
        "    sampler = test_subset, batch_size = chosen_bs)"
      ]
    },
    {
      "cell_type": "code",
      "execution_count": 25,
      "metadata": {
        "colab": {
          "base_uri": "https://localhost:8080/"
        },
        "id": "WfoH7MNKOBhC",
        "outputId": "37791a01-9236-4ce7-c63f-aefb4c11572a"
      },
      "outputs": [
        {
          "name": "stdout",
          "output_type": "stream",
          "text": [
            "2.215276002883911\n",
            "2.193106174468994\n",
            "2.172102689743042\n",
            "2.1547489166259766\n",
            "2.1366426944732666\n",
            "2.117540121078491\n",
            "2.096417188644409\n",
            "2.0728204250335693\n",
            "2.047276020050049\n",
            "2.018099069595337\n",
            "1.9847218990325928\n",
            "1.949305772781372\n",
            "1.9074835777282715\n",
            "1.859735369682312\n",
            "1.8056700229644775\n",
            "testing teacher\n",
            "tensor(0.)\n"
          ]
        }
      ],
      "source": [
        "\n",
        "# Create the fcnn class\n",
        "class FCNN(nn.Module):\n",
        "    def __init__(self):\n",
        "        super(FCNN, self).__init__()\n",
        "        self.relu = nn.ReLU()\n",
        "        self.lin1 = nn.Linear(784, hidden_size)\n",
        "        self.lin2 = nn.Linear(hidden_size, hidden_size)\n",
        "        self.lin3 = nn.Linear(hidden_size, hidden_size)\n",
        "        self.lin4 = nn.Linear(hidden_size, hidden_size)\n",
        "        self.lin5 = nn.Linear(hidden_size, hidden_size)\n",
        "        self.lin6 = nn.Linear(hidden_size, 10)\n",
        "\n",
        "    def middleforward(self, x):\n",
        "        y = self.lin1(x)\n",
        "        y = self.relu(y)\n",
        "        y = self.lin2(y)\n",
        "        y = self.relu(y)\n",
        "        y = self.lin3(y)\n",
        "        y = self.relu(y)\n",
        "        return y\n",
        "\n",
        "    def forward(self, x):\n",
        "        y = self.lin1(x)\n",
        "        y = self.relu(y)\n",
        "        y = self.lin2(y)\n",
        "        y = self.relu(y)\n",
        "        y = self.lin3(y)\n",
        "        y = self.relu(y)\n",
        "        y = self.lin4(y)\n",
        "        y = self.relu(y)\n",
        "        y = self.lin5(y)\n",
        "        y = self.relu(y)\n",
        "        y = self.lin6(y)\n",
        "        y = self.relu(y)\n",
        "        return y\n",
        "\n",
        "#Instantiate and put the model on the chosen device\n",
        "fcnn_teacher = FCNN().to(chosen_device)\n",
        "\n",
        "#Instantiate the optimizer\n",
        "optimizer = torch.optim.Adam(fcnn_teacher.parameters())\n",
        "\n",
        "#Training loop\n",
        "for epoch in range(n_epochs_fcnn):\n",
        "    for (x_mb, y_mb) in train_iterator:\n",
        "        # Reshape the train_tuple and put on the chosen device\n",
        "        x_mb = x_mb.reshape(-1, 784).to(chosen_device)\n",
        "        y_mb = y_mb.to(chosen_device)\n",
        "        # Foward propagation\n",
        "        y_hat_mb = fcnn_teacher(x_mb)\n",
        "        loss = chosen_loss(y_hat_mb, y_mb)\n",
        "        # Backpropagation\n",
        "        loss.backward()\n",
        "        optimizer.step()\n",
        "        optimizer.zero_grad()\n",
        "\n",
        "    print(loss.item())\n",
        "\n",
        "# get accuracy\n",
        "for (x_mb, y_mb) in test_iterator:\n",
        "    print(\"testing teacher\")\n",
        "    print(MulticlassAccuracy(num_classes=10)(fcnn_teacher(x_mb.reshape(-1, 784)), y_mb))\n",
        "\n"
      ]
    },
    {
      "cell_type": "code",
      "execution_count": 29,
      "metadata": {
        "colab": {
          "base_uri": "https://localhost:8080/"
        },
        "id": "ZKdeyavpUl2B",
        "outputId": "2e1f245e-ca31-4ff4-ca2c-27ae5aef09e3"
      },
      "outputs": [
        {
          "name": "stdout",
          "output_type": "stream",
          "text": [
            "4.248494625091553\n",
            "2.3025853633880615\n",
            "Student_acc_score:\n",
            "tensor(0.)\n"
          ]
        }
      ],
      "source": [
        "\n",
        "# Initialize the MPS modules\n",
        "student_mps1 = MPS(\n",
        "    input_dim = input_size,\n",
        "    feature_dim = feature_dim,\n",
        "    output_dim = hidden_size,\n",
        "    bond_dim = bond_dim,\n",
        "    adaptive_mode = adaptive_mode,\n",
        "    periodic_bc = periodic_bc,\n",
        ").to(chosen_device)\n",
        "student_mps1.register_feature_map(feature_map)\n",
        "\n",
        "student_mps2 = MPS(\n",
        "    input_dim = hidden_size, #crucial setting\n",
        "    feature_dim = feature_dim,\n",
        "    output_dim = nb_classes,\n",
        "    bond_dim = bond_dim,\n",
        "    adaptive_mode = adaptive_mode,\n",
        "    periodic_bc = periodic_bc,\n",
        ").to(chosen_device)\n",
        "student_mps2.register_feature_map(feature_map)\n",
        "\n",
        "def student(x):\n",
        "    return student_mps2( student_mps1(x) )\n",
        "\n",
        "\n",
        "# Instantiate the optimizer and softmax\n",
        "lmps1_optimizer = torch.optim.Adam(student_mps1.parameters(), lr = mps_learn_rate,\n",
        "                                  weight_decay = mps_reg)\n",
        "\n",
        "lmps2_optimizer = torch.optim.Adam(student_mps2.parameters(), lr = mps_learn_rate,\n",
        "                                  weight_decay = mps_reg)\n",
        "\n",
        "\n",
        "\n",
        "softmax = nn.Softmax(dim=1)\n",
        "\n",
        "# Training loop for the student_mps1\n",
        "for epoch in range(n_epochs_lmps):\n",
        "    for (x_mb, _) in train_iterator:\n",
        "        # Reshape, add gaussian noise, put on the chosen device\n",
        "        x_mb = x_mb.reshape(-1, 784).to(chosen_device)\n",
        "        x_mb = (x_mb + torch.randn(size=x_mb.size())).to(chosen_device)\n",
        "\n",
        "        # Get softmax of output of teacher in middlelayer!\n",
        "        y_mb = (softmax(fcnn_teacher.middleforward(x_mb))).to(chosen_device)\n",
        "\n",
        "        # Foward propagation\n",
        "        y_hat_mb = student_mps1(x_mb)\n",
        "        loss = mps_chosen_loss(y_hat_mb, y_mb)\n",
        "\n",
        "        # Backpropagation\n",
        "        loss.backward()\n",
        "        lmps1_optimizer.step()\n",
        "        lmps1_optimizer.zero_grad()\n",
        "\n",
        "    print(loss.item())\n",
        "\n",
        "# Training loop for the student_mps2\n",
        "for epoch in range(n_epochs_lmps):\n",
        "    for (x_mb, _) in train_iterator:\n",
        "        # Reshape, add gaussian noise, put on the chosen device\n",
        "        x_mb = x_mb.reshape(-1, 784).to(chosen_device)\n",
        "        x_mb = (x_mb + torch.randn(size=x_mb.size())).to(chosen_device)\n",
        "\n",
        "        # Get softmax of output of teacher\n",
        "        y_mb = ( softmax(fcnn_teacher(x_mb)) ).to(chosen_device)\n",
        "\n",
        "        # Foward propagation\n",
        "        y_hat_mb = student_mps1(x_mb)\n",
        "        # Apply second forward propagation on first output\n",
        "        y_hat_mb = student_mps2(y_hat_mb)\n",
        "        loss = mps_chosen_loss(y_hat_mb, y_mb)\n",
        "\n",
        "        # Backpropagation\n",
        "        loss.backward()\n",
        "        lmps2_optimizer.step()\n",
        "        lmps2_optimizer.zero_grad()\n",
        "\n",
        "    print(loss.item())\n",
        "\n",
        "\n",
        "\n",
        "# Get the validation set classification accuracy\n",
        "student_acc_score = 0\n",
        "student_acc_metric = MulticlassAccuracy(num_classes=nb_classes).to(chosen_device)\n",
        "for (x_mb, y_mb) in test_iterator:\n",
        "    x_mb = x_mb.reshape(-1, 784).to(chosen_device)\n",
        "    y_mb = y_mb.to(chosen_device)\n",
        "    # add the number of datapoints we classified right\n",
        "    student_acc_score += x_mb.size()[0] * student_acc_metric( student(x_mb), y_mb )\n",
        "print(\"Student_acc_score:\")\n",
        "print(student_acc_score / nb_test) #divide by total size\n"
      ]
    }
  ],
  "metadata": {
    "accelerator": "TPU",
    "colab": {
      "provenance": []
    },
    "gpuClass": "standard",
    "kernelspec": {
      "display_name": "base",
      "language": "python",
      "name": "python3"
    },
    "language_info": {
      "codemirror_mode": {
        "name": "ipython",
        "version": 3
      },
      "file_extension": ".py",
      "mimetype": "text/x-python",
      "name": "python",
      "nbconvert_exporter": "python",
      "pygments_lexer": "ipython3",
      "version": "3.10.8"
    },
    "orig_nbformat": 4,
    "vscode": {
      "interpreter": {
        "hash": "67bfac4f4aefe1c16f1836a62d55b6e6baa7aba1ac5ce70e93ee8e90eb4f073a"
      }
    }
  },
  "nbformat": 4,
  "nbformat_minor": 0
}

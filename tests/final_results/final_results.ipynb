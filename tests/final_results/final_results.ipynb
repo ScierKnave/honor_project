{
 "cells": [
  {
   "cell_type": "code",
   "execution_count": 6,
   "metadata": {},
   "outputs": [],
   "source": [
    "import matplotlib.pyplot as plt\n",
    "plt.style.use('dark_background')\n",
    "import numpy as np"
   ]
  },
  {
   "cell_type": "code",
   "execution_count": 7,
   "metadata": {},
   "outputs": [
    {
     "name": "stdout",
     "output_type": "stream",
     "text": [
      "[[0.45501731 0.28849568 0.45742992 0.02567647]\n",
      " [0.35728739 0.4219454  0.850416   0.16976766]\n",
      " [0.31108401 0.35614053 0.5169388  0.422134  ]\n",
      " [0.24834971 0.27433653 0.88997003 0.21854856]]\n",
      "0.020165991782731707\n",
      "0.20903167121018468\n"
     ]
    }
   ],
   "source": [
    "A = np.random.rand(4,4)\n",
    "print(A)\n",
    "\n",
    "print(A[:,-1].var(axis=0))\n",
    "print(A[:,-1].mean(axis=0))"
   ]
  },
  {
   "attachments": {},
   "cell_type": "markdown",
   "metadata": {},
   "source": [
    "# MPS"
   ]
  },
  {
   "cell_type": "code",
   "execution_count": 8,
   "metadata": {},
   "outputs": [
    {
     "name": "stdout",
     "output_type": "stream",
     "text": [
      "10\n",
      "0.897165\n",
      "0.00013383927499999992\n",
      "\n",
      "20\n",
      "0.9108750000000002\n",
      "0.0001289998750000001\n",
      "\n",
      "40\n",
      "0.91476\n",
      "8.15013999999999e-05\n",
      "80\n",
      "0.9161349999999999\n",
      "0.00031344027500000016\n",
      "\n"
     ]
    }
   ],
   "source": [
    "# 10 bond dimensions\n",
    "TRAIN = np.load(\"mps/20x_mps_trainloss_10bd.npy\")\n",
    "TEST = np.load(\"mps/20x_mps_testloss_10bd.npy\")\n",
    "\n",
    "print(10)\n",
    "print(TEST[:,-1].mean(axis=0))\n",
    "print(TEST[:,-1].var(axis=0))\n",
    "print()\n",
    "\n",
    "# 20 bond dimensions\n",
    "TRAIN = np.load(\"mps/20x_mps_trainloss_20bd.npy\")\n",
    "TEST = np.load(\"mps/20x_mps_testloss_20bd.npy\")\n",
    "\n",
    "print(20)\n",
    "print(TEST[:,-1].mean(axis=0))\n",
    "print(TEST[:,-1].var(axis=0))\n",
    "print()\n",
    "\n",
    "# 40 bond dimensions\n",
    "TRAIN = np.load(\"mps/20x_mps_trainloss_40bd.npy\")\n",
    "TEST = np.load(\"mps/20x_mps_testloss_40bd.npy\")\n",
    "\n",
    "print(40)\n",
    "print(TEST[:,-1].mean(axis=0))\n",
    "print(TEST[:,-1].var(axis=0))\n",
    "\n",
    "# 80 bond dimensions\n",
    "TRAIN = np.load(\"mps/20x_mps_trainloss_80bd.npy\")\n",
    "TEST = np.load(\"mps/20x_mps_testloss_80bd.npy\")\n",
    "\n",
    "print(80)\n",
    "print(TEST[:,-1].mean(axis=0))\n",
    "print(TEST[:,-1].var(axis=0))\n",
    "print()"
   ]
  },
  {
   "attachments": {},
   "cell_type": "markdown",
   "metadata": {},
   "source": [
    "# FC to MPS"
   ]
  },
  {
   "cell_type": "code",
   "execution_count": 9,
   "metadata": {},
   "outputs": [
    {
     "name": "stdout",
     "output_type": "stream",
     "text": [
      "10\n",
      "0.5407099999999999\n",
      "9.503989999999998e-05\n",
      "\n",
      "20\n",
      "0.5501699999999999\n",
      "9.326409999999986e-05\n",
      "\n",
      "40\n",
      "0.5558850000000001\n",
      "5.996927499999985e-05\n",
      "\n"
     ]
    }
   ],
   "source": [
    "# 10 bond dimensions\n",
    "TRAIN = np.load(\"fc_to_mps/20x_fc_to_mps_trainloss_10bd.npy\")\n",
    "TEST = np.load(\"fc_to_mps/20x_fc_to_mps_testloss_10bd.npy\")\n",
    "\n",
    "print(10)\n",
    "print(TEST[:,-1].mean(axis=0))\n",
    "print(TEST[:,-1].var(axis=0))\n",
    "print()\n",
    "\n",
    "# 20 bond dimensions\n",
    "TRAIN = np.load(\"fc_to_mps/20x_fc_to_mps_trainloss_20bd.npy\")\n",
    "TEST = np.load(\"fc_to_mps/20x_fc_to_mps_testloss_20bd.npy\")\n",
    "\n",
    "print(20)\n",
    "print(TEST[:,-1].mean(axis=0))\n",
    "print(TEST[:,-1].var(axis=0))\n",
    "print()\n",
    "\n",
    "# 40 bond dimensions\n",
    "TRAIN = np.load(\"fc_to_mps/20x_fc_to_mps_trainloss_40bd.npy\")\n",
    "TEST = np.load(\"fc_to_mps/20x_fc_to_mps_testloss_40bd.npy\")\n",
    "\n",
    "print(40)\n",
    "print(TEST[:,-1].mean(axis=0))\n",
    "print(TEST[:,-1].var(axis=0))\n",
    "print()\n",
    "\n",
    "# 80 bond dimensions\n"
   ]
  },
  {
   "attachments": {},
   "cell_type": "markdown",
   "metadata": {},
   "source": [
    "# CNN to MPS"
   ]
  },
  {
   "cell_type": "code",
   "execution_count": 10,
   "metadata": {},
   "outputs": [
    {
     "name": "stdout",
     "output_type": "stream",
     "text": [
      "10\n",
      "0.9056450000000001\n",
      "8.492547499999994e-05\n",
      "\n",
      "20\n",
      "0.924215\n",
      "6.765827499999991e-05\n",
      "\n",
      "40\n",
      "0.9405899999999999\n",
      "4.381590000000007e-05\n",
      "\n",
      "80\n",
      "0.9439799999999998\n",
      "7.354659999999998e-05\n",
      "\n"
     ]
    }
   ],
   "source": [
    "# 10 bond dimensions\n",
    "TRAIN = np.load(\"cnn_to_mps/20x_cnn_to_mps_trainloss10bd.npy\")\n",
    "TEST = np.load(\"cnn_to_mps/20x_cnn_to_mps_testloss10bd.npy\")\n",
    "\n",
    "print(10)\n",
    "print(TEST[:,-1].mean(axis=0))\n",
    "print(TEST[:,-1].var(axis=0))\n",
    "print()\n",
    "\n",
    "# 20 bond dimensions\n",
    "TRAIN = np.load(\"cnn_to_mps/20x_cnn_to_mps_trainloss20bd.npy\")\n",
    "TEST = np.load(\"cnn_to_mps/20x_cnn_to_mps_testloss20bd.npy\")\n",
    "\n",
    "print(20)\n",
    "print(TEST[:,-1].mean(axis=0))\n",
    "print(TEST[:,-1].var(axis=0))\n",
    "print()\n",
    "\n",
    "# 40 bond dimensions\n",
    "TRAIN = np.load(\"cnn_to_mps/20x_cnn_to_mps_trainloss40bd.npy\")\n",
    "TEST = np.load(\"cnn_to_mps/20x_cnn_to_mps_testloss40bd.npy\")\n",
    "\n",
    "print(40)\n",
    "print(TEST[:,-1].mean(axis=0))\n",
    "print(TEST[:,-1].var(axis=0))\n",
    "print()\n",
    "\n",
    "# 80 bond dimensions\n",
    "TRAIN = np.load(\"cnn_to_mps/20x_cnn_to_mps_trainloss80bd.npy\")\n",
    "TEST = np.load(\"cnn_to_mps/20x_cnn_to_mps_testloss80bd.npy\")\n",
    "\n",
    "print(80)\n",
    "print(TEST[:,-1].mean(axis=0))\n",
    "print(TEST[:,-1].var(axis=0))\n",
    "print()"
   ]
  }
 ],
 "metadata": {
  "kernelspec": {
   "display_name": "base",
   "language": "python",
   "name": "python3"
  },
  "language_info": {
   "codemirror_mode": {
    "name": "ipython",
    "version": 3
   },
   "file_extension": ".py",
   "mimetype": "text/x-python",
   "name": "python",
   "nbconvert_exporter": "python",
   "pygments_lexer": "ipython3",
   "version": "3.10.8"
  },
  "orig_nbformat": 4
 },
 "nbformat": 4,
 "nbformat_minor": 2
}
